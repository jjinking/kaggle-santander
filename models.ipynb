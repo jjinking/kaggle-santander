{
 "cells": [
  {
   "cell_type": "code",
   "execution_count": 1,
   "metadata": {
    "collapsed": false
   },
   "outputs": [],
   "source": [
    "%matplotlib inline\n",
    "%load_ext autoreload\n",
    "%autoreload 2\n",
    "import os\n",
    "import sys\n",
    "\n",
    "import csv\n",
    "import datetime\n",
    "import itertools\n",
    "import numpy as np\n",
    "import pandas as pd\n",
    "import random\n",
    "import re\n",
    "import sklearn\n",
    "import time\n",
    "from collections import defaultdict\n",
    "\n",
    "import matplotlib as mpl\n",
    "import matplotlib.pyplot as plt\n",
    "import seaborn as sns\n",
    "sns.set_style(\"whitegrid\")\n",
    "sns.set_context(rc={\n",
    "       \"figure.figsize\": (16, 10),\n",
    "       \"axes.titlesize\": 14})\n",
    "\n",
    "from IPython.display import Image, display\n",
    "from IPython.core.display import HTML\n",
    "HTML(\"<style>.container { width:100% !important; }</style>\")\n",
    "\n",
    "from os.path import expanduser\n",
    "sys.path.insert(1, '{}/datsci'.format(expanduser('~')))\n",
    "from datsci import eda, munge, ml\n",
    "from datsci import kaggle as kg"
   ]
  },
  {
   "cell_type": "code",
   "execution_count": 2,
   "metadata": {
    "collapsed": false
   },
   "outputs": [
    {
     "data": {
      "text/html": [
       "<style>.container { width:100% !important; }</style>"
      ],
      "text/plain": [
       "<IPython.core.display.HTML object>"
      ]
     },
     "execution_count": 2,
     "metadata": {},
     "output_type": "execute_result"
    }
   ],
   "source": [
    "HTML(\"<style>.container { width:100% !important; }</style>\")"
   ]
  },
  {
   "cell_type": "code",
   "execution_count": 3,
   "metadata": {
    "collapsed": true
   },
   "outputs": [],
   "source": [
    "FILE_TEST = 'data/test.csv'\n",
    "FILE_TRAIN = 'data/train.csv'\n",
    "FILE_TRAIN_DEDUP = 'data/train.dedup.csv'\n",
    "FILE_SAMPLE_SUBMIT = 'data/sample_submission.csv'"
   ]
  },
  {
   "cell_type": "code",
   "execution_count": 30,
   "metadata": {
    "collapsed": true
   },
   "outputs": [],
   "source": [
    "df_test = pd.read_csv(FILE_TEST, index_col='ID')"
   ]
  },
  {
   "cell_type": "markdown",
   "metadata": {},
   "source": [
    "## First submission - no processing"
   ]
  },
  {
   "cell_type": "code",
   "execution_count": 4,
   "metadata": {
    "collapsed": false
   },
   "outputs": [],
   "source": [
    "from sklearn.cross_validation import train_test_split\n",
    "\n",
    "# Read in data\n",
    "df = pd.read_csv(FILE_TRAIN, index_col='ID')\n",
    "\n",
    "# Split up the data\n",
    "target_col = 'TARGET'\n",
    "feature_cols = list(df.columns)\n",
    "feature_cols.remove(target_col)\n",
    "\n",
    "X_all = df[feature_cols]  # feature values for all students\n",
    "y_all = df[target_col]\n",
    "\n",
    "test_size = 0.3 # 30 percent\n",
    "X_train, X_test, y_train, y_test = train_test_split(\n",
    "    X_all, y_all, test_size=test_size, random_state=0, stratify=y_all)"
   ]
  },
  {
   "cell_type": "code",
   "execution_count": 16,
   "metadata": {
    "collapsed": false
   },
   "outputs": [],
   "source": [
    "from sklearn.svm import SVC\n",
    "from sklearn.neighbors import KNeighborsClassifier as KNC\n",
    "from sklearn.ensemble import RandomForestClassifier as RFC\n",
    "from sklearn.linear_model import LogisticRegression\n",
    "from sklearn.ensemble import AdaBoostClassifier as ABC\n",
    "from sklearn.ensemble import GradientBoostingClassifier as GBC\n",
    "from sklearn.linear_model import SGDClassifier as SGDClf\n",
    "\n",
    "from sklearn.metrics import f1_score\n",
    "from sklearn.metrics import accuracy_score\n",
    "\n",
    "\n",
    "# SGD with linear svm\n",
    "sgdclf_svm = SGDClf(loss='hinge', penalty='l2', alpha=0.0001, l1_ratio=0.15,\n",
    "                    n_iter=5, shuffle=True, n_jobs=1, random_state=0, learning_rate='optimal',\n",
    "                    power_t=0.5, class_weight=None, warm_start=False, average=False)\n",
    "\n",
    "# SGD with logistic regression\n",
    "sgdclf_logistic = SGDClf(loss='log', penalty='l2', alpha=0.0001, l1_ratio=0.15,\n",
    "                         n_iter=5, shuffle=True, n_jobs=1, random_state=0, learning_rate='optimal',\n",
    "                         power_t=0.5, class_weight=None, warm_start=False, average=False)\n",
    "\n",
    "descriptions_clfs = [\n",
    "    (\"SGD linear svm\", sgdclf_svm),\n",
    "    (\"SGD logistic\", sgdclf_logistic),\n",
    "#     (\"SVC Linear kernel\", SVC(C=1.0, kernel='linear', gamma='auto')),\n",
    "#     (\"SVC polynomial deg 2 kernel\", SVC(C=1.0, kernel='poly', degree=2, gamma='auto')),\n",
    "#     (\"SVC polynomial deg 3 kernel\", SVC(C=1.0, kernel='poly', degree=3, gamma='auto')),\n",
    "#     (\"SVC rbf kernel\", SVC(C=1.0, kernel='rbf', gamma='auto')),\n",
    "#     (\"KNeighbors, 3 neighbors\", KNC(n_neighbors=3, weights='uniform')),\n",
    "#     (\"RandomForest, 10 estimators\", RFC(n_estimators=10, max_depth=None, min_samples_split=2, n_jobs=2)),\n",
    "#     (\"LogisticRegression\", LogisticRegression(C=1.0, penalty='l2', random_state=0, multi_class='ovr', n_jobs=4)),\n",
    "#     (\"GradientBoostingClassifier\", GBC(loss='deviance', learning_rate=0.1, n_estimators=10, max_depth=None, min_samples_split=2)),\n",
    "#     (\"AdaBoostClassifier w SVC linear kernel\", ABC(SVC(C=1.0, kernel='linear', gamma='auto'), n_estimators=10, learning_rate=1.0, algorithm='SAMME'))\n",
    "]"
   ]
  },
  {
   "cell_type": "code",
   "execution_count": 6,
   "metadata": {
    "collapsed": true
   },
   "outputs": [],
   "source": [
    "no_processing_prelim_results = ml.train_predict(descriptions_clfs, X_train, y_train, X_test, y_test, scoring=f1_score)"
   ]
  },
  {
   "cell_type": "code",
   "execution_count": 7,
   "metadata": {
    "collapsed": false
   },
   "outputs": [
    {
     "data": {
      "text/html": [
       "<div>\n",
       "<table border=\"1\" class=\"dataframe\">\n",
       "  <thead>\n",
       "    <tr style=\"text-align: right;\">\n",
       "      <th></th>\n",
       "      <th>description</th>\n",
       "      <th>score_train</th>\n",
       "      <th>score_test</th>\n",
       "      <th>time_train</th>\n",
       "      <th>time_predict_train</th>\n",
       "      <th>time_predict_test</th>\n",
       "    </tr>\n",
       "  </thead>\n",
       "  <tbody>\n",
       "    <tr>\n",
       "      <th>0</th>\n",
       "      <td>SGD linear svm</td>\n",
       "      <td>0.0</td>\n",
       "      <td>0.002183</td>\n",
       "      <td>0.378594</td>\n",
       "      <td>0.103345</td>\n",
       "      <td>0.047913</td>\n",
       "    </tr>\n",
       "    <tr>\n",
       "      <th>1</th>\n",
       "      <td>SGD logistic</td>\n",
       "      <td>0.0</td>\n",
       "      <td>0.002193</td>\n",
       "      <td>0.369095</td>\n",
       "      <td>0.108437</td>\n",
       "      <td>0.028139</td>\n",
       "    </tr>\n",
       "  </tbody>\n",
       "</table>\n",
       "</div>"
      ],
      "text/plain": [
       "      description  score_train  score_test  time_train  time_predict_train  \\\n",
       "0  SGD linear svm          0.0    0.002183    0.378594            0.103345   \n",
       "1    SGD logistic          0.0    0.002193    0.369095            0.108437   \n",
       "\n",
       "   time_predict_test  \n",
       "0           0.047913  \n",
       "1           0.028139  "
      ]
     },
     "execution_count": 7,
     "metadata": {},
     "output_type": "execute_result"
    }
   ],
   "source": [
    "no_processing_prelim_results"
   ]
  },
  {
   "cell_type": "code",
   "execution_count": 23,
   "metadata": {
    "collapsed": false
   },
   "outputs": [
    {
     "name": "stdout",
     "output_type": "stream",
     "text": [
      "iteration 0\n",
      "Each iteration time(secs): 16.376\n",
      "iteration 1\n",
      "Each iteration time(secs): 17.869\n",
      "iteration 2\n",
      "Each iteration time(secs): 18.013\n"
     ]
    }
   ],
   "source": [
    "# SGD with linear svm\n",
    "sgdclf_svm = SGDClf(loss='hinge', penalty='l2', alpha=0.0001, l1_ratio=0.15,\n",
    "                    shuffle=True, n_jobs=1, random_state=0, learning_rate='optimal',\n",
    "                    power_t=0.5, class_weight=None, warm_start=False, average=False)\n",
    "\n",
    "best_score, best_model = ml.fine_tune_params(sgdclf_svm, X_train, y_train, X_test, y_test, {'n_iter': [10, 100]},\n",
    "                                             n_runs=3, n_cv=5, scoring=f1_score, n_jobs=1)"
   ]
  },
  {
   "cell_type": "code",
   "execution_count": 24,
   "metadata": {
    "collapsed": false
   },
   "outputs": [
    {
     "name": "stdout",
     "output_type": "stream",
     "text": [
      "0.00748362956034 10\n"
     ]
    }
   ],
   "source": [
    "print(best_score, best_model.n_iter)"
   ]
  },
  {
   "cell_type": "code",
   "execution_count": null,
   "metadata": {
    "collapsed": false
   },
   "outputs": [
    {
     "name": "stdout",
     "output_type": "stream",
     "text": [
      "iteration 0\n"
     ]
    }
   ],
   "source": [
    "# SGD with logistic regression\n",
    "sgdclf_logistic = SGDClf(loss='log', penalty='l2', alpha=0.0001, l1_ratio=0.15,\n",
    "                         shuffle=True, n_jobs=1, random_state=0, learning_rate='optimal',\n",
    "                         power_t=0.5, class_weight=None, warm_start=False, average=False)\n",
    "\n",
    "best_score, best_model = ml.fine_tune_params(sgdclf_logistic, X_train, y_train, X_test, y_test, {'n_iter': [100, 500, 1000]},\n",
    "                                             n_runs=3, n_cv=5, scoring=f1_score, n_jobs=1)"
   ]
  },
  {
   "cell_type": "code",
   "execution_count": 26,
   "metadata": {
    "collapsed": false
   },
   "outputs": [
    {
     "name": "stdout",
     "output_type": "stream",
     "text": [
      "0.00427807486631 100\n"
     ]
    }
   ],
   "source": [
    "print(best_score, best_model.n_iter)"
   ]
  },
  {
   "cell_type": "code",
   "execution_count": 26,
   "metadata": {
    "collapsed": false
   },
   "outputs": [
    {
     "name": "stdout",
     "output_type": "stream",
     "text": [
      "0.00427807486631 100\n"
     ]
    }
   ],
   "source": [
    "print(best_score, best_model.n_iter)"
   ]
  },
  {
   "cell_type": "code",
   "execution_count": 35,
   "metadata": {
    "collapsed": false
   },
   "outputs": [],
   "source": [
    "kg.save_submission(best_model.predict(df_test), 'submissions/unprocessed.sgd.csv')"
   ]
  },
  {
   "cell_type": "code",
   "execution_count": null,
   "metadata": {
    "collapsed": true
   },
   "outputs": [],
   "source": []
  }
 ],
 "metadata": {
  "kernelspec": {
   "display_name": "Python 3",
   "language": "python",
   "name": "python3"
  },
  "language_info": {
   "codemirror_mode": {
    "name": "ipython",
    "version": 3
   },
   "file_extension": ".py",
   "mimetype": "text/x-python",
   "name": "python",
   "nbconvert_exporter": "python",
   "pygments_lexer": "ipython3",
   "version": "3.5.1"
  }
 },
 "nbformat": 4,
 "nbformat_minor": 0
}
