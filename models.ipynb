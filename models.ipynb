{
 "cells": [
  {
   "cell_type": "code",
   "execution_count": 1,
   "metadata": {
    "collapsed": false
   },
   "outputs": [],
   "source": [
    "%matplotlib inline\n",
    "%load_ext autoreload\n",
    "%autoreload 2\n",
    "import os\n",
    "import sys\n",
    "\n",
    "import csv\n",
    "import datetime\n",
    "import itertools\n",
    "import numpy as np\n",
    "import pandas as pd\n",
    "import random\n",
    "import re\n",
    "import sklearn\n",
    "import time\n",
    "from collections import defaultdict\n",
    "\n",
    "import matplotlib as mpl\n",
    "import matplotlib.pyplot as plt\n",
    "import seaborn as sns\n",
    "sns.set_style(\"whitegrid\")\n",
    "sns.set_context(rc={\n",
    "       \"figure.figsize\": (16, 10),\n",
    "       \"axes.titlesize\": 14})\n",
    "\n",
    "from IPython.display import Image, display\n",
    "from IPython.core.display import HTML\n",
    "HTML(\"<style>.container { width:100% !important; }</style>\")\n",
    "\n",
    "from os.path import expanduser\n",
    "sys.path.insert(1, '{}/datsci'.format(expanduser('~')))\n",
    "from datsci import eda, munge, ml\n",
    "from datsci import kaggle as kg"
   ]
  },
  {
   "cell_type": "code",
   "execution_count": 2,
   "metadata": {
    "collapsed": true
   },
   "outputs": [],
   "source": [
    "import santander\n",
    "\n",
    "from sklearn.svm import SVC\n",
    "from sklearn.neighbors import KNeighborsClassifier as KNC\n",
    "from sklearn.ensemble import RandomForestClassifier as RFC\n",
    "from sklearn.ensemble import RandomForestRegressor as RFR\n",
    "from sklearn.linear_model import LogisticRegression\n",
    "from sklearn.ensemble import AdaBoostClassifier as ABC\n",
    "from sklearn.ensemble import GradientBoostingClassifier as GBC\n",
    "from sklearn.linear_model import SGDClassifier as SGDClf\n",
    "\n",
    "from sklearn.metrics import f1_score\n",
    "from sklearn.metrics import accuracy_score\n",
    "from sklearn.metrics import roc_auc_score\n",
    "from sklearn.metrics import roc_curve, auc\n",
    "from sklearn.metrics import make_scorer\n",
    "\n",
    "import xgboost as xgb"
   ]
  },
  {
   "cell_type": "markdown",
   "metadata": {},
   "source": [
    "## 1. Raw Data"
   ]
  },
  {
   "cell_type": "code",
   "execution_count": 33,
   "metadata": {
    "collapsed": false
   },
   "outputs": [],
   "source": [
    "# Read and split data\n",
    "X_train, y_train, X_test, y_test, feature_cols, df_train, df_test = santander.read_split(santander.FILE_TRAIN,\n",
    "                                                                                         santander.FILE_TEST)"
   ]
  },
  {
   "cell_type": "code",
   "execution_count": 17,
   "metadata": {
    "collapsed": false
   },
   "outputs": [],
   "source": [
    "# # SGD with linear svm\n",
    "# sgdclf_svm = SGDClf(loss='hinge', penalty='l2', alpha=0.0001, l1_ratio=0.15,\n",
    "#                     n_iter=5, shuffle=True, n_jobs=1, random_state=0, learning_rate='optimal',\n",
    "#                     power_t=0.5, class_weight=None, warm_start=False, average=False)\n",
    "\n",
    "# # SGD with logistic regression\n",
    "# sgdclf_logistic = SGDClf(loss='log', penalty='l2', alpha=0.0001, l1_ratio=0.15,\n",
    "#                          n_iter=5, shuffle=True, n_jobs=1, random_state=0, learning_rate='optimal',\n",
    "#                          power_t=0.5, class_weight=None, warm_start=False, average=False)\n",
    "\n",
    "# descriptions_clfs = [\n",
    "#     (\"SGD linear svm\", sgdclf_svm),\n",
    "#     (\"SGD logistic\", sgdclf_logistic),\n",
    "#     (\"SVC Linear kernel\", SVC(C=1.0, kernel='linear', gamma='auto')),\n",
    "#     (\"SVC polynomial deg 2 kernel\", SVC(C=1.0, kernel='poly', degree=2, gamma='auto')),\n",
    "#     (\"SVC polynomial deg 3 kernel\", SVC(C=1.0, kernel='poly', degree=3, gamma='auto')),\n",
    "#     (\"SVC rbf kernel\", SVC(C=1.0, kernel='rbf', gamma='auto')),\n",
    "#     (\"KNeighbors, 3 neighbors\", KNC(n_neighbors=3, weights='uniform')),\n",
    "#     (\"RFC, 10 trees\", RFC(n_estimators=10, max_depth=None, min_samples_split=2, n_jobs=4)),\n",
    "#     (\"RFR, 60 trees\", RFR(n_estimators=60, max_depth=None, min_samples_split=2, n_jobs=8)),\n",
    "#     (\"LogisticRegression\", LogisticRegression(C=1.0, penalty='l2', random_state=0, multi_class='ovr', n_jobs=4)),\n",
    "#     (\"GradientBoostingClassifier\", GBC(loss='deviance', learning_rate=0.1, n_estimators=10, max_depth=None, min_samples_split=2)),\n",
    "#     (\"AdaBoostClassifier w SVC linear kernel\", ABC(SVC(C=1.0, kernel='linear', gamma='auto'), n_estimators=10, learning_rate=1.0, algorithm='SAMME'))\n",
    "# ]"
   ]
  },
  {
   "cell_type": "code",
   "execution_count": 22,
   "metadata": {
    "collapsed": false
   },
   "outputs": [
    {
     "name": "stdout",
     "output_type": "stream",
     "text": [
      "+---+----------------------------+----------------+----------------+---------------+--------------------+-------------------+\n",
      "|   |        description         |  score_train   |   score_test   |   time_train  | time_predict_train | time_predict_test |\n",
      "+---+----------------------------+----------------+----------------+---------------+--------------------+-------------------+\n",
      "| 0 | GradientBoostingClassifier | 0.946571413377 | 0.535602898923 | 150.652132988 |   0.273437023163   |   0.110949993134  |\n",
      "+---+----------------------------+----------------+----------------+---------------+--------------------+-------------------+\n"
     ]
    }
   ],
   "source": [
    "descriptions_clfs = [\n",
    "    (\"GradientBoostingClassifier\", GBC(loss='deviance', learning_rate=0.1, n_estimators=10, max_depth=None, min_samples_split=2)),\n",
    "]\n",
    "no_processing_prelim_results = ml.train_predict(\n",
    "    descriptions_clfs, X_train, y_train, X_test, y_test, scorer=roc_auc_score)\n",
    "\n",
    "eda.pprint(no_processing_prelim_results)"
   ]
  },
  {
   "cell_type": "markdown",
   "metadata": {},
   "source": [
    "|    description     | score_train | score_test |   time_train  | time_predict_train | time_predict_test |\n",
    "|--------------------|-------------|------------|---------------|--------------------|-------------------|\n",
    "| LogisticRegression |     0.5     |  0.5       | 3.48322510719 |   0.116809129715   |  0.0402228832245  |\n",
    "| SGD linear svm     |     0.0     |  0.002183  | 0.378594      |   0.103345         |  0.047913         |\n",
    "| SGD logistic       |     0.0     |  0.002193  | 0.369095      |   0.108437         |  0.028139         |\n",
    "| RFC, 10  trees     |\t0.827815   |  0.083406  | 0.790865      |   0.24956          |  0.157566         |\n",
    "| RFC, 10  trees     | 0.859718579 | 0.51823037 | 0.60007190704 |   0.27322602272    |  0.155475139618   |\n",
    "| RFC, 50  trees     | 0.852189720 | 0.51933902 | 0.59852290153 |   0.24054980278    |  0.164301872253   |\n",
    "| RFC, 100 trees     | 0.855910125 | 0.51557289 | 0.58913993835 |   0.247822999954   |  0.163942098618   |\n",
    "| RFR, 10  trees     | 0.995971354 | 0.69631041 | 3.9711160659  |   0.294628143311   |  0.182307958603   |\n",
    "| RFR, 30  trees     | 0.996592169 | 0.74093666 | 9.39642286301 |   0.290091991425   |  0.176054954529   |\n",
    "| RFR, 40  trees     | 0.996521443 | 0.74854986 | 12.3622310162 |   0.289952039719   |  0.172476053238   |\n",
    "| RFR, 50  trees     | 0.996076029 | 0.70951576 | 4.8906700611  |   0.255952119827   |  0.165596961975   |\n",
    "| RFR, 60  trees     | 0.997072592 | 0.75873464 | 16.9496002197 |   0.258872032166   |  0.16659617424    |\n",
    "| RFR, 100 trees     | 0.996139285 | 0.70160749 | 4.0920510292  |   0.255863189697   |  0.167984962463   |\n",
    "| GradientBoostClf   | 0.946571413 | 0.53560289 | 150.652132988 |   0.273437023163   |  0.110949993134   |"
   ]
  },
  {
   "cell_type": "code",
   "execution_count": 66,
   "metadata": {
    "collapsed": false,
    "scrolled": true
   },
   "outputs": [
    {
     "name": "stdout",
     "output_type": "stream",
     "text": [
      "iteration 0\n"
     ]
    },
    {
     "name": "stderr",
     "output_type": "stream",
     "text": [
      "/usr/local/lib/python3.5/site-packages/sklearn/externals/joblib/hashing.py:197: DeprecationWarning: Changing the shape of non-C contiguous array by\n",
      "descriptor assignment is deprecated. To maintain\n",
      "the Fortran contiguity of a multidimensional Fortran\n",
      "array, use 'a.T.view(...).T' instead\n",
      "  obj_bytes_view = obj.view(self.np.uint8)\n",
      "/usr/local/lib/python3.5/site-packages/sklearn/externals/joblib/hashing.py:197: DeprecationWarning: Changing the shape of non-C contiguous array by\n",
      "descriptor assignment is deprecated. To maintain\n",
      "the Fortran contiguity of a multidimensional Fortran\n",
      "array, use 'a.T.view(...).T' instead\n",
      "  obj_bytes_view = obj.view(self.np.uint8)\n",
      "/usr/local/lib/python3.5/site-packages/sklearn/externals/joblib/hashing.py:197: DeprecationWarning: Changing the shape of non-C contiguous array by\n",
      "descriptor assignment is deprecated. To maintain\n",
      "the Fortran contiguity of a multidimensional Fortran\n",
      "array, use 'a.T.view(...).T' instead\n",
      "  obj_bytes_view = obj.view(self.np.uint8)\n",
      "/usr/local/lib/python3.5/site-packages/sklearn/externals/joblib/hashing.py:197: DeprecationWarning: Changing the shape of non-C contiguous array by\n",
      "descriptor assignment is deprecated. To maintain\n",
      "the Fortran contiguity of a multidimensional Fortran\n",
      "array, use 'a.T.view(...).T' instead\n",
      "  obj_bytes_view = obj.view(self.np.uint8)\n",
      "/usr/local/lib/python3.5/site-packages/sklearn/externals/joblib/hashing.py:197: DeprecationWarning: Changing the shape of non-C contiguous array by\n",
      "descriptor assignment is deprecated. To maintain\n",
      "the Fortran contiguity of a multidimensional Fortran\n",
      "array, use 'a.T.view(...).T' instead\n",
      "  obj_bytes_view = obj.view(self.np.uint8)\n",
      "/usr/local/lib/python3.5/site-packages/sklearn/externals/joblib/hashing.py:197: DeprecationWarning: Changing the shape of non-C contiguous array by\n",
      "descriptor assignment is deprecated. To maintain\n",
      "the Fortran contiguity of a multidimensional Fortran\n",
      "array, use 'a.T.view(...).T' instead\n",
      "  obj_bytes_view = obj.view(self.np.uint8)\n"
     ]
    },
    {
     "name": "stdout",
     "output_type": "stream",
     "text": [
      "Each iteration time(secs): 1104.896\n",
      "CPU times: user 7min 22s, sys: 1.62 s, total: 7min 23s\n",
      "Wall time: 18min 24s\n"
     ]
    }
   ],
   "source": [
    "%%time\n",
    "\n",
    "# GridCV for Random Forest\n",
    "clf_rf = RFR(n_estimators=10, criterion='mse', max_depth=None, min_samples_split=2,\n",
    "             min_samples_leaf=1, min_weight_fraction_leaf=0.0, max_features='auto',\n",
    "             max_leaf_nodes=None, bootstrap=True, oob_score=False, n_jobs=2,\n",
    "             random_state=0, verbose=0, warm_start=False)\n",
    "\n",
    "param_grid = {\n",
    "    'n_estimators': [670, 690],\n",
    "    'max_depth': [9],\n",
    "}\n",
    "best_score, best_model = ml.fine_tune_params(clf_rf,\n",
    "                                             X_train.values, y_train.values,\n",
    "                                             X_test.values, y_test.values,\n",
    "                                             param_grid,\n",
    "                                             n_runs=1,\n",
    "                                             n_cv=3,\n",
    "                                             scorer=roc_auc_score,\n",
    "                                             n_jobs=4)"
   ]
  },
  {
   "cell_type": "code",
   "execution_count": 67,
   "metadata": {
    "collapsed": false
   },
   "outputs": [
    {
     "data": {
      "text/plain": [
       "(0.89544301238220747, 0.8346291833431333, 670, 9)"
      ]
     },
     "execution_count": 67,
     "metadata": {},
     "output_type": "execute_result"
    }
   ],
   "source": [
    "roc_auc_score(y_train, best_model.predict(X_train)), best_score, best_model.n_estimators, best_model.max_depth"
   ]
  },
  {
   "cell_type": "markdown",
   "metadata": {},
   "source": [
    "n_estimators | max_depth | train score | test score |\n",
    "-------------|-----------| ------------|------------|\n",
    "500          | 8         | 0.88057875  | 0.83468680 |\n",
    "600          | 9         | 0.89524552  | 0.83467362 |\n",
    "650          | 9         | 0.89546629  | 0.83467145 |\n",
    "670          | 9         | 0.89544301  | 0.83462918 |"
   ]
  },
  {
   "cell_type": "code",
   "execution_count": 68,
   "metadata": {
    "collapsed": true
   },
   "outputs": [],
   "source": [
    "kg.save_submission(best_model.predict(df_test), 'submissions/unprocessed.rfr.csv')"
   ]
  },
  {
   "cell_type": "markdown",
   "metadata": {},
   "source": [
    "## 2. Dedup data"
   ]
  },
  {
   "cell_type": "code",
   "execution_count": 16,
   "metadata": {
    "collapsed": false
   },
   "outputs": [],
   "source": [
    "df = pd.read_csv(FILE_TRAIN_DEDUP)\n",
    "df_test = pd.read_csv(FILE_TEST_DEDUP, index_col='ID')\n",
    "\n",
    "# Split up the data\n",
    "feature_cols = list(df.columns)\n",
    "feature_cols.remove(TARGET_COL)\n",
    "X_all = df[feature_cols]  # feature values for all students\n",
    "y_all = df[TARGET_COL]\n",
    "\n",
    "test_size = 0.3 # 30 percent\n",
    "X_train, X_test, y_train, y_test = train_test_split(\n",
    "    X_all, y_all, test_size=test_size, random_state=0, stratify=y_all)"
   ]
  },
  {
   "cell_type": "code",
   "execution_count": 112,
   "metadata": {
    "collapsed": false
   },
   "outputs": [
    {
     "name": "stdout",
     "output_type": "stream",
     "text": [
      "iteration 0\n",
      "Each iteration time(secs): 2523.339\n",
      "iteration 1\n",
      "Each iteration time(secs): 2475.204\n",
      "CPU times: user 13min 21s, sys: 2.18 s, total: 13min 23s\n",
      "Wall time: 1h 23min 18s\n"
     ]
    }
   ],
   "source": [
    "%%time\n",
    "\n",
    "# GridCV for Random Forest\n",
    "clf_rf = RFR(n_estimators=10, criterion='mse', max_depth=None, min_samples_split=2,\n",
    "             min_samples_leaf=1, min_weight_fraction_leaf=0.0, max_features='auto',\n",
    "             max_leaf_nodes=None, bootstrap=True, oob_score=False, n_jobs=2,\n",
    "             random_state=0, verbose=0, warm_start=False)\n",
    "\n",
    "param_grid = {\n",
    "    'n_estimators': [100, 300, 500, 700],\n",
    "    'max_depth': [8, 9, 10, 11, 12],\n",
    "}\n",
    "best_score, best_model = ml.fine_tune_params(clf_rf,\n",
    "                                             X_train, y_train,\n",
    "                                             X_test, y_test,\n",
    "                                             param_grid,\n",
    "                                             n_runs=2,\n",
    "                                             n_cv=3,\n",
    "                                             scorer=roc_auc_score,\n",
    "                                             n_jobs=4)"
   ]
  },
  {
   "cell_type": "code",
   "execution_count": 113,
   "metadata": {
    "collapsed": false
   },
   "outputs": [
    {
     "data": {
      "text/plain": [
       "(700, 9, 0.89549650488440458, 0.83470427610605369)"
      ]
     },
     "execution_count": 113,
     "metadata": {},
     "output_type": "execute_result"
    }
   ],
   "source": [
    "best_model.n_estimators, best_model.max_depth, roc_auc_score(y_train, best_model.predict(X_train)), best_score"
   ]
  },
  {
   "cell_type": "markdown",
   "metadata": {},
   "source": [
    "n_estimators | max_depth | train score | test score | gridcv params\n",
    "-------------|-----------|-------------|------------|-------------------------\n",
    "700          | 9         | 0.895496504 | 0.83470427 | [100, 300, 500, 700] [8, 9, 10, 11, 12]"
   ]
  },
  {
   "cell_type": "code",
   "execution_count": 117,
   "metadata": {
    "collapsed": true
   },
   "outputs": [],
   "source": [
    "kg.save_submission(best_model.predict(df_test), 'submissions/dedup.rfr.csv')"
   ]
  },
  {
   "cell_type": "markdown",
   "metadata": {},
   "source": [
    "## 3. Binary One-hot data"
   ]
  },
  {
   "cell_type": "code",
   "execution_count": 118,
   "metadata": {
    "collapsed": true
   },
   "outputs": [],
   "source": [
    "df = pd.read_csv(FILE_TRAIN_DEDUP_ONEHOT)\n",
    "df_test = pd.read_csv(FILE_TEST_DEDUP_ONEHOT, index_col='ID')\n",
    "\n",
    "# Split up the data\n",
    "feature_cols = list(df.columns)\n",
    "feature_cols.remove(TARGET_COL)\n",
    "X_all = df[feature_cols]  # feature values for all students\n",
    "y_all = df[TARGET_COL]\n",
    "\n",
    "test_size = 0.3 # 30 percent\n",
    "X_train, X_test, y_train, y_test = train_test_split(\n",
    "    X_all, y_all, test_size=test_size, random_state=0, stratify=y_all)"
   ]
  },
  {
   "cell_type": "markdown",
   "metadata": {},
   "source": [
    "### Random Forest"
   ]
  },
  {
   "cell_type": "code",
   "execution_count": 122,
   "metadata": {
    "collapsed": false
   },
   "outputs": [
    {
     "name": "stdout",
     "output_type": "stream",
     "text": [
      "iteration 0\n",
      "Each iteration time(secs): 565.568\n",
      "iteration 1\n",
      "Each iteration time(secs): 558.129\n",
      "CPU times: user 4min 27s, sys: 1.27 s, total: 4min 28s\n",
      "Wall time: 18min 43s\n"
     ]
    }
   ],
   "source": [
    "%%time\n",
    "\n",
    "# GridCV for Random Forest\n",
    "clf_rf = RFR(n_estimators=10, criterion='mse', max_depth=None, min_samples_split=2,\n",
    "             min_samples_leaf=1, min_weight_fraction_leaf=0.0, max_features='auto',\n",
    "             max_leaf_nodes=None, bootstrap=True, oob_score=False, n_jobs=2,\n",
    "             random_state=0, verbose=0, warm_start=False)\n",
    "\n",
    "param_grid = {\n",
    "    'n_estimators': [198, 200, 202],\n",
    "    'max_depth': [7, 8, 9],\n",
    "}\n",
    "best_score, best_model = ml.fine_tune_params(clf_rf,\n",
    "                                             X_train, y_train,\n",
    "                                             X_test, y_test,\n",
    "                                             param_grid,\n",
    "                                             n_runs=2,\n",
    "                                             n_cv=3,\n",
    "                                             scorer=roc_auc_score,\n",
    "                                             n_jobs=4)"
   ]
  },
  {
   "cell_type": "code",
   "execution_count": 123,
   "metadata": {
    "collapsed": false
   },
   "outputs": [
    {
     "data": {
      "text/plain": [
       "(200, 9, 0.89489814266356504, 0.83431332657190871)"
      ]
     },
     "execution_count": 123,
     "metadata": {},
     "output_type": "execute_result"
    }
   ],
   "source": [
    "best_model.n_estimators, best_model.max_depth, roc_auc_score(y_train, best_model.predict(X_train)), best_score"
   ]
  },
  {
   "cell_type": "markdown",
   "metadata": {},
   "source": [
    "n_estimators | max_depth | train score | test score | gridcv params\n",
    "-------------|-----------|-------------|------------|-------------------------\n",
    "670          | 9         | 0.89544301  | 0.8346291  | \n",
    "600          | 10        | 0.90956541  | 0.8348116  | \n",
    "620          | 8         | 0.88074159  | 0.8347549  | \n",
    "640          | 8         | 0.88078282  | 0.8347805  | \n",
    "637          | 8         | 0.88076901  | 0.8347447  | \n",
    "630          | 8         | 0.88076376  | 0.8347627  | \n",
    "615          | 9         | 0.89537483  | 0.8346972  | \n",
    "200          | 10        | 0.90902188  | 0.8347227  | [100, 200, 400, 600, 800], [5, 10, 15]\n",
    "200          | 9         | 0.89489814  | 0.8343133  | [190, 200, 210], [9, 10, 11]"
   ]
  },
  {
   "cell_type": "code",
   "execution_count": 124,
   "metadata": {
    "collapsed": true
   },
   "outputs": [],
   "source": [
    "kg.save_submission(best_model.predict(df_test), 'submissions/onehot.rfr.csv')"
   ]
  },
  {
   "cell_type": "markdown",
   "metadata": {},
   "source": [
    "### XGBoost"
   ]
  },
  {
   "cell_type": "code",
   "execution_count": 173,
   "metadata": {
    "collapsed": false
   },
   "outputs": [
    {
     "name": "stdout",
     "output_type": "stream",
     "text": [
      "iteration 0\n",
      "Each iteration time(secs): 1402.189\n",
      "iteration 1\n",
      "Each iteration time(secs): 1413.159\n",
      "CPU times: user 2h 52min 20s, sys: 2min 10s, total: 2h 54min 31s\n",
      "Wall time: 46min 55s\n"
     ]
    }
   ],
   "source": [
    "%%time\n",
    "\n",
    "# GridCV for Gradient Boost Model\n",
    "gbm = xgb.XGBRegressor(max_depth=3, n_estimators=300, learning_rate=0.05, nthread=4, objective='binary:logistic')\n",
    "\n",
    "param_grid = {\n",
    "    'n_estimators': [125, 130, 135, 140],\n",
    "    'max_depth': [4, 5, 6],\n",
    "    'learning_rate': [0.01, 0.05, 0.1],\n",
    "}\n",
    "best_score, best_model = ml.fine_tune_params(gbm,\n",
    "                                             X_train, y_train,\n",
    "                                             X_test, y_test,\n",
    "                                             param_grid,\n",
    "                                             n_runs=2,\n",
    "                                             n_cv=3,\n",
    "                                             scorer=roc_auc_score,\n",
    "                                             n_jobs=1)"
   ]
  },
  {
   "cell_type": "code",
   "execution_count": 174,
   "metadata": {
    "collapsed": false
   },
   "outputs": [
    {
     "data": {
      "text/plain": [
       "(135, 5, 0.05, 0.87986838755861196, 0.84089022989516715)"
      ]
     },
     "execution_count": 174,
     "metadata": {},
     "output_type": "execute_result"
    }
   ],
   "source": [
    "best_model.n_estimators, best_model.max_depth, best_model.learning_rate, roc_auc_score(y_train, best_model.predict(X_train)), best_score"
   ]
  },
  {
   "cell_type": "markdown",
   "metadata": {},
   "source": [
    "n_estimators | max_depth | learning_rate | train score | test score | gridcv params\n",
    "-------------|-----------|---------------|-------------|------------|-------------------------\n",
    "100          | 5         | 0.05          | 0.868801790 | 0.83883443 | [5, 10, 20, 50, 100], [3, 5, 10, 20]\n",
    " 90          | 5         | 0.05          | 0.868166755 | 0.83869731 | [80, 88, 90, 92, 100, 150, 200], [4, 5, 6, 7], [0.01, 0.05, 0.1]\n",
    " 92          | 5         | 0.1           | 0.887339605 | 0.84173848 | [88, 90, 92], [5], [0.01, 0.05, 0.1]\n",
    "110          | 5         | 0.05          | 0.874559700 | 0.83983068 | [90, 100, 110], [4, 5, 6], [0.01, 0.05, 0.1]\n",
    "110          | 5         | 0.05          | 0.874559700 | 0.83983068 | [110, 150], [5], [0.01, 0.05, 0.1]\n",
    "130          | 5         | 0.05          | 0.879366381 | 0.84081928 | [110, 120, 130, 150], [5], [0.05]\n",
    "135          | 5         | 0.05          | 0.879868387 | 0.84089022 | [125, 130, 135, 140], [4, 5, 6], [0.01, 0.05, 0.1]"
   ]
  },
  {
   "cell_type": "code",
   "execution_count": 176,
   "metadata": {
    "collapsed": true
   },
   "outputs": [],
   "source": [
    "kg.save_submission(best_model.predict(df_test), 'submissions/onehot.xgb.csv')"
   ]
  },
  {
   "cell_type": "markdown",
   "metadata": {},
   "source": [
    "## 4. Binary one-hot data with null values"
   ]
  },
  {
   "cell_type": "code",
   "execution_count": 177,
   "metadata": {
    "collapsed": true
   },
   "outputs": [],
   "source": [
    "df = pd.read_csv(FILE_TRAIN_DEDUP_ONEHOT_NA)\n",
    "df_test = pd.read_csv(FILE_TEST_DEDUP_ONEHOT_NA, index_col='ID')\n",
    "\n",
    "# Split up the data\n",
    "feature_cols = list(df.columns)\n",
    "feature_cols.remove(TARGET_COL)\n",
    "X_all = df[feature_cols]  # feature values for all students\n",
    "y_all = df[TARGET_COL]\n",
    "\n",
    "test_size = 0.3 # 30 percent\n",
    "X_train, X_test, y_train, y_test = train_test_split(\n",
    "    X_all, y_all, test_size=test_size, random_state=0, stratify=y_all)"
   ]
  },
  {
   "cell_type": "code",
   "execution_count": 201,
   "metadata": {
    "collapsed": false
   },
   "outputs": [
    {
     "name": "stdout",
     "output_type": "stream",
     "text": [
      "iteration 0\n",
      "Each iteration time(secs): 172.080\n",
      "iteration 1\n",
      "Each iteration time(secs): 170.245\n",
      "iteration 2\n",
      "Each iteration time(secs): 165.891\n",
      "CPU times: user 31min 20s, sys: 21.1 s, total: 31min 41s\n",
      "Wall time: 8min 28s\n"
     ]
    }
   ],
   "source": [
    "%%time\n",
    "\n",
    "# GridCV for Gradient Boost Model\n",
    "gbm = xgb.XGBRegressor(max_depth=3, n_estimators=300, learning_rate=0.05, nthread=4, objective='binary:logistic')\n",
    "\n",
    "param_grid = {\n",
    "    'n_estimators': [141],\n",
    "    'max_depth': [4, 5],\n",
    "    'learning_rate': [0.05],\n",
    "}\n",
    "best_score, best_model = ml.fine_tune_params(gbm,\n",
    "                                             X_train, y_train,\n",
    "                                             X_test, y_test,\n",
    "                                             param_grid,\n",
    "                                             n_runs=3,\n",
    "                                             n_cv=5,\n",
    "                                             scorer=roc_auc_score,\n",
    "                                             n_jobs=1)"
   ]
  },
  {
   "cell_type": "code",
   "execution_count": 202,
   "metadata": {
    "collapsed": false
   },
   "outputs": [
    {
     "name": "stdout",
     "output_type": "stream",
     "text": [
      "141 | 5 | 0.05 | 0.880618056537 | 0.841465768053\n"
     ]
    }
   ],
   "source": [
    "print(\" | \".join(map(str, (best_model.n_estimators,\n",
    "                           best_model.max_depth,\n",
    "                           best_model.learning_rate,\n",
    "                           roc_auc_score(y_train, best_model.predict(X_train)),\n",
    "                           best_score))))"
   ]
  },
  {
   "cell_type": "markdown",
   "metadata": {},
   "source": [
    "n_estimators | max_depth | learning_rate | train score | test score | gridcv params\n",
    "-------------|-----------|---------------|-------------|------------|-------------------------\n",
    "100          | 6         | 0.05          | 0.888631658 | 0.84085649 | [100, 200, 300], [4, 5, 6], [0.01, 0.05, 0.1]\n",
    "120          | 6         | 0.05          | 0.894453891 | 0.84104419 | [80, 100, 120], [6, 8], [0.05]\n",
    "140          | 6         | 0.05          | 0.898613578 | 0.84165479 | [120, 130, 140], [6, 7], [0.05]\n",
    "142          | 6         | 0.05          | 0.898735910 | 0.84169320 | [140, 142, 144], [6], [0.05]\n",
    "141          | 5         | 0.05          | 0.880618056 | 0.84146576 | [141, 142], [4, 5, 6, 7], [0.03, 0.05, 0.07]"
   ]
  },
  {
   "cell_type": "code",
   "execution_count": 203,
   "metadata": {
    "collapsed": true
   },
   "outputs": [],
   "source": [
    "# kg.save_submission(best_model.predict(df_test), 'submissions/onehot.na.xgb.csv')  # Score 0.834738"
   ]
  },
  {
   "cell_type": "code",
   "execution_count": 204,
   "metadata": {
    "collapsed": true
   },
   "outputs": [],
   "source": [
    "gbm = xgb.XGBRegressor(max_depth=best_model.max_depth,\n",
    "                       n_estimators=best_model.n_estimators,\n",
    "                       learning_rate=best_model.learning_rate,\n",
    "                       nthread=4, objective='binary:logistic')\n",
    "kg.save_submission(gbm.fit(X_all, y_all).predict(df_test), 'submissions/onehot.na.xgb.csv')  # 0.837339 Best Score"
   ]
  },
  {
   "cell_type": "markdown",
   "metadata": {},
   "source": [
    "## 5. Imputed values"
   ]
  },
  {
   "cell_type": "markdown",
   "metadata": {},
   "source": [
    "### Mean"
   ]
  },
  {
   "cell_type": "code",
   "execution_count": 217,
   "metadata": {
    "collapsed": true
   },
   "outputs": [],
   "source": [
    "df = pd.read_csv(FILE_TRAIN_DEDUP_ONEHOT_NA_IMPUTE_MEAN)\n",
    "df_test = pd.read_csv(FILE_TEST_DEDUP_ONEHOT_NA_IMPUTE_MEAN, index_col='ID')\n",
    "\n",
    "# Split up the data\n",
    "feature_cols = list(df.columns)\n",
    "feature_cols.remove(TARGET_COL)\n",
    "X_all = df[feature_cols]  # feature values for all students\n",
    "y_all = df[TARGET_COL]\n",
    "\n",
    "test_size = 0.3 # 30 percent\n",
    "X_train, X_test, y_train, y_test = train_test_split(\n",
    "    X_all, y_all, test_size=test_size, random_state=0, stratify=y_all)"
   ]
  },
  {
   "cell_type": "code",
   "execution_count": 208,
   "metadata": {
    "collapsed": false
   },
   "outputs": [
    {
     "name": "stdout",
     "output_type": "stream",
     "text": [
      "0.880659902718 0.841968837657\n"
     ]
    }
   ],
   "source": [
    "gbm = xgb.XGBRegressor(max_depth=5,\n",
    "                       n_estimators=141,\n",
    "                       learning_rate=0.05,\n",
    "                       nthread=4, objective='binary:logistic').fit(X_train, y_train)\n",
    "print(roc_auc_score(y_train, gbm.predict(X_train)), roc_auc_score(y_test, gbm.predict(X_test)))"
   ]
  },
  {
   "cell_type": "code",
   "execution_count": 226,
   "metadata": {
    "collapsed": false
   },
   "outputs": [
    {
     "name": "stdout",
     "output_type": "stream",
     "text": [
      "iteration 0\n",
      "Each iteration time(secs): 315.233\n",
      "iteration 1\n",
      "Each iteration time(secs): 315.710\n",
      "iteration 2\n",
      "Each iteration time(secs): 311.170\n",
      "CPU times: user 57min 41s, sys: 40.4 s, total: 58min 22s\n",
      "Wall time: 15min 42s\n"
     ]
    }
   ],
   "source": [
    "%%time\n",
    "\n",
    "# GridCV for Gradient Boost Model\n",
    "gbm = xgb.XGBRegressor(max_depth=3, n_estimators=300, learning_rate=0.05, nthread=4, objective='binary:logistic')\n",
    "\n",
    "param_grid = {\n",
    "    'n_estimators': [133, 134, 135, 136, 137],\n",
    "    'max_depth': [4],\n",
    "}\n",
    "best_score, best_model = ml.fine_tune_params(gbm,\n",
    "                                             X_train, y_train,\n",
    "                                             X_test, y_test,\n",
    "                                             param_grid,\n",
    "                                             n_runs=3,\n",
    "                                             n_cv=5,\n",
    "                                             scorer=roc_auc_score,\n",
    "                                             n_jobs=1)"
   ]
  },
  {
   "cell_type": "code",
   "execution_count": 227,
   "metadata": {
    "collapsed": false
   },
   "outputs": [
    {
     "name": "stdout",
     "output_type": "stream",
     "text": [
      "136 | 4 | 0.05 | 0.865859676089 | 0.841131570653\n"
     ]
    }
   ],
   "source": [
    "print(\" | \".join(map(str, (best_model.n_estimators,\n",
    "                           best_model.max_depth,\n",
    "                           best_model.learning_rate,\n",
    "                           roc_auc_score(y_train, best_model.predict(X_train)),\n",
    "                           best_score))))"
   ]
  },
  {
   "cell_type": "markdown",
   "metadata": {},
   "source": [
    "n_estimators | max_depth | learning_rate | train score | test score | gridcv params\n",
    "-------------|-----------|---------------|-------------|------------|-------------------------\n",
    "130          | 4         | 0.05          | 0.864654067 | 0.84096933 | [130, 141, 140], [4, 5, 6]\n",
    "135          | 4         | 0.05          | 0.865624889 | 0.84125372 | [120, 130, 135], [3, 4]\n",
    "136          | 4         | 0.05          | 0.865859676 | 0.84113157 | [133, 134, 135, 136, 137], [4]"
   ]
  },
  {
   "cell_type": "code",
   "execution_count": 228,
   "metadata": {
    "collapsed": true
   },
   "outputs": [],
   "source": [
    "gbm = xgb.XGBRegressor(max_depth=best_model.max_depth,\n",
    "                       n_estimators=best_model.n_estimators,\n",
    "                       learning_rate=best_model.learning_rate,\n",
    "                       nthread=4, objective='binary:logistic')\n",
    "kg.save_submission(gbm.fit(X_all, y_all).predict(df_test), 'submissions/impute_mean.xgb.csv')  # Score 0.836912"
   ]
  },
  {
   "cell_type": "markdown",
   "metadata": {},
   "source": [
    "### Median"
   ]
  },
  {
   "cell_type": "code",
   "execution_count": 231,
   "metadata": {
    "collapsed": true
   },
   "outputs": [],
   "source": [
    "df = pd.read_csv(FILE_TRAIN_DEDUP_ONEHOT_NA_IMPUTE_MEDIAN)\n",
    "df_test = pd.read_csv(FILE_TEST_DEDUP_ONEHOT_NA_IMPUTE_MEDIAN, index_col='ID')\n",
    "\n",
    "# Split up the data\n",
    "feature_cols = list(df.columns)\n",
    "feature_cols.remove(TARGET_COL)\n",
    "X_all = df[feature_cols]  # feature values for all students\n",
    "y_all = df[TARGET_COL]\n",
    "\n",
    "test_size = 0.3 # 30 percent\n",
    "X_train, X_test, y_train, y_test = train_test_split(\n",
    "    X_all, y_all, test_size=test_size, random_state=0, stratify=y_all)"
   ]
  },
  {
   "cell_type": "code",
   "execution_count": 210,
   "metadata": {
    "collapsed": false
   },
   "outputs": [
    {
     "name": "stdout",
     "output_type": "stream",
     "text": [
      "0.880854942816 0.841071531047\n"
     ]
    }
   ],
   "source": [
    "gbm = xgb.XGBRegressor(max_depth=5,\n",
    "                       n_estimators=141,\n",
    "                       learning_rate=0.05,\n",
    "                       nthread=4, objective='binary:logistic').fit(X_train, y_train)\n",
    "print(roc_auc_score(y_train, gbm.predict(X_train)), roc_auc_score(y_test, gbm.predict(X_test)))"
   ]
  },
  {
   "cell_type": "code",
   "execution_count": 241,
   "metadata": {
    "collapsed": false
   },
   "outputs": [
    {
     "name": "stdout",
     "output_type": "stream",
     "text": [
      "iteration 0\n",
      "Each iteration time(secs): 1881.581\n",
      "iteration 1\n",
      "Each iteration time(secs): 1879.215\n",
      "iteration 2\n",
      "Each iteration time(secs): 1883.218\n",
      "CPU times: user 5h 49min 9s, sys: 3min 30s, total: 5h 52min 39s\n",
      "Wall time: 1h 34min 4s\n"
     ]
    }
   ],
   "source": [
    "%%time\n",
    "\n",
    "# GridCV for Gradient Boost Model\n",
    "gbm = xgb.XGBRegressor(max_depth=3, n_estimators=300, learning_rate=0.05, nthread=4, objective='binary:logistic')\n",
    "\n",
    "param_grid = {\n",
    "    'n_estimators': [157, 158, 159],\n",
    "    'max_depth': [3, 4, 5],\n",
    "    'learning_rate': [0.025, 0.05, 0.075],\n",
    "}\n",
    "best_score, best_model = ml.fine_tune_params(gbm,\n",
    "                                             X_train, y_train,\n",
    "                                             X_test, y_test,\n",
    "                                             param_grid,\n",
    "                                             n_runs=3,\n",
    "                                             n_cv=5,\n",
    "                                             scorer=roc_auc_score,\n",
    "                                             n_jobs=1)"
   ]
  },
  {
   "cell_type": "code",
   "execution_count": 242,
   "metadata": {
    "collapsed": false
   },
   "outputs": [
    {
     "name": "stdout",
     "output_type": "stream",
     "text": [
      "158 | 4 | 0.05 | 0.870510053901 | 0.839772523017\n"
     ]
    }
   ],
   "source": [
    "print(\" | \".join(map(str, (best_model.n_estimators,\n",
    "                           best_model.max_depth,\n",
    "                           best_model.learning_rate,\n",
    "                           roc_auc_score(y_train, best_model.predict(X_train)),\n",
    "                           best_score))))"
   ]
  },
  {
   "cell_type": "markdown",
   "metadata": {},
   "source": [
    "n_estimators | max_depth | learning_rate | train score | test score | gridcv params\n",
    "-------------|-----------|---------------|-------------|------------|-------------------------\n",
    "140          | 4         | 0.05          | 0.868178072 | 0.83933259 | [120, 130, 140], [3, 4], [0.05],\n",
    "160          | 4         | 0.05          | 0.870837857 | 0.83961409 | [140, 150, 160, 165], [4, 5], [0.05],\n",
    "158          | 4         | 0.05          | 0.870510053 | 0.83977252 | [157, 158, 159, 162, 164], [3, 4, 5], [0.025, 0.05, 0.075],"
   ]
  },
  {
   "cell_type": "code",
   "execution_count": 243,
   "metadata": {
    "collapsed": true
   },
   "outputs": [],
   "source": [
    "gbm = xgb.XGBRegressor(max_depth=best_model.max_depth,\n",
    "                       n_estimators=best_model.n_estimators,\n",
    "                       learning_rate=best_model.learning_rate,\n",
    "                       nthread=4, objective='binary:logistic')\n",
    "kg.save_submission(gbm.fit(X_all, y_all).predict(df_test), 'submissions/impute_median.xgb.csv')  # Score 0.837254"
   ]
  },
  {
   "cell_type": "markdown",
   "metadata": {},
   "source": [
    "### Most Freq - Same as Median"
   ]
  },
  {
   "cell_type": "code",
   "execution_count": 213,
   "metadata": {
    "collapsed": false
   },
   "outputs": [
    {
     "data": {
      "text/plain": [
       "'data/train.dedup.onehot.na.impute_freq.csv'"
      ]
     },
     "execution_count": 213,
     "metadata": {},
     "output_type": "execute_result"
    }
   ],
   "source": [
    "FILE_TRAIN_DEDUP_ONEHOT_NA_IMPUTE_FREQ"
   ]
  },
  {
   "cell_type": "code",
   "execution_count": 214,
   "metadata": {
    "collapsed": false
   },
   "outputs": [
    {
     "data": {
      "text/plain": [
       "'data/train.dedup.onehot.na.impute_median.csv'"
      ]
     },
     "execution_count": 214,
     "metadata": {},
     "output_type": "execute_result"
    }
   ],
   "source": [
    "FILE_TRAIN_DEDUP_ONEHOT_NA_IMPUTE_MEDIAN"
   ]
  },
  {
   "cell_type": "code",
   "execution_count": 215,
   "metadata": {
    "collapsed": false
   },
   "outputs": [
    {
     "name": "stdout",
     "output_type": "stream",
     "text": [
      "       0       0       0\r\n"
     ]
    }
   ],
   "source": [
    "! diff data/train.dedup.onehot.na.impute_freq.csv data/train.dedup.onehot.na.impute_median.csv | wc"
   ]
  },
  {
   "cell_type": "markdown",
   "metadata": {},
   "source": [
    "## 6. One-hot int"
   ]
  },
  {
   "cell_type": "code",
   "execution_count": 21,
   "metadata": {
    "collapsed": true
   },
   "outputs": [],
   "source": [
    "df = pd.read_csv(FILE_TRAIN_DEDUP_ONEHOT_NA_ONEHOTINT)\n",
    "df_test = pd.read_csv(FILE_TEST_DEDUP_ONEHOT_NA_ONEHOTINT, index_col='ID')\n",
    "\n",
    "# Split up the data\n",
    "feature_cols = list(df.columns)\n",
    "feature_cols.remove(TARGET_COL)\n",
    "X_all = df[feature_cols]  # feature values for all students\n",
    "y_all = df[TARGET_COL]\n",
    "\n",
    "test_size = 0.3 # 30 percent\n",
    "X_train, X_test, y_train, y_test = train_test_split(\n",
    "    X_all, y_all, test_size=test_size, random_state=0, stratify=y_all)"
   ]
  },
  {
   "cell_type": "code",
   "execution_count": 254,
   "metadata": {
    "collapsed": false
   },
   "outputs": [
    {
     "name": "stdout",
     "output_type": "stream",
     "text": [
      "iteration 0\n",
      "Each iteration time(secs): 354.515\n",
      "iteration 1\n",
      "Each iteration time(secs): 367.212\n",
      "iteration 2\n",
      "Each iteration time(secs): 354.060\n",
      "CPU times: user 1h 5min 45s, sys: 48.5 s, total: 1h 6min 33s\n",
      "Wall time: 17min 55s\n"
     ]
    }
   ],
   "source": [
    "%%time\n",
    "\n",
    "# GridCV for Gradient Boost Model\n",
    "gbm = xgb.XGBRegressor(nthread=4, objective='binary:logistic')\n",
    "\n",
    "param_grid = {\n",
    "    'n_estimators': [175, 176, 177, 178],\n",
    "    'max_depth': [3, 4],\n",
    "    'learning_rate': [0.05],\n",
    "}\n",
    "best_score, best_model = ml.fine_tune_params(gbm,\n",
    "                                             X_train, y_train,\n",
    "                                             X_test, y_test,\n",
    "                                             param_grid,\n",
    "                                             n_runs=3,\n",
    "                                             n_cv=3,\n",
    "                                             scorer=roc_auc_score,\n",
    "                                             n_jobs=1)"
   ]
  },
  {
   "cell_type": "code",
   "execution_count": 255,
   "metadata": {
    "collapsed": false
   },
   "outputs": [
    {
     "name": "stdout",
     "output_type": "stream",
     "text": [
      "176 | 4 | 0.05 | 0.870718550983 | 0.842055263544\n"
     ]
    }
   ],
   "source": [
    "print(\" | \".join(map(str, (best_model.n_estimators,\n",
    "                           best_model.max_depth,\n",
    "                           best_model.learning_rate,\n",
    "                           roc_auc_score(y_train, best_model.predict(X_train)),\n",
    "                           best_score))))"
   ]
  },
  {
   "cell_type": "markdown",
   "metadata": {},
   "source": [
    "n_estimators | max_depth | learning_rate | train score | test score | gridcv params\n",
    "-------------|-----------|---------------|-------------|------------|-------------------------\n",
    "200          | 4         | 0.05          | 0.872806025 | 0.84185567 | [100, 200, 300], [4, 6], [0.05],\n",
    "180          | 4         | 0.05          | 0.871143130 | 0.84188993 | [180, 200, 220], [4, 5], [0.05],\n",
    "175          | 4         | 0.05          | 0.870684656 | 0.84204868 | [175, 180, 188], [4], [0.05],\n",
    "177          | 4         | 0.05          | 0.870912371 | 0.84194617 | [171, 175, 177], [4], [0.05],\n",
    "176          | 4         | 0.05          | 0.870718550 | 0.84205526 | [175, 176, 177, 178], [3, 4], [0.05],"
   ]
  },
  {
   "cell_type": "code",
   "execution_count": 40,
   "metadata": {
    "collapsed": true
   },
   "outputs": [],
   "source": [
    "gbm = xgb.XGBRegressor(max_depth=best_model.max_depth,\n",
    "                       n_estimators=best_model.n_estimators,\n",
    "                       learning_rate=best_model.learning_rate,\n",
    "                       nthread=4, objective='binary:logistic')\n",
    "kg.save_submission(gbm.fit(X_all, y_all).predict(df_test), 'submissions/onehotint.xgb.csv')  # High score 0.838388"
   ]
  },
  {
   "cell_type": "code",
   "execution_count": 26,
   "metadata": {
    "collapsed": false,
    "scrolled": true
   },
   "outputs": [
    {
     "name": "stderr",
     "output_type": "stream",
     "text": [
      "Will train until validation_0 error hasn't decreased in 40 rounds.\n",
      "[0]\tvalidation_0-auc:0.799943\n",
      "[1]\tvalidation_0-auc:0.791425\n",
      "[2]\tvalidation_0-auc:0.800532\n",
      "[3]\tvalidation_0-auc:0.803825\n",
      "[4]\tvalidation_0-auc:0.803604\n",
      "[5]\tvalidation_0-auc:0.808869\n",
      "[6]\tvalidation_0-auc:0.811903\n",
      "[7]\tvalidation_0-auc:0.812367\n",
      "[8]\tvalidation_0-auc:0.813626\n",
      "[9]\tvalidation_0-auc:0.814982\n",
      "[10]\tvalidation_0-auc:0.815665\n",
      "[11]\tvalidation_0-auc:0.817721\n",
      "[12]\tvalidation_0-auc:0.818553\n",
      "[13]\tvalidation_0-auc:0.817706\n",
      "[14]\tvalidation_0-auc:0.818100\n",
      "[15]\tvalidation_0-auc:0.818881\n",
      "[16]\tvalidation_0-auc:0.819731\n",
      "[17]\tvalidation_0-auc:0.820133\n",
      "[18]\tvalidation_0-auc:0.823151\n",
      "[19]\tvalidation_0-auc:0.825499\n",
      "[20]\tvalidation_0-auc:0.825904\n",
      "[21]\tvalidation_0-auc:0.822970\n",
      "[22]\tvalidation_0-auc:0.825172\n",
      "[23]\tvalidation_0-auc:0.825752\n",
      "[24]\tvalidation_0-auc:0.825725\n",
      "[25]\tvalidation_0-auc:0.825734\n",
      "[26]\tvalidation_0-auc:0.825843\n",
      "[27]\tvalidation_0-auc:0.826127\n",
      "[28]\tvalidation_0-auc:0.826347\n",
      "[29]\tvalidation_0-auc:0.826973\n",
      "[30]\tvalidation_0-auc:0.826771\n",
      "[31]\tvalidation_0-auc:0.827082\n",
      "[32]\tvalidation_0-auc:0.828275\n",
      "[33]\tvalidation_0-auc:0.828344\n",
      "[34]\tvalidation_0-auc:0.829154\n",
      "[35]\tvalidation_0-auc:0.829782\n",
      "[36]\tvalidation_0-auc:0.829955\n",
      "[37]\tvalidation_0-auc:0.829685\n",
      "[38]\tvalidation_0-auc:0.829689\n",
      "[39]\tvalidation_0-auc:0.829838\n",
      "[40]\tvalidation_0-auc:0.829925\n",
      "[41]\tvalidation_0-auc:0.830533\n",
      "[42]\tvalidation_0-auc:0.829683\n",
      "[43]\tvalidation_0-auc:0.830832\n",
      "[44]\tvalidation_0-auc:0.831692\n",
      "[45]\tvalidation_0-auc:0.831723\n",
      "[46]\tvalidation_0-auc:0.830828\n",
      "[47]\tvalidation_0-auc:0.830845\n",
      "[48]\tvalidation_0-auc:0.830410\n",
      "[49]\tvalidation_0-auc:0.830549\n",
      "[50]\tvalidation_0-auc:0.831091\n",
      "[51]\tvalidation_0-auc:0.831914\n",
      "[52]\tvalidation_0-auc:0.832371\n",
      "[53]\tvalidation_0-auc:0.832652\n",
      "[54]\tvalidation_0-auc:0.833093\n",
      "[55]\tvalidation_0-auc:0.833285\n",
      "[56]\tvalidation_0-auc:0.833372\n",
      "[57]\tvalidation_0-auc:0.833221\n",
      "[58]\tvalidation_0-auc:0.833159\n",
      "[59]\tvalidation_0-auc:0.833196\n",
      "[60]\tvalidation_0-auc:0.833190\n",
      "[61]\tvalidation_0-auc:0.833247\n",
      "[62]\tvalidation_0-auc:0.833448\n",
      "[63]\tvalidation_0-auc:0.833535\n",
      "[64]\tvalidation_0-auc:0.833668\n",
      "[65]\tvalidation_0-auc:0.833844\n",
      "[66]\tvalidation_0-auc:0.833944\n",
      "[67]\tvalidation_0-auc:0.833988\n",
      "[68]\tvalidation_0-auc:0.834126\n",
      "[69]\tvalidation_0-auc:0.834345\n",
      "[70]\tvalidation_0-auc:0.834383\n",
      "[71]\tvalidation_0-auc:0.834444\n",
      "[72]\tvalidation_0-auc:0.834534\n",
      "[73]\tvalidation_0-auc:0.834580\n",
      "[74]\tvalidation_0-auc:0.834828\n",
      "[75]\tvalidation_0-auc:0.834794\n",
      "[76]\tvalidation_0-auc:0.834730\n",
      "[77]\tvalidation_0-auc:0.834875\n",
      "[78]\tvalidation_0-auc:0.834998\n",
      "[79]\tvalidation_0-auc:0.835051\n",
      "[80]\tvalidation_0-auc:0.835244\n",
      "[81]\tvalidation_0-auc:0.835359\n",
      "[82]\tvalidation_0-auc:0.835185\n",
      "[83]\tvalidation_0-auc:0.835267\n",
      "[84]\tvalidation_0-auc:0.835159\n",
      "[85]\tvalidation_0-auc:0.835214\n",
      "[86]\tvalidation_0-auc:0.835353\n",
      "[87]\tvalidation_0-auc:0.835478\n",
      "[88]\tvalidation_0-auc:0.835394\n",
      "[89]\tvalidation_0-auc:0.835561\n",
      "[90]\tvalidation_0-auc:0.835476\n",
      "[91]\tvalidation_0-auc:0.835767\n",
      "[92]\tvalidation_0-auc:0.835972\n",
      "[93]\tvalidation_0-auc:0.836049\n",
      "[94]\tvalidation_0-auc:0.836203\n",
      "[95]\tvalidation_0-auc:0.836310\n",
      "[96]\tvalidation_0-auc:0.836223\n",
      "[97]\tvalidation_0-auc:0.836317\n",
      "[98]\tvalidation_0-auc:0.836183\n",
      "[99]\tvalidation_0-auc:0.836353\n",
      "[100]\tvalidation_0-auc:0.836520\n",
      "[101]\tvalidation_0-auc:0.836587\n",
      "[102]\tvalidation_0-auc:0.836618\n",
      "[103]\tvalidation_0-auc:0.836406\n",
      "[104]\tvalidation_0-auc:0.836325\n",
      "[105]\tvalidation_0-auc:0.836311\n",
      "[106]\tvalidation_0-auc:0.836241\n",
      "[107]\tvalidation_0-auc:0.836234\n",
      "[108]\tvalidation_0-auc:0.836231\n",
      "[109]\tvalidation_0-auc:0.836233\n",
      "[110]\tvalidation_0-auc:0.836218\n",
      "[111]\tvalidation_0-auc:0.836295\n",
      "[112]\tvalidation_0-auc:0.836393\n",
      "[113]\tvalidation_0-auc:0.836268\n",
      "[114]\tvalidation_0-auc:0.836234\n",
      "[115]\tvalidation_0-auc:0.836244\n",
      "[116]\tvalidation_0-auc:0.836493\n",
      "[117]\tvalidation_0-auc:0.836580\n",
      "[118]\tvalidation_0-auc:0.836529\n",
      "[119]\tvalidation_0-auc:0.836725\n",
      "[120]\tvalidation_0-auc:0.836830\n",
      "[121]\tvalidation_0-auc:0.836932\n",
      "[122]\tvalidation_0-auc:0.837116\n",
      "[123]\tvalidation_0-auc:0.837114\n",
      "[124]\tvalidation_0-auc:0.837136\n",
      "[125]\tvalidation_0-auc:0.837059\n",
      "[126]\tvalidation_0-auc:0.837043\n",
      "[127]\tvalidation_0-auc:0.837190\n",
      "[128]\tvalidation_0-auc:0.837267\n",
      "[129]\tvalidation_0-auc:0.837453\n",
      "[130]\tvalidation_0-auc:0.837646\n",
      "[131]\tvalidation_0-auc:0.837847\n",
      "[132]\tvalidation_0-auc:0.837951\n",
      "[133]\tvalidation_0-auc:0.838026\n",
      "[134]\tvalidation_0-auc:0.838082\n",
      "[135]\tvalidation_0-auc:0.838173\n",
      "[136]\tvalidation_0-auc:0.838298\n",
      "[137]\tvalidation_0-auc:0.838429\n",
      "[138]\tvalidation_0-auc:0.838462\n",
      "[139]\tvalidation_0-auc:0.838673\n",
      "[140]\tvalidation_0-auc:0.838734\n",
      "[141]\tvalidation_0-auc:0.838859\n",
      "[142]\tvalidation_0-auc:0.838810\n",
      "[143]\tvalidation_0-auc:0.838833\n",
      "[144]\tvalidation_0-auc:0.838916\n",
      "[145]\tvalidation_0-auc:0.838898\n",
      "[146]\tvalidation_0-auc:0.838961\n",
      "[147]\tvalidation_0-auc:0.838983\n",
      "[148]\tvalidation_0-auc:0.839126\n",
      "[149]\tvalidation_0-auc:0.839284\n",
      "[150]\tvalidation_0-auc:0.839435\n",
      "[151]\tvalidation_0-auc:0.839387\n",
      "[152]\tvalidation_0-auc:0.839460\n",
      "[153]\tvalidation_0-auc:0.839558\n",
      "[154]\tvalidation_0-auc:0.839495\n",
      "[155]\tvalidation_0-auc:0.839636\n",
      "[156]\tvalidation_0-auc:0.839764\n",
      "[157]\tvalidation_0-auc:0.839724\n",
      "[158]\tvalidation_0-auc:0.839706\n",
      "[159]\tvalidation_0-auc:0.839761\n",
      "[160]\tvalidation_0-auc:0.839824\n",
      "[161]\tvalidation_0-auc:0.839739\n",
      "[162]\tvalidation_0-auc:0.839967\n",
      "[163]\tvalidation_0-auc:0.839989\n",
      "[164]\tvalidation_0-auc:0.840071\n",
      "[165]\tvalidation_0-auc:0.840278\n",
      "[166]\tvalidation_0-auc:0.840388\n",
      "[167]\tvalidation_0-auc:0.840417\n",
      "[168]\tvalidation_0-auc:0.840445\n",
      "[169]\tvalidation_0-auc:0.840538\n",
      "[170]\tvalidation_0-auc:0.840595\n",
      "[171]\tvalidation_0-auc:0.840682\n",
      "[172]\tvalidation_0-auc:0.840686\n",
      "[173]\tvalidation_0-auc:0.840758\n",
      "[174]\tvalidation_0-auc:0.840836\n",
      "[175]\tvalidation_0-auc:0.840927\n",
      "[176]\tvalidation_0-auc:0.840911\n",
      "[177]\tvalidation_0-auc:0.841021\n",
      "[178]\tvalidation_0-auc:0.841136\n",
      "[179]\tvalidation_0-auc:0.841241\n",
      "[180]\tvalidation_0-auc:0.841337\n",
      "[181]\tvalidation_0-auc:0.841321\n",
      "[182]\tvalidation_0-auc:0.841362\n",
      "[183]\tvalidation_0-auc:0.841361\n",
      "[184]\tvalidation_0-auc:0.841337\n",
      "[185]\tvalidation_0-auc:0.841396\n",
      "[186]\tvalidation_0-auc:0.841417\n",
      "[187]\tvalidation_0-auc:0.841554\n",
      "[188]\tvalidation_0-auc:0.841533\n",
      "[189]\tvalidation_0-auc:0.841588\n",
      "[190]\tvalidation_0-auc:0.841604\n",
      "[191]\tvalidation_0-auc:0.841701\n",
      "[192]\tvalidation_0-auc:0.841740\n",
      "[193]\tvalidation_0-auc:0.841724\n",
      "[194]\tvalidation_0-auc:0.841839\n",
      "[195]\tvalidation_0-auc:0.841890\n",
      "[196]\tvalidation_0-auc:0.841975\n",
      "[197]\tvalidation_0-auc:0.841910\n",
      "[198]\tvalidation_0-auc:0.841966\n",
      "[199]\tvalidation_0-auc:0.842056\n",
      "[200]\tvalidation_0-auc:0.842093\n",
      "[201]\tvalidation_0-auc:0.842190\n",
      "[202]\tvalidation_0-auc:0.842189\n",
      "[203]\tvalidation_0-auc:0.842265\n",
      "[204]\tvalidation_0-auc:0.842264\n",
      "[205]\tvalidation_0-auc:0.842333\n",
      "[206]\tvalidation_0-auc:0.842353\n",
      "[207]\tvalidation_0-auc:0.842386\n",
      "[208]\tvalidation_0-auc:0.842498\n",
      "[209]\tvalidation_0-auc:0.842489\n",
      "[210]\tvalidation_0-auc:0.842477\n",
      "[211]\tvalidation_0-auc:0.842430\n",
      "[212]\tvalidation_0-auc:0.842440\n",
      "[213]\tvalidation_0-auc:0.842473\n",
      "[214]\tvalidation_0-auc:0.842552\n",
      "[215]\tvalidation_0-auc:0.842616\n",
      "[216]\tvalidation_0-auc:0.842588\n",
      "[217]\tvalidation_0-auc:0.842642\n",
      "[218]\tvalidation_0-auc:0.842699\n",
      "[219]\tvalidation_0-auc:0.842768\n",
      "[220]\tvalidation_0-auc:0.842797\n",
      "[221]\tvalidation_0-auc:0.842805\n",
      "[222]\tvalidation_0-auc:0.842838\n",
      "[223]\tvalidation_0-auc:0.842822\n",
      "[224]\tvalidation_0-auc:0.842868\n",
      "[225]\tvalidation_0-auc:0.842950\n",
      "[226]\tvalidation_0-auc:0.842922\n",
      "[227]\tvalidation_0-auc:0.842928\n",
      "[228]\tvalidation_0-auc:0.842908\n",
      "[229]\tvalidation_0-auc:0.842921\n",
      "[230]\tvalidation_0-auc:0.842937\n",
      "[231]\tvalidation_0-auc:0.842988\n",
      "[232]\tvalidation_0-auc:0.843030\n",
      "[233]\tvalidation_0-auc:0.843104\n",
      "[234]\tvalidation_0-auc:0.843142\n",
      "[235]\tvalidation_0-auc:0.843111\n",
      "[236]\tvalidation_0-auc:0.843086\n",
      "[237]\tvalidation_0-auc:0.843057\n",
      "[238]\tvalidation_0-auc:0.843077\n",
      "[239]\tvalidation_0-auc:0.843060\n",
      "[240]\tvalidation_0-auc:0.843022\n",
      "[241]\tvalidation_0-auc:0.843026\n",
      "[242]\tvalidation_0-auc:0.843058\n",
      "[243]\tvalidation_0-auc:0.843128\n",
      "[244]\tvalidation_0-auc:0.843169\n",
      "[245]\tvalidation_0-auc:0.843187\n",
      "[246]\tvalidation_0-auc:0.843235\n",
      "[247]\tvalidation_0-auc:0.843288\n",
      "[248]\tvalidation_0-auc:0.843237\n",
      "[249]\tvalidation_0-auc:0.843267\n",
      "[250]\tvalidation_0-auc:0.843307\n",
      "[251]\tvalidation_0-auc:0.843351\n",
      "[252]\tvalidation_0-auc:0.843375\n",
      "[253]\tvalidation_0-auc:0.843383\n",
      "[254]\tvalidation_0-auc:0.843361\n",
      "[255]\tvalidation_0-auc:0.843350\n",
      "[256]\tvalidation_0-auc:0.843405\n",
      "[257]\tvalidation_0-auc:0.843421\n",
      "[258]\tvalidation_0-auc:0.843489\n",
      "[259]\tvalidation_0-auc:0.843489\n",
      "[260]\tvalidation_0-auc:0.843501\n",
      "[261]\tvalidation_0-auc:0.843486\n",
      "[262]\tvalidation_0-auc:0.843511\n",
      "[263]\tvalidation_0-auc:0.843561\n",
      "[264]\tvalidation_0-auc:0.843566\n",
      "[265]\tvalidation_0-auc:0.843588\n",
      "[266]\tvalidation_0-auc:0.843648\n",
      "[267]\tvalidation_0-auc:0.843661\n",
      "[268]\tvalidation_0-auc:0.843660\n",
      "[269]\tvalidation_0-auc:0.843631\n",
      "[270]\tvalidation_0-auc:0.843604\n",
      "[271]\tvalidation_0-auc:0.843566\n",
      "[272]\tvalidation_0-auc:0.843587\n",
      "[273]\tvalidation_0-auc:0.843584\n",
      "[274]\tvalidation_0-auc:0.843671\n",
      "[275]\tvalidation_0-auc:0.843667\n",
      "[276]\tvalidation_0-auc:0.843663\n",
      "[277]\tvalidation_0-auc:0.843644\n",
      "[278]\tvalidation_0-auc:0.843659\n",
      "[279]\tvalidation_0-auc:0.843633\n",
      "[280]\tvalidation_0-auc:0.843619\n",
      "[281]\tvalidation_0-auc:0.843656\n",
      "[282]\tvalidation_0-auc:0.843666\n",
      "[283]\tvalidation_0-auc:0.843665\n",
      "[284]\tvalidation_0-auc:0.843680\n",
      "[285]\tvalidation_0-auc:0.843675\n",
      "[286]\tvalidation_0-auc:0.843726\n",
      "[287]\tvalidation_0-auc:0.843690\n",
      "[288]\tvalidation_0-auc:0.843685\n",
      "[289]\tvalidation_0-auc:0.843688\n",
      "[290]\tvalidation_0-auc:0.843710\n",
      "[291]\tvalidation_0-auc:0.843742\n",
      "[292]\tvalidation_0-auc:0.843717\n",
      "[293]\tvalidation_0-auc:0.843747\n",
      "[294]\tvalidation_0-auc:0.843725\n",
      "[295]\tvalidation_0-auc:0.843741\n",
      "[296]\tvalidation_0-auc:0.843727\n",
      "[297]\tvalidation_0-auc:0.843772\n",
      "[298]\tvalidation_0-auc:0.843771\n",
      "[299]\tvalidation_0-auc:0.843771\n",
      "[300]\tvalidation_0-auc:0.843747\n",
      "[301]\tvalidation_0-auc:0.843760\n",
      "[302]\tvalidation_0-auc:0.843663\n",
      "[303]\tvalidation_0-auc:0.843706\n",
      "[304]\tvalidation_0-auc:0.843728\n",
      "[305]\tvalidation_0-auc:0.843674\n",
      "[306]\tvalidation_0-auc:0.843659\n",
      "[307]\tvalidation_0-auc:0.843678\n",
      "[308]\tvalidation_0-auc:0.843670\n",
      "[309]\tvalidation_0-auc:0.843663\n",
      "[310]\tvalidation_0-auc:0.843672\n",
      "[311]\tvalidation_0-auc:0.843662\n",
      "[312]\tvalidation_0-auc:0.843644\n",
      "[313]\tvalidation_0-auc:0.843699\n",
      "[314]\tvalidation_0-auc:0.843680\n",
      "[315]\tvalidation_0-auc:0.843657\n",
      "[316]\tvalidation_0-auc:0.843667\n",
      "[317]\tvalidation_0-auc:0.843704\n",
      "[318]\tvalidation_0-auc:0.843704\n",
      "[319]\tvalidation_0-auc:0.843719\n",
      "[320]\tvalidation_0-auc:0.843796\n",
      "[321]\tvalidation_0-auc:0.843758\n",
      "[322]\tvalidation_0-auc:0.843775\n",
      "[323]\tvalidation_0-auc:0.843819\n",
      "[324]\tvalidation_0-auc:0.843873\n",
      "[325]\tvalidation_0-auc:0.843871\n",
      "[326]\tvalidation_0-auc:0.843828\n",
      "[327]\tvalidation_0-auc:0.843845\n",
      "[328]\tvalidation_0-auc:0.843819\n",
      "[329]\tvalidation_0-auc:0.843830\n",
      "[330]\tvalidation_0-auc:0.843822\n",
      "[331]\tvalidation_0-auc:0.843824\n",
      "[332]\tvalidation_0-auc:0.843841\n",
      "[333]\tvalidation_0-auc:0.843876\n",
      "[334]\tvalidation_0-auc:0.843900\n",
      "[335]\tvalidation_0-auc:0.843909\n",
      "[336]\tvalidation_0-auc:0.843909\n",
      "[337]\tvalidation_0-auc:0.843951\n",
      "[338]\tvalidation_0-auc:0.843964\n",
      "[339]\tvalidation_0-auc:0.843929\n",
      "[340]\tvalidation_0-auc:0.843919\n",
      "[341]\tvalidation_0-auc:0.843937\n",
      "[342]\tvalidation_0-auc:0.843953\n",
      "[343]\tvalidation_0-auc:0.843939\n",
      "[344]\tvalidation_0-auc:0.843919\n",
      "[345]\tvalidation_0-auc:0.843944\n",
      "[346]\tvalidation_0-auc:0.843926\n",
      "[347]\tvalidation_0-auc:0.843909\n",
      "[348]\tvalidation_0-auc:0.843909\n",
      "[349]\tvalidation_0-auc:0.843919\n",
      "[350]\tvalidation_0-auc:0.843887\n",
      "[351]\tvalidation_0-auc:0.843903\n",
      "[352]\tvalidation_0-auc:0.843902\n",
      "[353]\tvalidation_0-auc:0.843918\n",
      "[354]\tvalidation_0-auc:0.843936\n",
      "[355]\tvalidation_0-auc:0.843958\n",
      "[356]\tvalidation_0-auc:0.843967\n",
      "[357]\tvalidation_0-auc:0.843971\n",
      "[358]\tvalidation_0-auc:0.843982\n",
      "[359]\tvalidation_0-auc:0.843980\n",
      "[360]\tvalidation_0-auc:0.844001\n",
      "[361]\tvalidation_0-auc:0.844003\n",
      "[362]\tvalidation_0-auc:0.843992\n",
      "[363]\tvalidation_0-auc:0.843978\n",
      "[364]\tvalidation_0-auc:0.843975\n",
      "[365]\tvalidation_0-auc:0.843963\n",
      "[366]\tvalidation_0-auc:0.843956\n",
      "[367]\tvalidation_0-auc:0.843908\n",
      "[368]\tvalidation_0-auc:0.843910\n",
      "[369]\tvalidation_0-auc:0.843964\n",
      "[370]\tvalidation_0-auc:0.844011\n",
      "[371]\tvalidation_0-auc:0.844030\n",
      "[372]\tvalidation_0-auc:0.844029\n",
      "[373]\tvalidation_0-auc:0.844043\n",
      "[374]\tvalidation_0-auc:0.844080\n",
      "[375]\tvalidation_0-auc:0.844057\n",
      "[376]\tvalidation_0-auc:0.844056\n",
      "[377]\tvalidation_0-auc:0.844119\n",
      "[378]\tvalidation_0-auc:0.844142\n",
      "[379]\tvalidation_0-auc:0.844138\n",
      "[380]\tvalidation_0-auc:0.844127\n",
      "[381]\tvalidation_0-auc:0.844191\n",
      "[382]\tvalidation_0-auc:0.844157\n",
      "[383]\tvalidation_0-auc:0.844159\n",
      "[384]\tvalidation_0-auc:0.844152\n",
      "[385]\tvalidation_0-auc:0.844128\n",
      "[386]\tvalidation_0-auc:0.844125\n",
      "[387]\tvalidation_0-auc:0.844109\n",
      "[388]\tvalidation_0-auc:0.844092\n",
      "[389]\tvalidation_0-auc:0.844117\n",
      "[390]\tvalidation_0-auc:0.844099\n",
      "[391]\tvalidation_0-auc:0.844080\n",
      "[392]\tvalidation_0-auc:0.844083\n",
      "[393]\tvalidation_0-auc:0.844041\n",
      "[394]\tvalidation_0-auc:0.844041\n",
      "[395]\tvalidation_0-auc:0.844048\n",
      "[396]\tvalidation_0-auc:0.844029\n",
      "[397]\tvalidation_0-auc:0.844034\n",
      "[398]\tvalidation_0-auc:0.844030\n",
      "[399]\tvalidation_0-auc:0.844018\n",
      "[400]\tvalidation_0-auc:0.843987\n",
      "[401]\tvalidation_0-auc:0.843963\n",
      "[402]\tvalidation_0-auc:0.843945\n",
      "[403]\tvalidation_0-auc:0.843933\n",
      "[404]\tvalidation_0-auc:0.843863\n",
      "[405]\tvalidation_0-auc:0.843862\n",
      "[406]\tvalidation_0-auc:0.843859\n",
      "[407]\tvalidation_0-auc:0.843839\n",
      "[408]\tvalidation_0-auc:0.843848\n",
      "[409]\tvalidation_0-auc:0.843848\n",
      "[410]\tvalidation_0-auc:0.843835\n",
      "[411]\tvalidation_0-auc:0.843857\n",
      "[412]\tvalidation_0-auc:0.843968\n",
      "[413]\tvalidation_0-auc:0.843911\n",
      "[414]\tvalidation_0-auc:0.843951\n",
      "[415]\tvalidation_0-auc:0.843971\n",
      "[416]\tvalidation_0-auc:0.843993\n",
      "[417]\tvalidation_0-auc:0.843969\n",
      "[418]\tvalidation_0-auc:0.843990\n",
      "[419]\tvalidation_0-auc:0.844011\n",
      "[420]\tvalidation_0-auc:0.844021\n",
      "[421]\tvalidation_0-auc:0.844016\n",
      "Stopping. Best iteration:\n",
      "[381]\tvalidation_0-auc:0.844191\n",
      "\n"
     ]
    }
   ],
   "source": [
    "gbm = xgb.XGBRegressor(max_depth=4,\n",
    "                       n_estimators=1000,\n",
    "                       learning_rate=0.03,\n",
    "                       subsample=0.95, colsample_bytree=0.85,\n",
    "                       nthread=4, objective='binary:logistic')\n",
    "gbm.fit(X_train, y_train, early_stopping_rounds=40, eval_metric=\"auc\", eval_set=[(X_test, y_test)])\n",
    "kg.save_submission(gbm.predict(df_test), 'submissions/onehotint.xgb_earlystop.csv')  # "
   ]
  },
  {
   "cell_type": "code",
   "execution_count": 27,
   "metadata": {
    "collapsed": false
   },
   "outputs": [
    {
     "data": {
      "text/plain": [
       "0.84401647080740005"
      ]
     },
     "execution_count": 27,
     "metadata": {},
     "output_type": "execute_result"
    }
   ],
   "source": [
    "roc_auc_score(y_test, gbm.predict(X_test))"
   ]
  },
  {
   "cell_type": "code",
   "execution_count": 25,
   "metadata": {
    "collapsed": false
   },
   "outputs": [
    {
     "data": {
      "text/plain": [
       "0.84370450709416089"
      ]
     },
     "execution_count": 25,
     "metadata": {},
     "output_type": "execute_result"
    }
   ],
   "source": [
    "roc_auc_score(y_test, gbm.predict(X_test))"
   ]
  },
  {
   "cell_type": "code",
   "execution_count": 46,
   "metadata": {
    "collapsed": true
   },
   "outputs": [],
   "source": [
    "y_test_hat = pd.Series(gbm.predict(X_test), name='y_hat')"
   ]
  },
  {
   "cell_type": "code",
   "execution_count": 49,
   "metadata": {
    "collapsed": false
   },
   "outputs": [
    {
     "data": {
      "text/plain": [
       "((21364,), (21364,))"
      ]
     },
     "execution_count": 49,
     "metadata": {},
     "output_type": "execute_result"
    }
   ],
   "source": [
    "y_test.shape, y_test_hat.shape"
   ]
  },
  {
   "cell_type": "code",
   "execution_count": 60,
   "metadata": {
    "collapsed": false
   },
   "outputs": [
    {
     "data": {
      "text/plain": [
       "0.96091555888410407"
      ]
     },
     "execution_count": 60,
     "metadata": {},
     "output_type": "execute_result"
    }
   ],
   "source": [
    "accuracy_score(y_test, y_test_hat > 0.33)"
   ]
  },
  {
   "cell_type": "code",
   "execution_count": 51,
   "metadata": {
    "collapsed": false
   },
   "outputs": [
    {
     "data": {
      "text/plain": [
       "0.96082194345628158"
      ]
     },
     "execution_count": 51,
     "metadata": {},
     "output_type": "execute_result"
    }
   ],
   "source": [
    "accuracy_score(y_test, y_test_hat > 0.4)"
   ]
  },
  {
   "cell_type": "code",
   "execution_count": 55,
   "metadata": {
    "collapsed": false
   },
   "outputs": [
    {
     "data": {
      "text/plain": [
       "<matplotlib.axes._subplots.AxesSubplot at 0x10d5105c0>"
      ]
     },
     "execution_count": 55,
     "metadata": {},
     "output_type": "execute_result"
    },
    {
     "data": {
      "image/png": "[encoded data removed]",
      "text/plain": [
       "<matplotlib.figure.Figure at 0x10b329b70>"
      ]
     },
     "metadata": {},
     "output_type": "display_data"
    }
   ],
   "source": [
    "pd.Series(accuracy_score(y_test, y_test_hat > t) for t in list(np.arange(0.0, 1.0, .01))).plot()"
   ]
  },
  {
   "cell_type": "code",
   "execution_count": 62,
   "metadata": {
    "collapsed": true
   },
   "outputs": [],
   "source": [
    "ap = pd.DataFrame({\n",
    "    'actual': y_test,\n",
    "    'predictions': y_test_hat > 0.33\n",
    "})\n",
    "\n",
    "ap['incorrect'] = ap.actual == ap.predictions"
   ]
  },
  {
   "cell_type": "code",
   "execution_count": 70,
   "metadata": {
    "collapsed": false
   },
   "outputs": [
    {
     "data": {
      "text/html": [
       "<div>\n",
       "<table border=\"1\" class=\"dataframe\">\n",
       "  <thead>\n",
       "    <tr style=\"text-align: right;\">\n",
       "      <th></th>\n",
       "      <th>actual</th>\n",
       "      <th>predictions</th>\n",
       "      <th>incorrect</th>\n",
       "    </tr>\n",
       "  </thead>\n",
       "  <tbody>\n",
       "    <tr>\n",
       "      <th>0</th>\n",
       "      <td>NaN</td>\n",
       "      <td>False</td>\n",
       "      <td>False</td>\n",
       "    </tr>\n",
       "    <tr>\n",
       "      <th>1</th>\n",
       "      <td>NaN</td>\n",
       "      <td>False</td>\n",
       "      <td>False</td>\n",
       "    </tr>\n",
       "    <tr>\n",
       "      <th>2</th>\n",
       "      <td>0.0</td>\n",
       "      <td>False</td>\n",
       "      <td>True</td>\n",
       "    </tr>\n",
       "    <tr>\n",
       "      <th>3</th>\n",
       "      <td>NaN</td>\n",
       "      <td>False</td>\n",
       "      <td>False</td>\n",
       "    </tr>\n",
       "    <tr>\n",
       "      <th>4</th>\n",
       "      <td>NaN</td>\n",
       "      <td>False</td>\n",
       "      <td>False</td>\n",
       "    </tr>\n",
       "  </tbody>\n",
       "</table>\n",
       "</div>"
      ],
      "text/plain": [
       "   actual predictions incorrect\n",
       "0     NaN       False     False\n",
       "1     NaN       False     False\n",
       "2     0.0       False      True\n",
       "3     NaN       False     False\n",
       "4     NaN       False     False"
      ]
     },
     "execution_count": 70,
     "metadata": {},
     "output_type": "execute_result"
    }
   ],
   "source": [
    "ap.head()"
   ]
  },
  {
   "cell_type": "code",
   "execution_count": 71,
   "metadata": {
    "collapsed": false
   },
   "outputs": [
    {
     "data": {
      "text/plain": [
       "0.0    6164\n",
       "Name: actual, dtype: int64"
      ]
     },
     "execution_count": 71,
     "metadata": {},
     "output_type": "execute_result"
    }
   ],
   "source": [
    "ap[ap.incorrect == True].actual.value_counts()"
   ]
  },
  {
   "cell_type": "code",
   "execution_count": 72,
   "metadata": {
    "collapsed": false
   },
   "outputs": [
    {
     "data": {
      "text/plain": [
       "0.0    20519\n",
       "1.0      845\n",
       "Name: actual, dtype: int64"
      ]
     },
     "execution_count": 72,
     "metadata": {},
     "output_type": "execute_result"
    }
   ],
   "source": [
    "ap.actual.value_counts()"
   ]
  },
  {
   "cell_type": "markdown",
   "metadata": {},
   "source": [
    "### AUROC"
   ]
  },
  {
   "cell_type": "code",
   "execution_count": 87,
   "metadata": {
    "collapsed": false
   },
   "outputs": [
    {
     "data": {
      "text/plain": [
       "<matplotlib.axes._subplots.AxesSubplot at 0x10d3d9710>"
      ]
     },
     "execution_count": 87,
     "metadata": {},
     "output_type": "execute_result"
    },
    {
     "data": {
      "image/png": "[encoded data removed]",
      "text/plain": [
       "<matplotlib.figure.Figure at 0x10cb3dac8>"
      ]
     },
     "metadata": {},
     "output_type": "display_data"
    }
   ],
   "source": [
    "ml.plot_roc(y_test, y_test_hat)"
   ]
  },
  {
   "cell_type": "markdown",
   "metadata": {},
   "source": [
    "## 7. Removed const cols in Test data"
   ]
  },
  {
   "cell_type": "code",
   "execution_count": 35,
   "metadata": {
    "collapsed": true
   },
   "outputs": [],
   "source": [
    "df = pd.read_csv(FILE_TRAIN_DEDUP_ONEHOT_NA_ONEHOTINT_1TEST)\n",
    "df_test = pd.read_csv(FILE_TEST_DEDUP_ONEHOT_NA_ONEHOTINT_1TEST, index_col='ID')\n",
    "\n",
    "# Split up the data\n",
    "feature_cols = list(df.columns)\n",
    "feature_cols.remove(TARGET_COL)\n",
    "X_all = df[feature_cols]  # feature values for all students\n",
    "y_all = df[TARGET_COL]\n",
    "\n",
    "test_size = 0.3 # 30 percent\n",
    "X_train, X_test, y_train, y_test = train_test_split(\n",
    "    X_all, y_all, test_size=test_size, random_state=0, stratify=y_all)"
   ]
  },
  {
   "cell_type": "code",
   "execution_count": 27,
   "metadata": {
    "collapsed": false
   },
   "outputs": [
    {
     "name": "stdout",
     "output_type": "stream",
     "text": [
      "iteration 0\n",
      "Each iteration time(secs): 205.560\n",
      "iteration 1\n",
      "Each iteration time(secs): 210.873\n",
      "iteration 2\n",
      "Each iteration time(secs): 218.712\n",
      "CPU times: user 38min 55s, sys: 27.7 s, total: 39min 23s\n",
      "Wall time: 10min 35s\n"
     ]
    }
   ],
   "source": [
    "%%time\n",
    "\n",
    "# GridCV for Gradient Boost Model\n",
    "gbm = xgb.XGBRegressor(nthread=4, objective='binary:logistic')\n",
    "\n",
    "param_grid = {\n",
    "    'n_estimators': [129, 130, 131],\n",
    "    'max_depth': [4],\n",
    "    'learning_rate': [0.05],\n",
    "}\n",
    "best_score, best_model = ml.fine_tune_params(gbm,\n",
    "                                             X_train, y_train,\n",
    "                                             X_test, y_test,\n",
    "                                             param_grid,\n",
    "                                             n_runs=3,\n",
    "                                             n_cv=5,\n",
    "                                             scorer=roc_auc_score,\n",
    "                                             n_jobs=1)"
   ]
  },
  {
   "cell_type": "code",
   "execution_count": 29,
   "metadata": {
    "collapsed": false,
    "scrolled": true
   },
   "outputs": [
    {
     "name": "stdout",
     "output_type": "stream",
     "text": [
      "130 | 4 | 0.05 | 0.864658233748 | 0.840711322253\n"
     ]
    }
   ],
   "source": [
    "print(\" | \".join(map(str, (best_model.n_estimators,\n",
    "                           best_model.max_depth,\n",
    "                           best_model.learning_rate,\n",
    "                           roc_auc_score(y_train, best_model.predict(X_train)),\n",
    "                           best_score))))"
   ]
  },
  {
   "cell_type": "markdown",
   "metadata": {},
   "source": [
    "n_estimators | max_depth | learning_rate | train score | test score | gridcv params\n",
    "-------------|-----------|---------------|-------------|------------|-------------------------\n",
    "200 | 4 | 0.05 | 0.872806025511 | 0.841855679438 | [100, 200, 300], [3, 4], [0.05],\n",
    "175 | 4 | 0.05 | 0.870684656319 | 0.842048688602 | [175, 225], [3, 4], [0.05],\n",
    "130 | 4 | 0.05 | 0.864658233748 | 0.840711322253 | [110, 120, 128, 130, 132, 150, 170, 175, 190], [4], [0.05],\n"
   ]
  },
  {
   "cell_type": "code",
   "execution_count": 36,
   "metadata": {
    "collapsed": false
   },
   "outputs": [],
   "source": [
    "gbm = xgb.XGBRegressor(max_depth=best_model.max_depth,\n",
    "                       n_estimators=best_model.n_estimators,\n",
    "                       learning_rate=best_model.learning_rate,\n",
    "                       nthread=4, objective='binary:logistic')\n",
    "kg.save_submission(gbm.fit(X_all, y_all).predict(df_test), 'submissions/const_test.xgb.csv')  # Score 0.837155"
   ]
  },
  {
   "cell_type": "code",
   "execution_count": 12,
   "metadata": {
    "collapsed": false
   },
   "outputs": [
    {
     "data": {
      "text/plain": [
       "<matplotlib.axes._subplots.AxesSubplot at 0x10b27e2e8>"
      ]
     },
     "execution_count": 12,
     "metadata": {},
     "output_type": "execute_result"
    },
    {
     "data": {
      "image/png": "[encoded data removed]",
      "text/plain": [
       "<matplotlib.figure.Figure at 0x10b26fa90>"
      ]
     },
     "metadata": {},
     "output_type": "display_data"
    }
   ],
   "source": [
    "# Check performance over number of trees\n",
    "train_scores = []\n",
    "test_scores = []\n",
    "num_trees_idx = list(range(100, 1000, 50))\n",
    "for t in num_trees_idx:\n",
    "    gbm = xgb.XGBRegressor(\n",
    "        max_depth=4, n_estimators=t, learning_rate=0.05, nthread=8, objective='binary:logistic').fit(X_train, y_train)\n",
    "    train_scores.append(roc_auc_score(y_train, gbm.predict(X_train)))\n",
    "    test_scores.append(roc_auc_score(y_test, gbm.predict(X_test)))\n",
    "    \n",
    "pd.DataFrame({\n",
    "    'num_trees': num_trees_idx,\n",
    "    'train': train_scores,\n",
    "    'test': test_scores\n",
    "}).set_index('num_trees').plot()"
   ]
  },
  {
   "cell_type": "code",
   "execution_count": 14,
   "metadata": {
    "collapsed": false
   },
   "outputs": [
    {
     "data": {
      "text/plain": [
       "4"
      ]
     },
     "execution_count": 14,
     "metadata": {},
     "output_type": "execute_result"
    }
   ],
   "source": [
    "np.argmax(test_scores)"
   ]
  },
  {
   "cell_type": "code",
   "execution_count": 16,
   "metadata": {
    "collapsed": false
   },
   "outputs": [
    {
     "data": {
      "text/plain": [
       "300"
      ]
     },
     "execution_count": 16,
     "metadata": {},
     "output_type": "execute_result"
    }
   ],
   "source": [
    "num_trees_idx[4]"
   ]
  },
  {
   "cell_type": "markdown",
   "metadata": {
    "collapsed": true
   },
   "source": [
    "## TensorFlow"
   ]
  },
  {
   "cell_type": "code",
   "execution_count": 3,
   "metadata": {
    "collapsed": true
   },
   "outputs": [],
   "source": [
    "# Read and split data\n",
    "X_train, y_train, X_test, y_test, feature_cols, df_train, df_test = santander.read_split(santander.FILE_TRAIN,\n",
    "                                                                                         santander.FILE_TEST)"
   ]
  },
  {
   "cell_type": "code",
   "execution_count": null,
   "metadata": {
    "collapsed": true
   },
   "outputs": [],
   "source": [
    "import tensorflow as tf\n",
    "import math\n",
    "\n",
    "num_steps = 1001\n",
    "beta1 = 1e-5\n",
    "beta2 = 1e-5\n",
    "beta3 = 1e-5\n",
    "batch_size = 128\n",
    "H1 = 1024\n",
    "H2 = 500\n",
    "#IMAGE_PIXELS = image_size * image_size\n",
    "n_features = len(feature_cols)\n",
    "num_labels = 2\n",
    "KEEP_PROB = 0.5\n",
    "#learn_rate = 0.01\n",
    "starter_learning_rate = 0.5\n",
    "\n",
    "# Take small subset of training data\n",
    "# _positions_small_subset = np.random.choice(train_dataset.shape[0], size=500, replace=False)\n",
    "_train_data = train_dataset#[_positions_small_subset,:]\n",
    "_train_y = train_labels#[_positions_small_subset, :]\n",
    "\n",
    "graph = tf.Graph()\n",
    "with graph.as_default():\n",
    "\n",
    "    tf_train_dataset = tf.placeholder(tf.float32, shape=(batch_size, n_features))\n",
    "    tf_train_labels = tf.placeholder(tf.float32, shape=(batch_size, num_labels))\n",
    "    tf_valid_dataset = tf.constant(valid_dataset)\n",
    "    tf_test_dataset = tf.constant(test_dataset)\n",
    "\n",
    "    keep_prob = tf.placeholder(tf.float32)\n",
    "    \n",
    "    # Hidden layer\n",
    "    with tf.name_scope('hidden1') as scope:\n",
    "        weights_hidden1 = tf.Variable(\n",
    "            tf.truncated_normal([IMAGE_PIXELS, H1],\n",
    "                                stddev=1.0 / math.sqrt(float(IMAGE_PIXELS))), name='weights1')\n",
    "        biases_hidden1 = tf.Variable(tf.zeros([H1]), name='biases1')        \n",
    "        hidden1 = tf.nn.relu(tf.matmul(tf_train_dataset, weights_hidden1) + biases_hidden1)\n",
    "\n",
    "        # Dropout\n",
    "#         hidden1 = tf.nn.dropout(hidden1, keep_prob)\n",
    "        \n",
    "    with tf.name_scope('hidden2') as scope:\n",
    "        weights_hidden2 = tf.Variable(\n",
    "            tf.truncated_normal([H1, H2],\n",
    "                                stddev=1.0 / math.sqrt(float(H1))), name='weights2')\n",
    "        biases_hidden2 = tf.Variable(tf.zeros([H2]), name='biases2')        \n",
    "        hidden2 = tf.nn.relu(tf.matmul(hidden1, weights_hidden2) + biases_hidden2)\n",
    "\n",
    "        # Dropout\n",
    "#         hidden2 = tf.nn.dropout(hidden2, keep_prob)\n",
    "        \n",
    "    # Output\n",
    "    with tf.name_scope('softmax_linear'):\n",
    "        weights_out = tf.Variable(\n",
    "            tf.truncated_normal([H2, num_labels],\n",
    "                                stddev=1.0 / math.sqrt(float(H2))),\n",
    "            name='weights')\n",
    "        biases_out = tf.Variable(tf.zeros([num_labels]), name='biases_out')\n",
    "        logits = tf.matmul(hidden2, weights_out) + biases_out\n",
    "\n",
    "    # Training computation.\n",
    "    loss = tf.reduce_mean(tf.nn.softmax_cross_entropy_with_logits(logits, tf_train_labels))\n",
    "    \n",
    "    # L2 Regularization\n",
    "    loss += (beta1 * tf.nn.l2_loss(weights_hidden1) + beta2 * tf.nn.l2_loss(weights_hidden2) + beta3 * tf.nn.l2_loss(weights_out))\n",
    "\n",
    "    # Optimizer\n",
    "    global_step = tf.Variable(0, trainable=False)\n",
    "    learning_rate = tf.train.exponential_decay(starter_learning_rate, global_step,\n",
    "                                               1000, 0.65, staircase=True)\n",
    "    optimizer = tf.train.GradientDescentOptimizer(learning_rate).minimize(loss, global_step=global_step)\n",
    "\n",
    "    # Predictions for the training, validation, and test data.\n",
    "    train_prediction = tf.nn.softmax(logits)\n",
    "    \n",
    "    valid_prediction_after_h1 = tf.nn.relu(tf.matmul(tf_valid_dataset, weights_hidden1) + biases_hidden1)\n",
    "    valid_prediction_after_h2 = tf.nn.relu(tf.matmul(valid_prediction_after_h1, weights_hidden2) + biases_hidden2)\n",
    "    valid_prediction = tf.nn.softmax(tf.matmul(valid_prediction_after_h2, weights_out) + biases_out)\n",
    "\n",
    "    test_prediction_after_h1 = tf.nn.relu(tf.matmul(tf_test_dataset, weights_hidden1) + biases_hidden1)\n",
    "    test_prediction_after_h2 = tf.nn.relu(tf.matmul(test_prediction_after_h1, weights_hidden2) + biases_hidden2)\n",
    "    test_prediction = tf.nn.softmax(tf.matmul(test_prediction_after_h2, weights_out) + biases_out)\n",
    "\n",
    "with tf.Session(graph=graph) as session:\n",
    "    tf.initialize_all_variables().run()\n",
    "    for step in range(num_steps):    \n",
    "        _positions = np.random.choice(_train_data.shape[0], size=batch_size, replace=False)\n",
    "        batch_data = _train_data[_positions, :]\n",
    "        batch_labels = _train_y[_positions, :]\n",
    "\n",
    "        # Prepare a dictionary telling the session where to feed the minibatch.\n",
    "        feed_dict = {tf_train_dataset : batch_data, tf_train_labels : batch_labels, keep_prob: KEEP_PROB}\n",
    "        _, l, predictions = session.run([optimizer, loss, train_prediction], feed_dict=feed_dict)\n",
    "        if (step % 500 == 0):\n",
    "            print(\"Minibatch loss at step %d: %f\" % (step, l))\n",
    "            print(\"Minibatch accuracy: %.1f%%\" % accuracy(predictions, batch_labels))\n",
    "            print(\"Validation accuracy: %.1f%%\" % accuracy(valid_prediction.eval(), valid_labels))\n",
    "    print(\"Test accuracy: %.1f%%\" % accuracy(test_prediction.eval(), test_labels))"
   ]
  }
 ],
 "metadata": {
  "kernelspec": {
   "display_name": "Python 3",
   "language": "python",
   "name": "python3"
  },
  "language_info": {
   "codemirror_mode": {
    "name": "ipython",
    "version": 3
   },
   "file_extension": ".py",
   "mimetype": "text/x-python",
   "name": "python",
   "nbconvert_exporter": "python",
   "pygments_lexer": "ipython3",
   "version": "3.5.1"
  }
 },
 "nbformat": 4,
 "nbformat_minor": 0
}
