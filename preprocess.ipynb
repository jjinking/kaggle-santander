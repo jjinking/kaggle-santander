{
 "cells": [
  {
   "cell_type": "raw",
   "metadata": {},
   "source": [
    "TODO\n",
    "\n",
    "D - go through all the columns, and figure out what the null values are represented as\n",
    "\n",
    "D - remove constant columns again, after setting all the null values in the columns\n",
    "\n",
    "D - impute NaN with entire train and test data: https://www.kaggle.com/cbrogan/titanic/xgboost-example-python\n",
    "\n",
    "D - find all categorical columns (that are not binary), and one-hot encode them\n",
    "\n",
    "find categorical columns that are off by one, i.e. 100000 in train while 99999 in test\n",
    "    - search for equal num unique, but not equal unique vals\n",
    "\n",
    "remove all columns that are constant in test file - see if the *other* value in the train data is heavily biased for another label\n",
    "\n",
    "transform data that has exponentially growing values, i.e. log\n",
    "\n",
    "find advanced ways to deal with training data that has unbalanced labels - weighting?\n",
    "\n",
    "create more training data by slightly perturbing the sure data\n",
    "\n",
    "do stuff in kaggle blog - 2nd place\n",
    "\n",
    "modify .9 predictions to 1.0, etc\n",
    "\n",
    "try tensorflow"
   ]
  },
  {
   "cell_type": "code",
   "execution_count": 1,
   "metadata": {
    "collapsed": false
   },
   "outputs": [],
   "source": [
    "%matplotlib inline\n",
    "%load_ext autoreload\n",
    "%autoreload 2\n",
    "import os\n",
    "import sys\n",
    "\n",
    "import csv\n",
    "import datetime\n",
    "import itertools\n",
    "import numpy as np\n",
    "import pandas as pd\n",
    "import random\n",
    "import re\n",
    "import sklearn\n",
    "import time\n",
    "from collections import defaultdict\n",
    "\n",
    "import matplotlib as mpl\n",
    "import matplotlib.pyplot as plt\n",
    "import seaborn as sns\n",
    "sns.set_style(\"whitegrid\")\n",
    "sns.set_context(rc={\n",
    "       \"figure.figsize\": (16, 10),\n",
    "       \"axes.titlesize\": 14})\n",
    "\n",
    "from IPython.display import Image, display\n",
    "from IPython.core.display import HTML\n",
    "HTML(\"<style>.container { width:100% !important; }</style>\")\n",
    "\n",
    "from os.path import expanduser\n",
    "sys.path.insert(1, '{}/datsci'.format(expanduser('~')))\n",
    "from datsci import eda, munge\n",
    "from datsci import kaggle as kg"
   ]
  },
  {
   "cell_type": "code",
   "execution_count": 190,
   "metadata": {
    "collapsed": false
   },
   "outputs": [],
   "source": [
    "FILE_TRAIN                               = 'data/train.csv'\n",
    "FILE_TRAIN_DEDUP                         = 'data/train.dedup.csv'\n",
    "FILE_TRAIN_DEDUP_ONEHOT                  = 'data/train.dedup.onehot.csv'\n",
    "FILE_TRAIN_DEDUP_ONEHOT_NA               = 'data/train.dedup.onehot.na.csv'\n",
    "FILE_TRAIN_DEDUP_ONEHOT_NA_IMPUTE_MEAN   = 'data/train.dedup.onehot.na.impute_mean.csv'\n",
    "FILE_TRAIN_DEDUP_ONEHOT_NA_IMPUTE_MEDIAN = 'data/train.dedup.onehot.na.impute_median.csv'\n",
    "FILE_TRAIN_DEDUP_ONEHOT_NA_IMPUTE_FREQ   = 'data/train.dedup.onehot.na.impute_freq.csv'\n",
    "FILE_TRAIN_DEDUP_ONEHOT_NA_ONEHOTINT     = 'data/train.dedup.onehot.na.onehotint.csv'\n",
    "\n",
    "FILE_TEST                                = 'data/test.csv'\n",
    "FILE_TEST_DEDUP                          = 'data/test.dedup.csv'\n",
    "FILE_TEST_DEDUP_ONEHOT                   = 'data/test.dedup.onehot.csv'\n",
    "FILE_TEST_DEDUP_ONEHOT_NA                = 'data/test.dedup.onehot.na.csv'\n",
    "FILE_TEST_DEDUP_ONEHOT_NA_IMPUTE_MEAN    = 'data/test.dedup.onehot.na.impute_mean.csv'\n",
    "FILE_TEST_DEDUP_ONEHOT_NA_IMPUTE_MEDIAN  = 'data/test.dedup.onehot.na.impute_median.csv'\n",
    "FILE_TEST_DEDUP_ONEHOT_NA_IMPUTE_FREQ    = 'data/test.dedup.onehot.na.impute_freq.csv'\n",
    "FILE_TEST_DEDUP_ONEHOT_NA_ONEHOTINT      = 'data/test.dedup.onehot.na.onehotint.csv'\n",
    "\n",
    "FILE_SAMPLE_SUBMIT                       = 'data/sample_submission.csv'\n",
    "\n",
    "TARGET_COL                               = 'TARGET'"
   ]
  },
  {
   "cell_type": "code",
   "execution_count": 226,
   "metadata": {
    "collapsed": false
   },
   "outputs": [
    {
     "data": {
      "text/html": [
       "<div>\n",
       "<table border=\"1\" class=\"dataframe\">\n",
       "  <thead>\n",
       "    <tr style=\"text-align: right;\">\n",
       "      <th></th>\n",
       "      <th>stage</th>\n",
       "      <th>train rows</th>\n",
       "      <th>train cols</th>\n",
       "      <th>test rows</th>\n",
       "      <th>test cols</th>\n",
       "    </tr>\n",
       "  </thead>\n",
       "  <tbody>\n",
       "    <tr>\n",
       "      <th>0</th>\n",
       "      <td>raw</td>\n",
       "      <td>76020</td>\n",
       "      <td>371</td>\n",
       "      <td>75818</td>\n",
       "      <td>369</td>\n",
       "    </tr>\n",
       "    <tr>\n",
       "      <th>1</th>\n",
       "      <td>dedup</td>\n",
       "      <td>71213</td>\n",
       "      <td>307</td>\n",
       "      <td>75818</td>\n",
       "      <td>306</td>\n",
       "    </tr>\n",
       "    <tr>\n",
       "      <th>2</th>\n",
       "      <td>bin onehot</td>\n",
       "      <td>71213</td>\n",
       "      <td>363</td>\n",
       "      <td>75818</td>\n",
       "      <td>362</td>\n",
       "    </tr>\n",
       "    <tr>\n",
       "      <th>3</th>\n",
       "      <td>NaN</td>\n",
       "      <td>71213</td>\n",
       "      <td>357</td>\n",
       "      <td>75818</td>\n",
       "      <td>356</td>\n",
       "    </tr>\n",
       "    <tr>\n",
       "      <th>4</th>\n",
       "      <td>impute mean</td>\n",
       "      <td>71213</td>\n",
       "      <td>357</td>\n",
       "      <td>75818</td>\n",
       "      <td>356</td>\n",
       "    </tr>\n",
       "    <tr>\n",
       "      <th>5</th>\n",
       "      <td>impute median</td>\n",
       "      <td>71179</td>\n",
       "      <td>357</td>\n",
       "      <td>75818</td>\n",
       "      <td>356</td>\n",
       "    </tr>\n",
       "    <tr>\n",
       "      <th>6</th>\n",
       "      <td>impute freq</td>\n",
       "      <td>71179</td>\n",
       "      <td>357</td>\n",
       "      <td>75818</td>\n",
       "      <td>356</td>\n",
       "    </tr>\n",
       "    <tr>\n",
       "      <th>7</th>\n",
       "      <td>onehot int</td>\n",
       "      <td>71213</td>\n",
       "      <td>398</td>\n",
       "      <td>75818</td>\n",
       "      <td>397</td>\n",
       "    </tr>\n",
       "  </tbody>\n",
       "</table>\n",
       "</div>"
      ],
      "text/plain": [
       "           stage  train rows  train cols  test rows  test cols\n",
       "0            raw       76020         371      75818        369\n",
       "1          dedup       71213         307      75818        306\n",
       "2     bin onehot       71213         363      75818        362\n",
       "3            NaN       71213         357      75818        356\n",
       "4    impute mean       71213         357      75818        356\n",
       "5  impute median       71179         357      75818        356\n",
       "6    impute freq       71179         357      75818        356\n",
       "7     onehot int       71213         398      75818        397"
      ]
     },
     "execution_count": 226,
     "metadata": {},
     "output_type": "execute_result"
    }
   ],
   "source": [
    "def get_sizes(train_csv, test_csv):\n",
    "    df = pd.read_csv(train_csv)\n",
    "    df_test = pd.read_csv(test_csv, index_col='ID')\n",
    "    train_rows, train_cols = df.shape\n",
    "    test_rows, test_cols = df_test.shape\n",
    "    return train_rows, train_cols, test_rows, test_cols\n",
    "\n",
    "\n",
    "data_shapes = []\n",
    "for s, train_csv, test_csv in [\n",
    "    ('raw',           FILE_TRAIN,                               FILE_TEST),\n",
    "    ('dedup',         FILE_TRAIN_DEDUP,                         FILE_TEST_DEDUP),\n",
    "    ('bin onehot',    FILE_TRAIN_DEDUP_ONEHOT,                  FILE_TEST_DEDUP_ONEHOT),\n",
    "    ('NaN',           FILE_TRAIN_DEDUP_ONEHOT_NA,               FILE_TEST_DEDUP_ONEHOT_NA),\n",
    "    ('impute mean',   FILE_TRAIN_DEDUP_ONEHOT_NA_IMPUTE_MEAN,   FILE_TEST_DEDUP_ONEHOT_NA_IMPUTE_MEAN),\n",
    "    ('impute median', FILE_TRAIN_DEDUP_ONEHOT_NA_IMPUTE_MEDIAN, FILE_TEST_DEDUP_ONEHOT_NA_IMPUTE_MEDIAN),\n",
    "    ('impute freq',   FILE_TRAIN_DEDUP_ONEHOT_NA_IMPUTE_FREQ,   FILE_TEST_DEDUP_ONEHOT_NA_IMPUTE_FREQ),\n",
    "    ('onehot int',    FILE_TRAIN_DEDUP_ONEHOT_NA_ONEHOTINT,     FILE_TEST_DEDUP_ONEHOT_NA_ONEHOTINT),]:\n",
    "    data_shapes.append((s,) + get_sizes(train_csv, test_csv))\n",
    "pd.DataFrame(data_shapes, columns=['stage', 'train rows', 'train cols', 'test rows', 'test cols'])"
   ]
  },
  {
   "cell_type": "markdown",
   "metadata": {},
   "source": [
    "## Remove duplicates"
   ]
  },
  {
   "cell_type": "code",
   "execution_count": 3,
   "metadata": {
    "collapsed": true
   },
   "outputs": [],
   "source": [
    "def dedup():\n",
    "    # Read data from file\n",
    "    df = pd.read_csv(FILE_TRAIN, index_col='ID')\n",
    "\n",
    "    # Remove duplicate rows\n",
    "    df.drop_duplicates(inplace=True)\n",
    "\n",
    "    # Remove constant columns\n",
    "    df.drop(eda.find_const_cols(df), axis=1, inplace=True)\n",
    "    \n",
    "    # Remove duplicate columns and then rows again\n",
    "    df = munge.remove_duplicates(df.T).T.drop_duplicates()\n",
    "    \n",
    "    # Write to file\n",
    "    df.to_csv(FILE_TRAIN_DEDUP, index=False)\n",
    "    \n",
    "    feature_cols = list(df.columns)\n",
    "    feature_cols.remove(TARGET_COL)\n",
    "\n",
    "    # Read in test\n",
    "    df_test = pd.read_csv(FILE_TEST, index_col='ID')\n",
    "    df_test[feature_cols].to_csv(FILE_TEST_DEDUP)\n",
    "    \n",
    "    \n",
    "if not os.path.exists(FILE_TRAIN_DEDUP):\n",
    "    dedup()"
   ]
  },
  {
   "cell_type": "markdown",
   "metadata": {},
   "source": [
    "## One-hot encode binary features"
   ]
  },
  {
   "cell_type": "code",
   "execution_count": 4,
   "metadata": {
    "collapsed": false
   },
   "outputs": [],
   "source": [
    "def one_hot_binary():\n",
    "    df = pd.read_csv(FILE_TRAIN_DEDUP)\n",
    "    feature_cols = list(df.columns)\n",
    "    feature_cols.remove(TARGET_COL)\n",
    "    df_test = pd.read_csv(FILE_TEST_DEDUP, index_col='ID')\n",
    "    \n",
    "    binary_cols = [c for c in df.columns if c[:4] == 'ind_']\n",
    "    \n",
    "    # Convert to int\n",
    "    for c in binary_cols:\n",
    "        df[c] = df[c].values.astype(int)\n",
    "    \n",
    "    df_onehot = munge.hash_features(df, columns=binary_cols)\n",
    "    df_test_onehot = munge.hash_features(df_test, columns=binary_cols)\n",
    "    \n",
    "    df_onehot.to_csv(FILE_TRAIN_DEDUP_ONEHOT, index=False)\n",
    "    df_test_onehot.to_csv(FILE_TEST_DEDUP_ONEHOT)\n",
    "\n",
    "\n",
    "if not os.path.exists(FILE_TRAIN_DEDUP_ONEHOT):\n",
    "    one_hot_binary()"
   ]
  },
  {
   "cell_type": "markdown",
   "metadata": {},
   "source": [
    "## Process known NaNs\n",
    "\n",
    "https://www.kaggle.com/c/santander-customer-satisfaction/forums/t/19291/data-dictionary/111360#post111360"
   ]
  },
  {
   "cell_type": "code",
   "execution_count": 5,
   "metadata": {
    "collapsed": false
   },
   "outputs": [],
   "source": [
    "def process_known_nans():\n",
    "    df = pd.read_csv(FILE_TRAIN_DEDUP_ONEHOT)\n",
    "    feature_cols = list(df.columns)\n",
    "    feature_cols.remove(TARGET_COL)\n",
    "    df_test = pd.read_csv(FILE_TEST_DEDUP_ONEHOT, index_col='ID')\n",
    "    \n",
    "    # Var3\n",
    "    df['var3'] = df.var3.replace(-999999, np.nan)\n",
    "    df_test['var3'] = df_test.var3.replace(-999999, np.nan)\n",
    "    \n",
    "    # Find integer features with null values\n",
    "    for c in feature_cols:\n",
    "        if df[c].describe()['max'] == 9999999999:\n",
    "            df[c] = df[c].replace(9999999999, np.nan)\n",
    "            df_test[c] = df_test[c].replace(9999999999, np.nan)\n",
    "    \n",
    "    # Remove constant columns\n",
    "    df.drop(eda.find_const_cols(df), axis=1, inplace=True)\n",
    "\n",
    "    # Remove duplicate columns and then rows again\n",
    "    df = munge.remove_duplicates(df.T).T.drop_duplicates()\n",
    "    \n",
    "    # Write to file\n",
    "    df.to_csv(FILE_TRAIN_DEDUP_ONEHOT_NA, index=False)\n",
    "    feature_cols = list(df.columns)\n",
    "    feature_cols.remove(TARGET_COL)\n",
    "    df_test[feature_cols].to_csv(FILE_TEST_DEDUP_ONEHOT_NA)\n",
    "    \n",
    "    \n",
    "if not os.path.exists(FILE_TRAIN_DEDUP_ONEHOT_NA):\n",
    "    process_known_nans()"
   ]
  },
  {
   "cell_type": "markdown",
   "metadata": {},
   "source": [
    "## Fill in null values"
   ]
  },
  {
   "cell_type": "code",
   "execution_count": 225,
   "metadata": {
    "collapsed": true
   },
   "outputs": [],
   "source": [
    "from sklearn.preprocessing import Imputer\n",
    "\n",
    "def impute_null_vals(train_csv, test_csv, train_out_csv, test_out_csv, strategy='mean'):\n",
    "\n",
    "    # Read in data\n",
    "    df = pd.read_csv(train_csv)\n",
    "    feature_cols = list(df.columns)\n",
    "    feature_cols.remove(TARGET_COL)\n",
    "    df_test = pd.read_csv(test_csv, index_col='ID')\n",
    "\n",
    "    # Impute using combined (train + test) datasets\n",
    "    df_combined = df[feature_cols].append(df_test[feature_cols])\n",
    "    imputer = Imputer(missing_values='NaN', strategy=strategy, axis=0, verbose=0, copy=False).fit(df_combined)\n",
    "    df[feature_cols] = imputer.transform(df[feature_cols])\n",
    "    df_test[feature_cols] = imputer.transform(df_test[feature_cols])\n",
    "    \n",
    "    # Remove duplicate columns and rows\n",
    "    df = munge.remove_duplicates(df.T).T.drop_duplicates()\n",
    "    feature_cols = list(df.columns)\n",
    "    feature_cols.remove(TARGET_COL)\n",
    "    df_test = df_test[feature_cols]\n",
    "    \n",
    "    # Write to file\n",
    "    df.to_csv(train_out_csv, index=False)\n",
    "    feature_cols = list(df.columns)\n",
    "    feature_cols.remove(TARGET_COL)\n",
    "    df_test[feature_cols].to_csv(test_out_csv)\n",
    "    \n",
    "    \n",
    "if not os.path.exists(FILE_TRAIN_DEDUP_ONEHOT_NA_IMPUTE_MEAN):\n",
    "    impute_null_vals(\n",
    "        FILE_TRAIN_DEDUP_ONEHOT_NA,               FILE_TEST_DEDUP_ONEHOT_NA,\n",
    "        FILE_TRAIN_DEDUP_ONEHOT_NA_IMPUTE_MEAN,   FILE_TEST_DEDUP_ONEHOT_NA_IMPUTE_MEAN,\n",
    "        strategy='mean'\n",
    "    )\n",
    "    \n",
    "if not os.path.exists(FILE_TRAIN_DEDUP_ONEHOT_NA_IMPUTE_MEDIAN):\n",
    "    impute_null_vals(\n",
    "        FILE_TRAIN_DEDUP_ONEHOT_NA,               FILE_TEST_DEDUP_ONEHOT_NA,\n",
    "        FILE_TRAIN_DEDUP_ONEHOT_NA_IMPUTE_MEDIAN, FILE_TEST_DEDUP_ONEHOT_NA_IMPUTE_MEDIAN,\n",
    "        strategy='median'\n",
    "    )\n",
    "    \n",
    "if not os.path.exists(FILE_TRAIN_DEDUP_ONEHOT_NA_IMPUTE_FREQ):\n",
    "    impute_null_vals(\n",
    "        FILE_TRAIN_DEDUP_ONEHOT_NA,               FILE_TEST_DEDUP_ONEHOT_NA,\n",
    "        FILE_TRAIN_DEDUP_ONEHOT_NA_IMPUTE_FREQ,   FILE_TEST_DEDUP_ONEHOT_NA_IMPUTE_FREQ,\n",
    "        strategy='most_frequent'\n",
    "    )"
   ]
  },
  {
   "cell_type": "markdown",
   "metadata": {},
   "source": [
    "## Turn some of the integer columns to categorical features"
   ]
  },
  {
   "cell_type": "code",
   "execution_count": 220,
   "metadata": {
    "collapsed": true
   },
   "outputs": [],
   "source": [
    "def one_hot_int():\n",
    "    df = pd.read_csv(FILE_TRAIN_DEDUP_ONEHOT_NA)\n",
    "    feature_cols = list(df.columns)\n",
    "    feature_cols.remove(TARGET_COL)\n",
    "    df_test = pd.read_csv(FILE_TEST_DEDUP_ONEHOT_NA, index_col='ID')\n",
    "    \n",
    "    # Ignore already-one hot encoded columns\n",
    "    int_cols = feature_cols[:]\n",
    "    for c in feature_cols:\n",
    "        if c[:6] == 'onehot':\n",
    "            int_cols.remove(c)\n",
    "           \n",
    "    # Fine categorical columns\n",
    "    categorical_cols = eda.find_categorical_columns(df[int_cols], df_test)\n",
    "    \n",
    "    # Convert non-null value containing columns to integers\n",
    "    for c, n in categorical_cols:\n",
    "        # Dont turn null values to int\n",
    "        if c not in {'delta_imp_trasp_var17_in_1y3', 'delta_imp_trasp_var33_in_1y3'}:\n",
    "            df[c] = df[c].values.astype(int)\n",
    "\n",
    "    # One-hot encode the categorical columns\n",
    "    catcols = list(map(lambda t: t[0], categorical_cols))\n",
    "    df_onehot = munge.hash_features(df, columns=catcols)\n",
    "    df_test_onehot = munge.hash_features(df_test, columns=catcols)\n",
    "\n",
    "    # Remove duplicate columns and rows\n",
    "    df_onehot = munge.remove_duplicates(df_onehot.T).T.drop_duplicates()\n",
    "    feature_cols = list(df_onehot.columns)\n",
    "    feature_cols.remove(TARGET_COL)\n",
    "    df_test_onehot = df_test_onehot[feature_cols]\n",
    "    \n",
    "    # Save to file\n",
    "    df_onehot.to_csv(FILE_TRAIN_DEDUP_ONEHOT_NA_ONEHOTINT, index=False)\n",
    "    df_test_onehot.to_csv(FILE_TEST_DEDUP_ONEHOT_NA_ONEHOTINT)\n",
    "\n",
    "    \n",
    "if not os.path.exists(FILE_TRAIN_DEDUP_ONEHOT_NA_ONEHOTINT):\n",
    "    one_hot_int()"
   ]
  },
  {
   "cell_type": "markdown",
   "metadata": {},
   "source": [
    "## Find weird columns and delete them"
   ]
  },
  {
   "cell_type": "markdown",
   "metadata": {},
   "source": [
    "#### Starting with binary columns"
   ]
  },
  {
   "cell_type": "code",
   "execution_count": 169,
   "metadata": {
    "collapsed": false
   },
   "outputs": [
    {
     "data": {
      "text/plain": [
       "72"
      ]
     },
     "execution_count": 169,
     "metadata": {},
     "output_type": "execute_result"
    }
   ],
   "source": [
    "len([c for c, n in categorical_cols if n==2])"
   ]
  },
  {
   "cell_type": "code",
   "execution_count": 157,
   "metadata": {
    "collapsed": true
   },
   "outputs": [],
   "source": [
    "binary_cols_01 = []\n",
    "for c, n in categorical_cols:\n",
    "    if n == 2 and (set(df[c].unique()) == {0, 1} or set(df[c].unique()) == {0.0, 1.0}):\n",
    "        binary_cols_01.append(c)"
   ]
  },
  {
   "cell_type": "code",
   "execution_count": 158,
   "metadata": {
    "collapsed": false
   },
   "outputs": [
    {
     "data": {
      "text/plain": [
       "54"
      ]
     },
     "execution_count": 158,
     "metadata": {},
     "output_type": "execute_result"
    }
   ],
   "source": [
    "len(binary_cols_01)"
   ]
  },
  {
   "cell_type": "code",
   "execution_count": 154,
   "metadata": {
    "collapsed": false
   },
   "outputs": [
    {
     "data": {
      "text/plain": [
       "{'ind_var30', 'ind_var5'}"
      ]
     },
     "execution_count": 154,
     "metadata": {},
     "output_type": "execute_result"
    }
   ],
   "source": [
    "set(binary_cols2) - set(binary_cols_01)"
   ]
  },
  {
   "cell_type": "code",
   "execution_count": 155,
   "metadata": {
    "collapsed": false
   },
   "outputs": [
    {
     "data": {
      "text/plain": [
       "1.0    53605\n",
       "0.0    17608\n",
       "Name: ind_var30, dtype: int64"
      ]
     },
     "execution_count": 155,
     "metadata": {},
     "output_type": "execute_result"
    }
   ],
   "source": [
    "df.ind_var30.value_counts()"
   ]
  },
  {
   "cell_type": "code",
   "execution_count": 156,
   "metadata": {
    "collapsed": false
   },
   "outputs": [
    {
     "data": {
      "text/plain": [
       "1    55648\n",
       "0    20170\n",
       "Name: ind_var30, dtype: int64"
      ]
     },
     "execution_count": 156,
     "metadata": {},
     "output_type": "execute_result"
    }
   ],
   "source": [
    "df_test.ind_var30.value_counts()"
   ]
  },
  {
   "cell_type": "code",
   "execution_count": 46,
   "metadata": {
    "collapsed": false
   },
   "outputs": [
    {
     "data": {
      "text/plain": [
       "['num_var6_0',\n",
       " 'num_var6',\n",
       " 'num_var8',\n",
       " 'num_var18_0',\n",
       " 'num_var20_0',\n",
       " 'num_var20',\n",
       " 'num_var34_0',\n",
       " 'num_var40',\n",
       " 'delta_imp_amort_var18_1y3',\n",
       " 'delta_imp_amort_var34_1y3',\n",
       " 'delta_imp_reemb_var13_1y3',\n",
       " 'delta_imp_trasp_var33_out_1y3',\n",
       " 'num_meses_var13_medio_ult3',\n",
       " 'num_reemb_var13_ult1',\n",
       " 'num_trasp_var33_in_hace3',\n",
       " 'num_trasp_var33_out_ult1']"
      ]
     },
     "execution_count": 46,
     "metadata": {},
     "output_type": "execute_result"
    }
   ],
   "source": [
    "# Check binary cols that are weird\n",
    "weird_binary_cols = []\n",
    "for c, n in categorical_cols:\n",
    "    if n == 2:\n",
    "        if set(df[c].unique()) != {0, 1}:\n",
    "            weird_binary_cols.append(c)\n",
    "weird_binary_cols"
   ]
  },
  {
   "cell_type": "code",
   "execution_count": 47,
   "metadata": {
    "collapsed": false
   },
   "outputs": [
    {
     "name": "stdout",
     "output_type": "stream",
     "text": [
      "delta_imp_amort_var18_1y3\n"
     ]
    },
    {
     "data": {
      "text/html": [
       "<div>\n",
       "<table border=\"1\" class=\"dataframe\">\n",
       "  <thead>\n",
       "    <tr style=\"text-align: right;\">\n",
       "      <th></th>\n",
       "      <th>test</th>\n",
       "      <th>train</th>\n",
       "    </tr>\n",
       "  </thead>\n",
       "  <tbody>\n",
       "    <tr>\n",
       "      <th>0</th>\n",
       "      <td>75817</td>\n",
       "      <td>71211</td>\n",
       "    </tr>\n",
       "    <tr>\n",
       "      <th>9999999999</th>\n",
       "      <td>1</td>\n",
       "      <td>2</td>\n",
       "    </tr>\n",
       "  </tbody>\n",
       "</table>\n",
       "</div>"
      ],
      "text/plain": [
       "             test  train\n",
       "0           75817  71211\n",
       "9999999999      1      2"
      ]
     },
     "execution_count": 47,
     "metadata": {},
     "output_type": "execute_result"
    }
   ],
   "source": [
    "x = 8\n",
    "print(weird_binary_cols[x])\n",
    "pd.DataFrame({'train': df[weird_binary_cols[x]].value_counts(), 'test': df_test[weird_binary_cols[x]].value_counts()})"
   ]
  },
  {
   "cell_type": "code",
   "execution_count": 48,
   "metadata": {
    "collapsed": false
   },
   "outputs": [],
   "source": [
    "delete_cols = ['delta_imp_amort_var18_1y3']"
   ]
  },
  {
   "cell_type": "code",
   "execution_count": 49,
   "metadata": {
    "collapsed": false
   },
   "outputs": [
    {
     "name": "stdout",
     "output_type": "stream",
     "text": [
      "delta_imp_amort_var34_1y3\n"
     ]
    },
    {
     "data": {
      "text/html": [
       "<div>\n",
       "<table border=\"1\" class=\"dataframe\">\n",
       "  <thead>\n",
       "    <tr style=\"text-align: right;\">\n",
       "      <th></th>\n",
       "      <th>test</th>\n",
       "      <th>train</th>\n",
       "    </tr>\n",
       "  </thead>\n",
       "  <tbody>\n",
       "    <tr>\n",
       "      <th>0</th>\n",
       "      <td>75816</td>\n",
       "      <td>71211</td>\n",
       "    </tr>\n",
       "    <tr>\n",
       "      <th>9999999999</th>\n",
       "      <td>2</td>\n",
       "      <td>2</td>\n",
       "    </tr>\n",
       "  </tbody>\n",
       "</table>\n",
       "</div>"
      ],
      "text/plain": [
       "             test  train\n",
       "0           75816  71211\n",
       "9999999999      2      2"
      ]
     },
     "execution_count": 49,
     "metadata": {},
     "output_type": "execute_result"
    }
   ],
   "source": [
    "x = 9\n",
    "print(weird_binary_cols[x])\n",
    "pd.DataFrame({'train': df[weird_binary_cols[x]].value_counts(), 'test': df_test[weird_binary_cols[x]].value_counts()})"
   ]
  },
  {
   "cell_type": "code",
   "execution_count": 50,
   "metadata": {
    "collapsed": true
   },
   "outputs": [],
   "source": [
    "delete_cols.append('delta_imp_amort_var34_1y3')"
   ]
  },
  {
   "cell_type": "code",
   "execution_count": 51,
   "metadata": {
    "collapsed": false
   },
   "outputs": [
    {
     "name": "stdout",
     "output_type": "stream",
     "text": [
      "delta_imp_reemb_var13_1y3\n"
     ]
    },
    {
     "data": {
      "text/html": [
       "<div>\n",
       "<table border=\"1\" class=\"dataframe\">\n",
       "  <thead>\n",
       "    <tr style=\"text-align: right;\">\n",
       "      <th></th>\n",
       "      <th>test</th>\n",
       "      <th>train</th>\n",
       "    </tr>\n",
       "  </thead>\n",
       "  <tbody>\n",
       "    <tr>\n",
       "      <th>0</th>\n",
       "      <td>75791</td>\n",
       "      <td>71175</td>\n",
       "    </tr>\n",
       "    <tr>\n",
       "      <th>9999999999</th>\n",
       "      <td>27</td>\n",
       "      <td>38</td>\n",
       "    </tr>\n",
       "  </tbody>\n",
       "</table>\n",
       "</div>"
      ],
      "text/plain": [
       "             test  train\n",
       "0           75791  71175\n",
       "9999999999     27     38"
      ]
     },
     "execution_count": 51,
     "metadata": {},
     "output_type": "execute_result"
    }
   ],
   "source": [
    "x = 10\n",
    "print(weird_binary_cols[x])\n",
    "pd.DataFrame({'train': df[weird_binary_cols[x]].value_counts(), 'test': df_test[weird_binary_cols[x]].value_counts()})"
   ]
  },
  {
   "cell_type": "code",
   "execution_count": 52,
   "metadata": {
    "collapsed": true
   },
   "outputs": [],
   "source": [
    "delete_cols.append('delta_imp_reemb_var13_1y3')"
   ]
  },
  {
   "cell_type": "code",
   "execution_count": 53,
   "metadata": {
    "collapsed": false
   },
   "outputs": [
    {
     "name": "stdout",
     "output_type": "stream",
     "text": [
      "delta_imp_trasp_var33_out_1y3\n"
     ]
    },
    {
     "data": {
      "text/html": [
       "<div>\n",
       "<table border=\"1\" class=\"dataframe\">\n",
       "  <thead>\n",
       "    <tr style=\"text-align: right;\">\n",
       "      <th></th>\n",
       "      <th>test</th>\n",
       "      <th>train</th>\n",
       "    </tr>\n",
       "  </thead>\n",
       "  <tbody>\n",
       "    <tr>\n",
       "      <th>0</th>\n",
       "      <td>75817</td>\n",
       "      <td>71212</td>\n",
       "    </tr>\n",
       "    <tr>\n",
       "      <th>9999999999</th>\n",
       "      <td>1</td>\n",
       "      <td>1</td>\n",
       "    </tr>\n",
       "  </tbody>\n",
       "</table>\n",
       "</div>"
      ],
      "text/plain": [
       "             test  train\n",
       "0           75817  71212\n",
       "9999999999      1      1"
      ]
     },
     "execution_count": 53,
     "metadata": {},
     "output_type": "execute_result"
    }
   ],
   "source": [
    "x = 11\n",
    "print(weird_binary_cols[x])\n",
    "pd.DataFrame({'train': df[weird_binary_cols[x]].value_counts(), 'test': df_test[weird_binary_cols[x]].value_counts()})"
   ]
  },
  {
   "cell_type": "code",
   "execution_count": 63,
   "metadata": {
    "collapsed": true
   },
   "outputs": [],
   "source": [
    "delete_cols.append('delta_imp_trasp_var33_out_1y3')"
   ]
  },
  {
   "cell_type": "code",
   "execution_count": 70,
   "metadata": {
    "collapsed": false
   },
   "outputs": [
    {
     "data": {
      "text/plain": [
       "['delta_imp_amort_var18_1y3',\n",
       " 'delta_imp_amort_var34_1y3',\n",
       " 'delta_imp_reemb_var13_1y3',\n",
       " 'delta_imp_trasp_var33_out_1y3']"
      ]
     },
     "execution_count": 70,
     "metadata": {},
     "output_type": "execute_result"
    }
   ],
   "source": [
    "delete_cols"
   ]
  },
  {
   "cell_type": "markdown",
   "metadata": {},
   "source": [
    "#### Trinary columns"
   ]
  },
  {
   "cell_type": "code",
   "execution_count": 72,
   "metadata": {
    "collapsed": false
   },
   "outputs": [
    {
     "data": {
      "text/plain": [
       "['num_var1_0',\n",
       " 'num_var1',\n",
       " 'num_var8_0',\n",
       " 'num_var13_corto_0',\n",
       " 'num_var13_corto',\n",
       " 'num_var24',\n",
       " 'num_var33',\n",
       " 'num_var40_0',\n",
       " 'num_var44_0',\n",
       " 'delta_imp_trasp_var33_in_1y3',\n",
       " 'num_meses_var29_ult3',\n",
       " 'num_trasp_var33_in_ult1']"
      ]
     },
     "execution_count": 72,
     "metadata": {},
     "output_type": "execute_result"
    }
   ],
   "source": [
    "trinary_cols = [c for c, n in categorical_cols if n == 3]\n",
    "trinary_cols"
   ]
  },
  {
   "cell_type": "code",
   "execution_count": 76,
   "metadata": {
    "collapsed": false
   },
   "outputs": [
    {
     "name": "stdout",
     "output_type": "stream",
     "text": [
      "num_var13_corto_0\n"
     ]
    },
    {
     "data": {
      "text/html": [
       "<div>\n",
       "<table border=\"1\" class=\"dataframe\">\n",
       "  <thead>\n",
       "    <tr style=\"text-align: right;\">\n",
       "      <th></th>\n",
       "      <th>test</th>\n",
       "      <th>train</th>\n",
       "    </tr>\n",
       "  </thead>\n",
       "  <tbody>\n",
       "    <tr>\n",
       "      <th>0</th>\n",
       "      <td>72521</td>\n",
       "      <td>67949</td>\n",
       "    </tr>\n",
       "    <tr>\n",
       "      <th>3</th>\n",
       "      <td>3270</td>\n",
       "      <td>3226</td>\n",
       "    </tr>\n",
       "    <tr>\n",
       "      <th>6</th>\n",
       "      <td>27</td>\n",
       "      <td>38</td>\n",
       "    </tr>\n",
       "  </tbody>\n",
       "</table>\n",
       "</div>"
      ],
      "text/plain": [
       "    test  train\n",
       "0  72521  67949\n",
       "3   3270   3226\n",
       "6     27     38"
      ]
     },
     "execution_count": 76,
     "metadata": {},
     "output_type": "execute_result"
    }
   ],
   "source": [
    "x = 3\n",
    "print(trinary_cols[x])\n",
    "pd.DataFrame({'train': df[trinary_cols[x]].value_counts(), 'test': df_test[trinary_cols[x]].value_counts()})"
   ]
  },
  {
   "cell_type": "code",
   "execution_count": 79,
   "metadata": {
    "collapsed": false
   },
   "outputs": [
    {
     "name": "stdout",
     "output_type": "stream",
     "text": [
      "delta_imp_trasp_var33_in_1y3\n",
      "num_meses_var29_ult3\n"
     ]
    }
   ],
   "source": [
    "zero_three_six = {0, 3, 6}\n",
    "for c in trinary_cols:\n",
    "    if set(df[c].unique()) != zero_three_six:\n",
    "        print(c)"
   ]
  },
  {
   "cell_type": "code",
   "execution_count": 80,
   "metadata": {
    "collapsed": false
   },
   "outputs": [
    {
     "data": {
      "text/plain": [
       " 0.000000e+00    71202\n",
       "-1.000000e+00        6\n",
       " 1.000000e+10        5\n",
       "Name: delta_imp_trasp_var33_in_1y3, dtype: int64"
      ]
     },
     "execution_count": 80,
     "metadata": {},
     "output_type": "execute_result"
    }
   ],
   "source": [
    "df['delta_imp_trasp_var33_in_1y3'].value_counts()"
   ]
  },
  {
   "cell_type": "code",
   "execution_count": 81,
   "metadata": {
    "collapsed": false
   },
   "outputs": [
    {
     "data": {
      "text/plain": [
       " 0             75799\n",
       " 9999999999       12\n",
       "-1                 7\n",
       "Name: delta_imp_trasp_var33_in_1y3, dtype: int64"
      ]
     },
     "execution_count": 81,
     "metadata": {},
     "output_type": "execute_result"
    }
   ],
   "source": [
    "df_test['delta_imp_trasp_var33_in_1y3'].value_counts()"
   ]
  },
  {
   "cell_type": "markdown",
   "metadata": {},
   "source": [
    "#### Quaternary cols"
   ]
  },
  {
   "cell_type": "code",
   "execution_count": 87,
   "metadata": {
    "collapsed": false
   },
   "outputs": [
    {
     "data": {
      "text/plain": [
       "['num_meses_var8_ult3']"
      ]
     },
     "execution_count": 87,
     "metadata": {},
     "output_type": "execute_result"
    }
   ],
   "source": [
    "quaternary_cols = [c for c, n in categorical_cols if n == 4]\n",
    "quaternary_cols"
   ]
  },
  {
   "cell_type": "code",
   "execution_count": 92,
   "metadata": {
    "collapsed": false
   },
   "outputs": [
    {
     "data": {
      "text/plain": [
       "0.0    68998\n",
       "2.0      910\n",
       "1.0      830\n",
       "3.0      475\n",
       "Name: num_meses_var8_ult3, dtype: int64"
      ]
     },
     "execution_count": 92,
     "metadata": {},
     "output_type": "execute_result"
    }
   ],
   "source": [
    "df['num_meses_var8_ult3'].value_counts()"
   ]
  },
  {
   "cell_type": "code",
   "execution_count": 93,
   "metadata": {
    "collapsed": false
   },
   "outputs": [
    {
     "data": {
      "text/plain": [
       "0    73504\n",
       "1      917\n",
       "2      915\n",
       "3      482\n",
       "Name: num_meses_var8_ult3, dtype: int64"
      ]
     },
     "execution_count": 93,
     "metadata": {},
     "output_type": "execute_result"
    }
   ],
   "source": [
    "df_test['num_meses_var8_ult3'].value_counts()"
   ]
  },
  {
   "cell_type": "code",
   "execution_count": 94,
   "metadata": {
    "collapsed": false
   },
   "outputs": [
    {
     "data": {
      "text/plain": [
       "['num_var12',\n",
       " 'num_var14',\n",
       " 'num_var24_0',\n",
       " 'num_var33_0',\n",
       " 'delta_num_aport_var33_1y3',\n",
       " 'imp_var7_emit_ult1',\n",
       " 'imp_venta_var44_hace3',\n",
       " 'num_aport_var33_hace3',\n",
       " 'num_compra_var44_hace3',\n",
       " 'num_meses_var5_ult3',\n",
       " 'num_meses_var8_ult3',\n",
       " 'num_meses_var12_ult3',\n",
       " 'num_meses_var13_corto_ult3',\n",
       " 'num_meses_var13_largo_ult3',\n",
       " 'num_meses_var17_ult3',\n",
       " 'num_meses_var33_ult3',\n",
       " 'num_meses_var39_vig_ult3',\n",
       " 'num_meses_var44_ult3',\n",
       " 'saldo_medio_var29_ult1',\n",
       " 'saldo_medio_var29_ult3']"
      ]
     },
     "execution_count": 94,
     "metadata": {},
     "output_type": "execute_result"
    }
   ],
   "source": [
    "eda.find_n_nary_cols(df, n=4)"
   ]
  },
  {
   "cell_type": "code",
   "execution_count": 95,
   "metadata": {
    "collapsed": false
   },
   "outputs": [
    {
     "data": {
      "text/plain": [
       "0.0     67760\n",
       "3.0      3415\n",
       "6.0        37\n",
       "15.0        1\n",
       "Name: num_var12, dtype: int64"
      ]
     },
     "execution_count": 95,
     "metadata": {},
     "output_type": "execute_result"
    }
   ],
   "source": [
    "df.num_var12.value_counts()"
   ]
  },
  {
   "cell_type": "code",
   "execution_count": 96,
   "metadata": {
    "collapsed": false
   },
   "outputs": [
    {
     "data": {
      "text/plain": [
       "0    72379\n",
       "3     3414\n",
       "6       25\n",
       "Name: num_var12, dtype: int64"
      ]
     },
     "execution_count": 96,
     "metadata": {},
     "output_type": "execute_result"
    }
   ],
   "source": [
    "df_test.num_var12.value_counts()"
   ]
  },
  {
   "cell_type": "code",
   "execution_count": 97,
   "metadata": {
    "collapsed": false
   },
   "outputs": [
    {
     "data": {
      "text/plain": [
       "3.0      65440\n",
       "6.0       5121\n",
       "0.0        436\n",
       "9.0        203\n",
       "12.0         9\n",
       "15.0         2\n",
       "114.0        1\n",
       "18.0         1\n",
       "Name: num_var42_0, dtype: int64"
      ]
     },
     "execution_count": 97,
     "metadata": {},
     "output_type": "execute_result"
    }
   ],
   "source": [
    "df.num_var42_0.value_counts()"
   ]
  },
  {
   "cell_type": "code",
   "execution_count": 15,
   "metadata": {
    "collapsed": false
   },
   "outputs": [],
   "source": [
    "unique_hists = eda.get_hist_unique_col_values_many([df, df_test[feature_cols]], ['train dedup', 'test'], exclude_nan=True)"
   ]
  },
  {
   "cell_type": "code",
   "execution_count": 17,
   "metadata": {
    "collapsed": false
   },
   "outputs": [
    {
     "data": {
      "text/html": [
       "<div>\n",
       "<table border=\"1\" class=\"dataframe\">\n",
       "  <thead>\n",
       "    <tr style=\"text-align: right;\">\n",
       "      <th></th>\n",
       "      <th>train dedup</th>\n",
       "      <th>test</th>\n",
       "    </tr>\n",
       "  </thead>\n",
       "  <tbody>\n",
       "    <tr>\n",
       "      <th>1</th>\n",
       "      <td>NaN</td>\n",
       "      <td>9.0</td>\n",
       "    </tr>\n",
       "    <tr>\n",
       "      <th>2</th>\n",
       "      <td>86.0</td>\n",
       "      <td>76.0</td>\n",
       "    </tr>\n",
       "    <tr>\n",
       "      <th>3</th>\n",
       "      <td>26.0</td>\n",
       "      <td>26.0</td>\n",
       "    </tr>\n",
       "    <tr>\n",
       "      <th>4</th>\n",
       "      <td>20.0</td>\n",
       "      <td>17.0</td>\n",
       "    </tr>\n",
       "    <tr>\n",
       "      <th>5</th>\n",
       "      <td>13.0</td>\n",
       "      <td>13.0</td>\n",
       "    </tr>\n",
       "  </tbody>\n",
       "</table>\n",
       "</div>"
      ],
      "text/plain": [
       "   train dedup  test\n",
       "1          NaN   9.0\n",
       "2         86.0  76.0\n",
       "3         26.0  26.0\n",
       "4         20.0  17.0\n",
       "5         13.0  13.0"
      ]
     },
     "execution_count": 17,
     "metadata": {},
     "output_type": "execute_result"
    }
   ],
   "source": [
    "unique_hists.head()"
   ]
  },
  {
   "cell_type": "code",
   "execution_count": 6,
   "metadata": {
    "collapsed": false
   },
   "outputs": [
    {
     "data": {
      "text/html": [
       "<div>\n",
       "<table border=\"1\" class=\"dataframe\">\n",
       "  <thead>\n",
       "    <tr style=\"text-align: right;\">\n",
       "      <th></th>\n",
       "      <th>train dedup</th>\n",
       "      <th>test</th>\n",
       "    </tr>\n",
       "  </thead>\n",
       "  <tbody>\n",
       "    <tr>\n",
       "      <th>1</th>\n",
       "      <td>NaN</td>\n",
       "      <td>9.0</td>\n",
       "    </tr>\n",
       "    <tr>\n",
       "      <th>2</th>\n",
       "      <td>86.0</td>\n",
       "      <td>76.0</td>\n",
       "    </tr>\n",
       "    <tr>\n",
       "      <th>3</th>\n",
       "      <td>26.0</td>\n",
       "      <td>26.0</td>\n",
       "    </tr>\n",
       "    <tr>\n",
       "      <th>4</th>\n",
       "      <td>20.0</td>\n",
       "      <td>17.0</td>\n",
       "    </tr>\n",
       "    <tr>\n",
       "      <th>5</th>\n",
       "      <td>13.0</td>\n",
       "      <td>13.0</td>\n",
       "    </tr>\n",
       "  </tbody>\n",
       "</table>\n",
       "</div>"
      ],
      "text/plain": [
       "   train dedup  test\n",
       "1          NaN   9.0\n",
       "2         86.0  76.0\n",
       "3         26.0  26.0\n",
       "4         20.0  17.0\n",
       "5         13.0  13.0"
      ]
     },
     "execution_count": 6,
     "metadata": {},
     "output_type": "execute_result"
    }
   ],
   "source": [
    "unique_hists.head()"
   ]
  },
  {
   "cell_type": "code",
   "execution_count": 51,
   "metadata": {
    "collapsed": false
   },
   "outputs": [
    {
     "data": {
      "text/plain": [
       "0.0     71129\n",
       "3.0        46\n",
       "6.0        18\n",
       "9.0         6\n",
       "24.0        4\n",
       "15.0        3\n",
       "12.0        3\n",
       "18.0        2\n",
       "39.0        1\n",
       "21.0        1\n",
       "Name: num_compra_var44_ult1, dtype: int64"
      ]
     },
     "execution_count": 51,
     "metadata": {},
     "output_type": "execute_result"
    }
   ],
   "source": [
    "df['num_compra_var44_ult1'].value_counts()"
   ]
  },
  {
   "cell_type": "markdown",
   "metadata": {},
   "source": [
    "### Remove bad columns, and compute one-hot encoding"
   ]
  },
  {
   "cell_type": "code",
   "execution_count": 104,
   "metadata": {
    "collapsed": false
   },
   "outputs": [],
   "source": [
    "foo.drop('a', axis=1, inplace=True)"
   ]
  },
  {
   "cell_type": "code",
   "execution_count": 140,
   "metadata": {
    "collapsed": false
   },
   "outputs": [
    {
     "data": {
      "text/html": [
       "<div>\n",
       "<table border=\"1\" class=\"dataframe\">\n",
       "  <thead>\n",
       "    <tr style=\"text-align: right;\">\n",
       "      <th></th>\n",
       "      <th>b_4</th>\n",
       "      <th>b_5</th>\n",
       "      <th>b_6</th>\n",
       "    </tr>\n",
       "  </thead>\n",
       "  <tbody>\n",
       "    <tr>\n",
       "      <th>0</th>\n",
       "      <td>1.0</td>\n",
       "      <td>0.0</td>\n",
       "      <td>0.0</td>\n",
       "    </tr>\n",
       "    <tr>\n",
       "      <th>1</th>\n",
       "      <td>0.0</td>\n",
       "      <td>1.0</td>\n",
       "      <td>0.0</td>\n",
       "    </tr>\n",
       "    <tr>\n",
       "      <th>2</th>\n",
       "      <td>0.0</td>\n",
       "      <td>0.0</td>\n",
       "      <td>1.0</td>\n",
       "    </tr>\n",
       "  </tbody>\n",
       "</table>\n",
       "</div>"
      ],
      "text/plain": [
       "   b_4  b_5  b_6\n",
       "0  1.0  0.0  0.0\n",
       "1  0.0  1.0  0.0\n",
       "2  0.0  0.0  1.0"
      ]
     },
     "execution_count": 140,
     "metadata": {},
     "output_type": "execute_result"
    }
   ],
   "source": [
    "pd.get_dummies(foo.b, prefix='b', prefix_sep='_')"
   ]
  },
  {
   "cell_type": "code",
   "execution_count": 136,
   "metadata": {
    "collapsed": false
   },
   "outputs": [
    {
     "data": {
      "text/html": [
       "<div>\n",
       "<table border=\"1\" class=\"dataframe\">\n",
       "  <thead>\n",
       "    <tr style=\"text-align: right;\">\n",
       "      <th></th>\n",
       "      <th>b</th>\n",
       "      <th>c</th>\n",
       "    </tr>\n",
       "  </thead>\n",
       "  <tbody>\n",
       "    <tr>\n",
       "      <th>0</th>\n",
       "      <td>4</td>\n",
       "      <td>d</td>\n",
       "    </tr>\n",
       "    <tr>\n",
       "      <th>1</th>\n",
       "      <td>5</td>\n",
       "      <td>e</td>\n",
       "    </tr>\n",
       "    <tr>\n",
       "      <th>2</th>\n",
       "      <td>6</td>\n",
       "      <td>f</td>\n",
       "    </tr>\n",
       "  </tbody>\n",
       "</table>\n",
       "</div>"
      ],
      "text/plain": [
       "   b  c\n",
       "0  4  d\n",
       "1  5  e\n",
       "2  6  f"
      ]
     },
     "execution_count": 136,
     "metadata": {},
     "output_type": "execute_result"
    }
   ],
   "source": [
    "foo"
   ]
  },
  {
   "cell_type": "code",
   "execution_count": 106,
   "metadata": {
    "collapsed": false
   },
   "outputs": [
    {
     "data": {
      "text/html": [
       "<div>\n",
       "<table border=\"1\" class=\"dataframe\">\n",
       "  <thead>\n",
       "    <tr style=\"text-align: right;\">\n",
       "      <th></th>\n",
       "      <th>b</th>\n",
       "      <th>c_d</th>\n",
       "      <th>c_e</th>\n",
       "      <th>c_f</th>\n",
       "    </tr>\n",
       "  </thead>\n",
       "  <tbody>\n",
       "    <tr>\n",
       "      <th>0</th>\n",
       "      <td>4</td>\n",
       "      <td>1.0</td>\n",
       "      <td>0.0</td>\n",
       "      <td>0.0</td>\n",
       "    </tr>\n",
       "    <tr>\n",
       "      <th>1</th>\n",
       "      <td>5</td>\n",
       "      <td>0.0</td>\n",
       "      <td>1.0</td>\n",
       "      <td>0.0</td>\n",
       "    </tr>\n",
       "    <tr>\n",
       "      <th>2</th>\n",
       "      <td>6</td>\n",
       "      <td>0.0</td>\n",
       "      <td>0.0</td>\n",
       "      <td>1.0</td>\n",
       "    </tr>\n",
       "  </tbody>\n",
       "</table>\n",
       "</div>"
      ],
      "text/plain": [
       "   b  c_d  c_e  c_f\n",
       "0  4  1.0  0.0  0.0\n",
       "1  5  0.0  1.0  0.0\n",
       "2  6  0.0  0.0  1.0"
      ]
     },
     "execution_count": 106,
     "metadata": {},
     "output_type": "execute_result"
    }
   ],
   "source": [
    "munge.hash_features(foo, columns=['c'])"
   ]
  },
  {
   "cell_type": "code",
   "execution_count": 125,
   "metadata": {
    "collapsed": false
   },
   "outputs": [
    {
     "data": {
      "text/plain": [
       "['delta_imp_amort_var18_1y3',\n",
       " 'delta_imp_amort_var34_1y3',\n",
       " 'delta_imp_reemb_var13_1y3',\n",
       " 'delta_imp_trasp_var33_out_1y3']"
      ]
     },
     "execution_count": 125,
     "metadata": {},
     "output_type": "execute_result"
    }
   ],
   "source": [
    "delete_cols"
   ]
  },
  {
   "cell_type": "code",
   "execution_count": 128,
   "metadata": {
    "collapsed": false
   },
   "outputs": [
    {
     "data": {
      "text/plain": [
       "83"
      ]
     },
     "execution_count": 128,
     "metadata": {},
     "output_type": "execute_result"
    }
   ],
   "source": [
    "len(categorical_cols)"
   ]
  },
  {
   "cell_type": "code",
   "execution_count": 134,
   "metadata": {
    "collapsed": true
   },
   "outputs": [],
   "source": [
    "categorical_cols_filterd = [c for c, n in categorical_cols if c not in delete_cols]"
   ]
  },
  {
   "cell_type": "code",
   "execution_count": 135,
   "metadata": {
    "collapsed": false
   },
   "outputs": [
    {
     "data": {
      "text/plain": [
       "79"
      ]
     },
     "execution_count": 135,
     "metadata": {},
     "output_type": "execute_result"
    }
   ],
   "source": [
    "len(categorical_cols_filterd)"
   ]
  },
  {
   "cell_type": "code",
   "execution_count": 111,
   "metadata": {
    "collapsed": false
   },
   "outputs": [],
   "source": [
    "df.drop(delete_cols, axis=1, inplace=True)\n",
    "df_test.drop(delete_cols, axis=1, inplace=True)"
   ]
  },
  {
   "cell_type": "code",
   "execution_count": 138,
   "metadata": {
    "collapsed": true
   },
   "outputs": [],
   "source": []
  },
  {
   "cell_type": "markdown",
   "metadata": {},
   "source": [
    "## Find NaNs\n",
    "\n",
    "### Data processing thread\n",
    "https://www.kaggle.com/c/santander-customer-satisfaction/forums/t/19291/data-dictionary/111360#post111360"
   ]
  },
  {
   "cell_type": "markdown",
   "metadata": {},
   "source": [
    "### Find columns with extreme values"
   ]
  },
  {
   "cell_type": "code",
   "execution_count": 46,
   "metadata": {
    "collapsed": true
   },
   "outputs": [],
   "source": [
    "# Find columns with extreme values\n",
    "extreme_cols = eda.find_extreme_cols(df, T=10000)"
   ]
  },
  {
   "cell_type": "code",
   "execution_count": 22,
   "metadata": {
    "collapsed": false
   },
   "outputs": [
    {
     "data": {
      "text/plain": [
       "272"
      ]
     },
     "execution_count": 22,
     "metadata": {},
     "output_type": "execute_result"
    }
   ],
   "source": [
    "len(extreme_cols)"
   ]
  },
  {
   "cell_type": "markdown",
   "metadata": {},
   "source": [
    "### var3"
   ]
  },
  {
   "cell_type": "code",
   "execution_count": 16,
   "metadata": {
    "collapsed": false
   },
   "outputs": [
    {
     "data": {
      "text/plain": [
       "(107, 307)"
      ]
     },
     "execution_count": 16,
     "metadata": {},
     "output_type": "execute_result"
    }
   ],
   "source": [
    "df[df.var3 == -999999].shape"
   ]
  },
  {
   "cell_type": "code",
   "execution_count": 39,
   "metadata": {
    "collapsed": false
   },
   "outputs": [],
   "source": [
    "df['var3'] = df.var3.replace(-999999, np.nan)"
   ]
  },
  {
   "cell_type": "code",
   "execution_count": 27,
   "metadata": {
    "collapsed": false
   },
   "outputs": [
    {
     "data": {
      "text/plain": [
       "count    71106.000000\n",
       "mean         2.766053\n",
       "std          9.767036\n",
       "min          0.000000\n",
       "25%          2.000000\n",
       "50%          2.000000\n",
       "75%          2.000000\n",
       "max        238.000000\n",
       "Name: var3, dtype: float64"
      ]
     },
     "execution_count": 27,
     "metadata": {},
     "output_type": "execute_result"
    }
   ],
   "source": [
    "df.var3.describe()"
   ]
  },
  {
   "cell_type": "code",
   "execution_count": 28,
   "metadata": {
    "collapsed": false
   },
   "outputs": [
    {
     "data": {
      "text/plain": [
       "(1, 307)"
      ]
     },
     "execution_count": 28,
     "metadata": {},
     "output_type": "execute_result"
    }
   ],
   "source": [
    "df[df.var3 == 238].shape"
   ]
  },
  {
   "cell_type": "code",
   "execution_count": 30,
   "metadata": {
    "collapsed": false
   },
   "outputs": [
    {
     "data": {
      "text/plain": [
       "24978    231.0\n",
       "6791     235.0\n",
       "66940    238.0\n",
       "Name: var3, dtype: float64"
      ]
     },
     "execution_count": 30,
     "metadata": {},
     "output_type": "execute_result"
    }
   ],
   "source": [
    "df.var3.dropna().sort_values()[-3:]"
   ]
  },
  {
   "cell_type": "code",
   "execution_count": 33,
   "metadata": {
    "collapsed": false
   },
   "outputs": [
    {
     "data": {
      "text/plain": [
       "<matplotlib.axes._subplots.AxesSubplot at 0x10ebaf8d0>"
      ]
     },
     "execution_count": 33,
     "metadata": {},
     "output_type": "execute_result"
    },
    {
     "data": {
      "image/png": "[encoded data removed]",
      "text/plain": [
       "<matplotlib.figure.Figure at 0x10ebb7e10>"
      ]
     },
     "metadata": {},
     "output_type": "display_data"
    }
   ],
   "source": [
    "pd.Series(df.var3.sort_values().values).plot()"
   ]
  },
  {
   "cell_type": "code",
   "execution_count": 40,
   "metadata": {
    "collapsed": false
   },
   "outputs": [
    {
     "data": {
      "text/plain": [
       "count     71213.000000\n",
       "mean         92.027471\n",
       "std        1668.207086\n",
       "min           0.000000\n",
       "25%           0.000000\n",
       "50%           0.000000\n",
       "75%           0.000000\n",
       "max      210000.000000\n",
       "Name: imp_ent_var16_ult1, dtype: float64"
      ]
     },
     "execution_count": 40,
     "metadata": {},
     "output_type": "execute_result"
    }
   ],
   "source": [
    "df[extreme_cols[1]].describe()"
   ]
  },
  {
   "cell_type": "code",
   "execution_count": null,
   "metadata": {
    "collapsed": true
   },
   "outputs": [],
   "source": [
    "df.imp_ent_var16_ult1."
   ]
  },
  {
   "cell_type": "code",
   "execution_count": null,
   "metadata": {
    "collapsed": true
   },
   "outputs": [],
   "source": []
  }
 ],
 "metadata": {
  "kernelspec": {
   "display_name": "Python 3",
   "language": "python",
   "name": "python3"
  },
  "language_info": {
   "codemirror_mode": {
    "name": "ipython",
    "version": 3
   },
   "file_extension": ".py",
   "mimetype": "text/x-python",
   "name": "python",
   "nbconvert_exporter": "python",
   "pygments_lexer": "ipython3",
   "version": "3.5.1"
  }
 },
 "nbformat": 4,
 "nbformat_minor": 0
}
