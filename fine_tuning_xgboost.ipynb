{
 "cells": [
  {
   "cell_type": "markdown",
   "metadata": {},
   "source": [
    "# Fine-tuning XGBoost models\n",
    "\n",
    "Based on the tutorial at http://www.analyticsvidhya.com/blog/2016/03/complete-guide-parameter-tuning-xgboost-with-codes-python/"
   ]
  },
  {
   "cell_type": "code",
   "execution_count": 1,
   "metadata": {
    "collapsed": true
   },
   "outputs": [],
   "source": [
    "%matplotlib inline\n",
    "%load_ext autoreload\n",
    "%autoreload 2\n",
    "import os\n",
    "import sys\n",
    "\n",
    "import copy\n",
    "import csv\n",
    "import datetime\n",
    "import itertools\n",
    "import numpy as np\n",
    "import pandas as pd\n",
    "import random\n",
    "import re\n",
    "import sklearn\n",
    "import time\n",
    "from collections import defaultdict\n",
    "\n",
    "import matplotlib as mpl\n",
    "import matplotlib.pyplot as plt\n",
    "import seaborn as sns\n",
    "sns.set_style(\"whitegrid\")\n",
    "sns.set_context(rc={\n",
    "       \"figure.figsize\": (16, 10),\n",
    "       \"axes.titlesize\": 14})\n",
    "\n",
    "from IPython.display import Image, display\n",
    "from IPython.core.display import HTML\n",
    "HTML(\"<style>.container { width:100% !important; }</style>\")\n",
    "\n",
    "from os.path import expanduser\n",
    "sys.path.insert(1, '{}/datsci'.format(expanduser('~')))\n",
    "from datsci import eda, munge, ml, ensemble\n",
    "from datsci import kaggle as kg"
   ]
  },
  {
   "cell_type": "code",
   "execution_count": 2,
   "metadata": {
    "collapsed": true
   },
   "outputs": [],
   "source": [
    "import santander\n",
    "\n",
    "from sklearn.svm import SVC\n",
    "from sklearn.neighbors import KNeighborsClassifier as KNC\n",
    "from sklearn.ensemble import RandomForestClassifier as RFC\n",
    "from sklearn.ensemble import RandomForestRegressor as RFR\n",
    "from sklearn.linear_model import LogisticRegression\n",
    "from sklearn.ensemble import AdaBoostClassifier as ABC\n",
    "from sklearn.ensemble import GradientBoostingClassifier as GBC\n",
    "from sklearn.linear_model import SGDClassifier as SGDClf\n",
    "from sklearn.cross_validation import train_test_split\n",
    "\n",
    "from sklearn.metrics import f1_score\n",
    "from sklearn.metrics import accuracy_score\n",
    "from sklearn.metrics import roc_auc_score\n",
    "from sklearn.metrics import roc_curve, auc\n",
    "from sklearn.metrics import make_scorer\n",
    "\n",
    "import xgboost as xgb"
   ]
  },
  {
   "cell_type": "code",
   "execution_count": 3,
   "metadata": {
    "collapsed": false
   },
   "outputs": [],
   "source": [
    "X_train, y_train, X_test, y_test, feature_cols, df_train, df_test = santander.read_split(\n",
    "    santander.FILE_TRAIN_DEDUP_NZ,\n",
    "    santander.FILE_TEST_DEDUP_NZ\n",
    ")"
   ]
  },
  {
   "cell_type": "markdown",
   "metadata": {},
   "source": [
    "## Step 1: Fix learning rate and number of estimators for tuning tree-based parameters"
   ]
  },
  {
   "cell_type": "code",
   "execution_count": 5,
   "metadata": {
    "collapsed": false
   },
   "outputs": [
    {
     "name": "stderr",
     "output_type": "stream",
     "text": [
      "Will train until cv error hasn't decreased in 50 rounds.\n",
      "/usr/local/lib/python3.5/site-packages/xgboost/training.py:272: VisibleDeprecationWarning: using a non-integer number instead of an integer will result in an error in the future\n",
      "  idset = [randidx[(i * kstep): min(len(randidx), (i + 1) * kstep)] for i in range(nfold)]\n",
      "Stopping. Best iteration: 68\n"
     ]
    },
    {
     "name": "stdout",
     "output_type": "stream",
     "text": [
      "\n",
      "Model Report\n",
      "best n_estimators: 69\n",
      "AUC Score (Train): 0.881826\n",
      "AUC Score (Test) : 0.843402\n"
     ]
    }
   ],
   "source": [
    "model = xgb.XGBRegressor(\n",
    "    learning_rate=0.1,\n",
    "    n_estimators=1000,\n",
    "    max_depth=5,\n",
    "    min_child_weight=1,\n",
    "    gamma=0,\n",
    "    subsample=0.8,\n",
    "    colsample_bytree=0.8,\n",
    "    colsample_bylevel=1.0,\n",
    "    reg_alpha=0,\n",
    "    reg_lambda=1,\n",
    "    scale_pos_weight=1,\n",
    "    max_delta_step=0,\n",
    "    objective='binary:logistic',\n",
    "    nthread=4,\n",
    "    seed=santander.RANDOM_SEED\n",
    ")\n",
    "santander.cv_fit_xgb_model(model, X_train, y_train, X_test, y_test, cv_nfold=5, early_stopping_rounds=50)"
   ]
  },
  {
   "cell_type": "raw",
   "metadata": {},
   "source": [
    "FILE_TRAIN\n",
    "\n",
    "Model Report\n",
    "best n_estimators: 58\n",
    "AUC Score (Train): 0.878746\n",
    "AUC Score (Test) : 0.834606\n",
    "\n",
    "\n",
    "FILE_TRAIN_DEDUP\n",
    "\n",
    "Model Report\n",
    "best n_estimators: 58\n",
    "AUC Score (Train): 0.876362\n",
    "AUC Score (Test) : 0.842619\n",
    "\n",
    "\n",
    "FILE_TRAIN_DEDUP_NZ\n",
    "\n",
    "Model Report\n",
    "best n_estimators: 69\n",
    "AUC Score (Train): 0.881826\n",
    "AUC Score (Test) : 0.843402\n",
    "\n",
    "\n",
    "FILE_TRAIN_DEDUP_VAR3_DELTA1_1HOT\n",
    "\n",
    "Model Report\n",
    "best n_estimators: 57\n",
    "AUC Score (Train): 0.877107\n",
    "AUC Score (Test) : 0.844208\n",
    "\n",
    "\n",
    "FILE_TRAIN_DEDUP_VAR3_DELTANAN_1HOT\n",
    "\n",
    "Model Report\n",
    "best n_estimators: 56\n",
    "AUC Score (Train): 0.875748\n",
    "AUC Score (Test) : 0.842882\n"
   ]
  },
  {
   "cell_type": "markdown",
   "metadata": {},
   "source": [
    "## Step 2: Tune max_depth and min_child_weight"
   ]
  },
  {
   "cell_type": "code",
   "execution_count": 10,
   "metadata": {
    "collapsed": false
   },
   "outputs": [
    {
     "name": "stdout",
     "output_type": "stream",
     "text": [
      "iteration 0\n",
      "Each iteration time(secs): 394.706\n",
      "CPU times: user 23min 9s, sys: 24.2 s, total: 23min 33s\n",
      "Wall time: 6min 34s\n"
     ]
    }
   ],
   "source": [
    "%%time\n",
    "\n",
    "model = xgb.XGBRegressor(\n",
    "    learning_rate=0.1,\n",
    "    n_estimators=69,\n",
    "    max_depth=5,\n",
    "    min_child_weight=1,\n",
    "    gamma=0,\n",
    "    subsample=0.8,\n",
    "    colsample_bytree=0.8,\n",
    "    colsample_bylevel=1.0,\n",
    "    reg_alpha=0,\n",
    "    reg_lambda=1,\n",
    "    scale_pos_weight=1,\n",
    "    max_delta_step=0,\n",
    "    objective='binary:logistic',\n",
    "    nthread=4,\n",
    "    seed=santander.RANDOM_SEED\n",
    ")\n",
    "\n",
    "param_grid = {'max_depth': [4, 5, 6], 'min_child_weight': [4, 5, 6, 7]}\n",
    "\n",
    "best_score, best_model = ml.fine_tune_params(model,\n",
    "                                             X_train, y_train,\n",
    "                                             X_test, y_test,\n",
    "                                             param_grid,\n",
    "                                             n_runs=1,\n",
    "                                             n_cv=5,\n",
    "                                             scorer=roc_auc_score,\n",
    "                                             n_jobs=1,\n",
    "                                             gscv_kwargs={'iid': False})"
   ]
  },
  {
   "cell_type": "code",
   "execution_count": 12,
   "metadata": {
    "collapsed": false,
    "scrolled": true
   },
   "outputs": [
    {
     "name": "stdout",
     "output_type": "stream",
     "text": [
      "5 | 5 | 0.8737533002769353 | 0.8456223716451572\n"
     ]
    }
   ],
   "source": [
    "train_score = roc_auc_score(y_train, best_model.predict(X_train))\n",
    "fine_tune_results = best_model.max_depth, best_model.min_child_weight, train_score, best_score\n",
    "print(\" | \".join([\"{}\"] * len(fine_tune_results)).format(*fine_tune_results))"
   ]
  },
  {
   "cell_type": "markdown",
   "metadata": {},
   "source": [
    "FILE_TRAIN\n",
    "\n",
    "max_depth | min_child_weight | train score | test score | gridcv params\n",
    "----------|------------------|-------------|------------|--------------\n",
    "5 | 5 |  | 0.8357748141861523 | {'max_depth': [3, 5, 7, 9], 'min_child_weight': [1, 3, 5]}\n",
    "5 | 9 |  | 0.83552176985969 | {'max_depth': [4, 5, 6], 'min_child_weight': [8, 9, 10]}\n",
    "\n",
    "\n",
    "FILE_TRAIN_DEDUP\n",
    "\n",
    "max_depth | min_child_weight | train score | test score | gridcv params\n",
    "----------|------------------|-------------|------------|--------------\n",
    "7 | 5 | 0.8901070517971329 | 0.843010994860875 | {'max_depth': [3, 5, 7, 9], 'min_child_weight': [1, 3, 5]}\n",
    "\n",
    "\n",
    "FILE_TRAIN_DEDUP_NZ\n",
    "\n",
    "max_depth | min_child_weight | train score | test score | gridcv params\n",
    "----------|------------------|-------------|------------|--------------\n",
    "5 | 5 | 0.8737533002769353 | 0.8456223716451572 | {'max_depth': [3, 5, 7, 9], 'min_child_weight': [1, 3, 5]}\n",
    "5 | 5 | 0.8737533002769353 | 0.8456223716451572 | {'max_depth': [4, 5, 6], 'min_child_weight': [4, 5, 6, 7]}\n",
    "\n",
    "\n",
    "FILE_TRAIN_DEDUP_VAR3_DELTA1_1HOT\n",
    "\n",
    "max_depth | min_child_weight | train score | test score | gridcv params\n",
    "----------|------------------|-------------|------------|--------------\n",
    "5 | 9 | 0.8664432060811502 | 0.843041822112627 | {'max_depth': [4, 5, 6], 'min_child_weight': [8, 9, 10]}\n",
    "\n",
    "\n",
    "FILE_TRAIN_DEDUP_VAR3_DELTANAN_1HOT\n",
    "\n",
    "max_depth | min_child_weight | train score | test score | gridcv params\n",
    "----------|------------------|-------------|------------|--------------\n",
    "6 | 6 | 0.8789324145479674 | 0.8429895974606881 | {'max_depth': [5, 6, 7], 'min_child_weight': [5, 6, 7]}\n",
    "7 | 6 | 0.8879859317528758 | 0.8435746519822442 | {'max_depth': [6, 7, 8], 'min_child_weight': [4, 5, 6, 7]}"
   ]
  },
  {
   "cell_type": "markdown",
   "metadata": {},
   "source": [
    "## Step 3: Tune gamma"
   ]
  },
  {
   "cell_type": "code",
   "execution_count": 15,
   "metadata": {
    "collapsed": false
   },
   "outputs": [
    {
     "name": "stdout",
     "output_type": "stream",
     "text": [
      "iteration 0\n",
      "Each iteration time(secs): 168.140\n",
      "CPU times: user 9min 51s, sys: 10.4 s, total: 10min 1s\n",
      "Wall time: 2min 48s\n"
     ]
    }
   ],
   "source": [
    "%%time\n",
    "\n",
    "model = xgb.XGBRegressor(\n",
    "    learning_rate=0.1,\n",
    "    n_estimators=69,\n",
    "    max_depth=5,\n",
    "    min_child_weight=5,\n",
    "    gamma=0,\n",
    "    subsample=0.8,\n",
    "    colsample_bytree=0.8,\n",
    "    colsample_bylevel=1.0,\n",
    "    reg_alpha=0,\n",
    "    reg_lambda=1,\n",
    "    scale_pos_weight=1,\n",
    "    max_delta_step=0,\n",
    "    objective='binary:logistic',\n",
    "    nthread=4,\n",
    "    seed=santander.RANDOM_SEED\n",
    ")\n",
    "\n",
    "param_grid = {'gamma': [0.16, 0.18, 0.20, 0.22, 0.24]}\n",
    "\n",
    "best_score, best_model = ml.fine_tune_params(model,\n",
    "                                             X_train, y_train,\n",
    "                                             X_test, y_test,\n",
    "                                             param_grid,\n",
    "                                             n_runs=1,\n",
    "                                             n_cv=5,\n",
    "                                             scorer=roc_auc_score,\n",
    "                                             n_jobs=1,\n",
    "                                             gscv_kwargs={'iid': False})"
   ]
  },
  {
   "cell_type": "code",
   "execution_count": 17,
   "metadata": {
    "collapsed": false
   },
   "outputs": [
    {
     "name": "stdout",
     "output_type": "stream",
     "text": [
      "0.2 | 0.8733990019044412 | 0.8446681687141747\n"
     ]
    }
   ],
   "source": [
    "train_score = roc_auc_score(y_train, best_model.predict(X_train))\n",
    "fine_tune_results = best_model.gamma, train_score, best_score\n",
    "print(\" | \".join([\"{}\"] * len(fine_tune_results)).format(*fine_tune_results))"
   ]
  },
  {
   "cell_type": "markdown",
   "metadata": {},
   "source": [
    "FILE_TRAIN\n",
    "\n",
    "gamma | train score | test score | gridcv params\n",
    "------|-------------|------------|--------------\n",
    "0.3 |  | 0.8360898605728038 | {'gamma': [0.0, 0.1, 0.2, 0.3, 0.4],}\n",
    "\n",
    "\n",
    "FILE_TRAIN_DEDUP\n",
    "\n",
    "gamma | train score | test score | gridcv params\n",
    "------|-------------|------------|--------------\n",
    "0.0 | 0.8879859317528758 | 0.8435746519822442 | {'gamma': [0.0, 0.1, 0.2, 0.3, 0.4]}\n",
    "0.01 | 0.8886836614252743 | 0.8432648510789971 | {'gamma': [0.0, 0.01, 0.02, 0.03, 0.04]}\n",
    "\n",
    "\n",
    "FILE_TRAIN_DEDUP_NZ\n",
    "\n",
    "gamma | train score | test score | gridcv params\n",
    "------|-------------|------------|--------------\n",
    "0.2 | 0.8733990019044412 | 0.8446681687141747 | {'gamma': [0.0, 0.1, 0.2, 0.3, 0.4]}\n",
    "0.2 | 0.8733990019044412 | 0.8446681687141747 | {'gamma': [0.16, 0.18, 0.20, 0.22, 0.24]}\n",
    "\n",
    "\n",
    "FILE_TRAIN_DEDUP_VAR3_DELTA1_1HOT\n",
    "\n",
    "gamma | train score | test score | gridcv params\n",
    "------|-------------|------------|--------------\n",
    "0.0 | 0.8664432060811502 | 0.843041822112627 | {'gamma': [0.0, 0.1, 0.2, 0.3, 0.4],}\n",
    "\n",
    "\n",
    "FILE_TRAIN_DEDUP_VAR3_DELTANAN_1HOT\n",
    "\n",
    "gamma | train score | test score | gridcv params\n",
    "------|-------------|------------|--------------\n",
    "0.0 | 0.8789324145479674 | 0.8429895974606881 | {'gamma': [0.0, 0.1, 0.2, 0.3, 0.4]}"
   ]
  },
  {
   "cell_type": "code",
   "execution_count": 18,
   "metadata": {
    "collapsed": false
   },
   "outputs": [
    {
     "name": "stderr",
     "output_type": "stream",
     "text": [
      "Will train until cv error hasn't decreased in 50 rounds.\n",
      "/usr/local/lib/python3.5/site-packages/xgboost/training.py:272: VisibleDeprecationWarning: using a non-integer number instead of an integer will result in an error in the future\n",
      "  idset = [randidx[(i * kstep): min(len(randidx), (i + 1) * kstep)] for i in range(nfold)]\n",
      "Stopping. Best iteration: 62\n"
     ]
    },
    {
     "name": "stdout",
     "output_type": "stream",
     "text": [
      "\n",
      "Model Report\n",
      "best n_estimators: 63\n",
      "AUC Score (Train): 0.871316\n",
      "AUC Score (Test) : 0.844491\n"
     ]
    }
   ],
   "source": [
    "model = xgb.XGBRegressor(\n",
    "    learning_rate=0.1,\n",
    "    n_estimators=1000,\n",
    "    max_depth=5,\n",
    "    min_child_weight=5,\n",
    "    gamma=0.2,\n",
    "    subsample=0.8,\n",
    "    colsample_bytree=0.8,\n",
    "    colsample_bylevel=1.0,\n",
    "    reg_alpha=0,\n",
    "    reg_lambda=1,\n",
    "    scale_pos_weight=1,\n",
    "    max_delta_step=0,\n",
    "    objective='binary:logistic',\n",
    "    nthread=4,\n",
    "    seed=santander.RANDOM_SEED\n",
    ")\n",
    "santander.cv_fit_xgb_model(model, X_train, y_train, X_test, y_test, cv_nfold=5, early_stopping_rounds=50)"
   ]
  },
  {
   "cell_type": "markdown",
   "metadata": {},
   "source": [
    "## Step 4: Tune subsample, colsample_bytree, and colsample_bylevel"
   ]
  },
  {
   "cell_type": "code",
   "execution_count": 22,
   "metadata": {
    "collapsed": false
   },
   "outputs": [
    {
     "name": "stdout",
     "output_type": "stream",
     "text": [
      "iteration 0\n",
      "Each iteration time(secs): 3514.352\n",
      "CPU times: user 3h 22min 38s, sys: 3min 59s, total: 3h 26min 37s\n",
      "Wall time: 58min 34s\n"
     ]
    }
   ],
   "source": [
    "%%time\n",
    "\n",
    "model = xgb.XGBRegressor(\n",
    "    learning_rate=0.1,\n",
    "    n_estimators=63,\n",
    "    max_depth=5,\n",
    "    min_child_weight=5,\n",
    "    gamma=0.2,\n",
    "    subsample=0.8,\n",
    "    colsample_bytree=0.8,\n",
    "    colsample_bylevel=1.0,\n",
    "    reg_alpha=0,\n",
    "    reg_lambda=1,\n",
    "    scale_pos_weight=1,\n",
    "    max_delta_step=0,\n",
    "    objective='binary:logistic',\n",
    "    nthread=4,\n",
    "    seed=santander.RANDOM_SEED\n",
    ")\n",
    "\n",
    "param_grid = {'subsample': [0.76, 0.78, 0.80, 0.82, 0.84], 'colsample_bytree': [0.76, 0.78, 0.80, 0.82, 0.84], 'colsample_bylevel': [0.86, 0.88, 0.90, 0.92, 0.94]}\n",
    "\n",
    "best_score, best_model = ml.fine_tune_params(model,\n",
    "                                             X_train, y_train,\n",
    "                                             X_test, y_test,\n",
    "                                             param_grid,\n",
    "                                             n_runs=1,\n",
    "                                             n_cv=5,\n",
    "                                             scorer=roc_auc_score,\n",
    "                                             n_jobs=1,\n",
    "                                             gscv_kwargs={'iid': False})"
   ]
  },
  {
   "cell_type": "code",
   "execution_count": 24,
   "metadata": {
    "collapsed": false
   },
   "outputs": [
    {
     "name": "stdout",
     "output_type": "stream",
     "text": [
      "0.84 | 0.8 | 0.9 | 0.8713303353642213 | 0.842270967794029\n"
     ]
    }
   ],
   "source": [
    "train_score = roc_auc_score(y_train, best_model.predict(X_train))\n",
    "fine_tune_results = best_model.subsample, best_model.colsample_bytree, best_model.colsample_bylevel, train_score, best_score\n",
    "print(\" | \".join([\"{}\"] * len(fine_tune_results)).format(*fine_tune_results))"
   ]
  },
  {
   "cell_type": "markdown",
   "metadata": {},
   "source": [
    "FILE_TRAIN\n",
    "\n",
    "subsample | colsample_bytree | train score | test score | gridcv params\n",
    "----------|------------------|-------------|------------|---------------\n",
    "0.7 | 0.7 |  | 0.8364270758593435 | {'subsample': [0.6, 0.7, 0.8, 0.9], 'colsample_bytree': [0.6, 0.7, 0.8, 0.9]}\n",
    "0.7 | 0.7 |  | 0.8364270758593435 | {'subsample': [0.65, 0.7, 0.75], 'colsample_bytree': [0.65, 0.7, 0.75]}\n",
    "\n",
    "\n",
    "FILE_TRAIN_DEDUP\n",
    "\n",
    "subsample | colsample_bytree | colsample_bylevel | train score | test score | gridcv params\n",
    "----------|------------------|-------------------|-------------|------------|---------------\n",
    "0.8 | 0.7 | 0.8 | 0.8858305565754111 | 0.8443039515115303 | {'subsample': [0.7, 0.8, 0.9], 'colsample_bytree': [0.7, 0.8, 0.9], 'colsample_bylevel': [0.8, 0.9, 1.0]}\n",
    "0.8 | 0.68 | 0.82 | 0.8861695721331364 | 0.8433246599846411| {'subsample': [0.76, 0.78, 0.8, 0.82, 0.84], 'colsample_bytree': [0.66, 0.68, 0.7, 0.72, 0.74], 'colsample_bylevel': [0.76, 0.78, 0.8, 0.82, 0.84]}\n",
    "\n",
    "\n",
    "FILE_TRAIN_DEDUP_NZ\n",
    "\n",
    "subsample | colsample_bytree | colsample_bylevel | train score | test score | gridcv params\n",
    "----------|------------------|-------------------|-------------|------------|---------------\n",
    "0.8 | 0.8 | 0.9 | 0.8717281762412291 | 0.843654445252214 | {'subsample': [0.7, 0.8, 0.9], 'colsample_bytree': [0.7, 0.8, 0.9], 'colsample_bylevel': [0.8, 0.9, 1.0]}\n",
    "0.84 | 0.8 | 0.9 | 0.8713303353642213 | 0.842270967794029 | {'subsample': [0.76, 0.78, 0.80, 0.82, 0.84], 'colsample_bytree': [0.76, 0.78, 0.80, 0.82, 0.84], 'colsample_bylevel': [0.86, 0.88, 0.90, 0.92, 0.94]}\n",
    "\n",
    "\n",
    "FILE_TRAIN_DEDUP_VAR3_DELTA1_1HOT\n",
    "\n",
    "subsample | colsample_bytree | train score | test score | gridcv params\n",
    "----------|------------------|-------------|------------|---------------\n",
    "0.8 | 0.7 | 0.8720600990462103 | 0.8450419887931837 | {'subsample': [0.6, 0.7, 0.8, 0.9], 'colsample_bytree': [0.6, 0.7, 0.8, 0.9],}\n",
    "\n",
    "\n",
    "FILE_TRAIN_DEDUP_VAR3_DELTANAN_1HOT\n",
    "\n",
    "subsample | colsample_bytree | colsample_bylevel | train score | test score | gridcv params\n",
    "----------|------------------|-------------------|-------------|------------|---------------\n",
    "0.8 | 0.8 | 1.0 | 0.8735857141145673 | 0.8422202426903511 | {'subsample': [0.7, 0.8, 0.9], 'colsample_bytree': [0.7, 0.8, 0.9]}\n",
    "0.76 | 0.82 | 1.0 | 0.8739140693391325 | 0.8422564048734166 | {'subsample': [0.76, 0.78, 0.8, 0.82, 0.84], 'colsample_bytree': [0.76, 0.78, 0.8, 0.82, 0.84]}\n",
    "0.8 | 0.8 | 0.9 | 0.8735938935745703 | 0.8430431197986221 | {'subsample': [0.7, 0.8, 0.9], 'colsample_bytree': [0.7, 0.8, 0.9], 'colsample_bylevel': [0.8, 0.9, 1.0]}\n",
    "0.76 | 0.8 | 0.88 | 0.8718073998509144 | 0.8441056362540015 | {'subsample': [0.74, 0.76, 0.78], 'colsample_bytree': [0.78, 0.8, 0.82], 'colsample_bylevel': [0.86, 0.88, 0.90]}\n"
   ]
  },
  {
   "cell_type": "markdown",
   "metadata": {},
   "source": [
    "## Step 5: Tuning Regularization Parameters"
   ]
  },
  {
   "cell_type": "code",
   "execution_count": 25,
   "metadata": {
    "collapsed": false
   },
   "outputs": [
    {
     "name": "stdout",
     "output_type": "stream",
     "text": [
      "iteration 0\n",
      "Each iteration time(secs): 684.254\n",
      "CPU times: user 39min 22s, sys: 46.9 s, total: 40min 9s\n",
      "Wall time: 11min 24s\n"
     ]
    }
   ],
   "source": [
    "%%time\n",
    "\n",
    "model = xgb.XGBRegressor(\n",
    "    learning_rate=0.1,\n",
    "    n_estimators=63,\n",
    "    max_depth=5,\n",
    "    min_child_weight=5,\n",
    "    gamma=0.2,\n",
    "    subsample=0.84,\n",
    "    colsample_bytree=0.8,\n",
    "    colsample_bylevel=0.9,\n",
    "    reg_alpha=0,\n",
    "    reg_lambda=1,\n",
    "    scale_pos_weight=1,\n",
    "    max_delta_step=0,\n",
    "    objective='binary:logistic',\n",
    "    nthread=4,\n",
    "    seed=santander.RANDOM_SEED\n",
    ")\n",
    "\n",
    "param_grid = {'reg_alpha': [1e-2, 0.1, 0, 1, 10], 'reg_lambda': [1e-2, 0.1, 0, 1, 10]}\n",
    "\n",
    "best_score, best_model = ml.fine_tune_params(model,\n",
    "                                             X_train, y_train,\n",
    "                                             X_test, y_test,\n",
    "                                             param_grid,\n",
    "                                             n_runs=1,\n",
    "                                             n_cv=5,\n",
    "                                             scorer=roc_auc_score,\n",
    "                                             n_jobs=1,\n",
    "                                             gscv_kwargs={'iid': False})"
   ]
  },
  {
   "cell_type": "code",
   "execution_count": 26,
   "metadata": {
    "collapsed": false
   },
   "outputs": [
    {
     "name": "stdout",
     "output_type": "stream",
     "text": [
      "0 | 1 | 0.8713303353642213 | 0.842270967794029\n"
     ]
    }
   ],
   "source": [
    "train_score = roc_auc_score(y_train, best_model.predict(X_train))\n",
    "fine_tune_results = best_model.reg_alpha, best_model.reg_lambda, train_score, best_score\n",
    "print(\" | \".join([\"{}\"] * len(fine_tune_results)).format(*fine_tune_results))"
   ]
  },
  {
   "cell_type": "markdown",
   "metadata": {},
   "source": [
    "FILE_TRAIN\n",
    "\n",
    "reg_alpha | reg_lambda | train score | test score | gridcv params\n",
    "----------|------------|-------------|------------|--------------\n",
    "0 | 1 | | 0.8364270758593435 | {'reg_alpha': [1e-2, 0.1, 0, 1, 10], 'reg_lambda': [1e-2, 0.1, 0, 1, 10],}\n",
    "0.01 | 0.99 | | 0.8362743989494978 | {'reg_alpha': [0, 0.01, 0.02, 0.03, 0.05], 'reg_lambda': [0.98, 0.99, 1, 1.01, 1.02],}\n",
    "\n",
    "\n",
    "FILE_TRAIN_DEDUP\n",
    "\n",
    "reg_alpha | reg_lambda | train score | test score | gridcv params\n",
    "----------|------------|-------------|------------|--------------\n",
    "0 | 1 | 0.8861695721331364 | 0.8433246599846411 | {'reg_alpha': [1e-2, 0.1, 0, 1, 10], 'reg_lambda': [1e-2, 0.1, 0, 1, 10]}\n",
    "\n",
    "\n",
    "FILE_TRAIN_DEDUP_NZ\n",
    "\n",
    "reg_alpha | reg_lambda | train score | test score | gridcv params\n",
    "----------|------------|-------------|------------|--------------\n",
    "0 | 1 | 0.8713303353642213 | 0.842270967794029 | {'reg_alpha': [1e-2, 0.1, 0, 1, 10], 'reg_lambda': [1e-2, 0.1, 0, 1, 10]}\n",
    "\n",
    "\n",
    "FILE_TRAIN_DEDUP_VAR3_DELTA1_1HOT\n",
    "\n",
    "reg_alpha | reg_lambda | train score | test score | gridcv params\n",
    "----------|------------|-------------|------------|--------------\n",
    "0 | 1 | 0.8720600990462103 | 0.8450419887931837 | {'reg_alpha': [1e-2, 0.1, 0, 1, 10], 'reg_lambda': [1e-2, 0.1, 0, 1, 10],}\n",
    "\n",
    "\n",
    "FILE_TRAIN_DEDUP_VAR3_DELTANAN_1HOT\n",
    "\n",
    "reg_alpha | reg_lambda | train score | test score | gridcv params\n",
    "----------|------------|-------------|------------|--------------\n",
    "0 | 1 | 0.8739140693391325 | 0.8422564048734166 | {'reg_alpha': [1e-2, 0.1, 0, 1, 10], 'reg_lambda': [1e-2, 0.1, 0, 1, 10]}\n",
    "0.1 | 0 | 0.8750670975469783 | 0.8437352478335133 | {'reg_alpha': [1e-2, 0.1, 0, 1, 10], 'reg_lambda': [1e-2, 0.1, 0, 1, 10]}\n",
    "0.1 | 0 | 0.8750670975469783 | 0.8437352478335133 | {'reg_alpha': [0.06, 0.08, 0.1, 0.2, 0.3], 'reg_lambda': [0, 0.01, 0.02, 0.03, 0.04]}"
   ]
  },
  {
   "cell_type": "code",
   "execution_count": 27,
   "metadata": {
    "collapsed": false,
    "scrolled": true
   },
   "outputs": [
    {
     "name": "stderr",
     "output_type": "stream",
     "text": [
      "Will train until cv error hasn't decreased in 50 rounds.\n",
      "/usr/local/lib/python3.5/site-packages/xgboost/training.py:272: VisibleDeprecationWarning: using a non-integer number instead of an integer will result in an error in the future\n",
      "  idset = [randidx[(i * kstep): min(len(randidx), (i + 1) * kstep)] for i in range(nfold)]\n",
      "Stopping. Best iteration: 72\n"
     ]
    },
    {
     "name": "stdout",
     "output_type": "stream",
     "text": [
      "\n",
      "Model Report\n",
      "best n_estimators: 73\n",
      "AUC Score (Train): 0.874694\n",
      "AUC Score (Test) : 0.842927\n"
     ]
    }
   ],
   "source": [
    "model = xgb.XGBRegressor(\n",
    "    learning_rate=0.1,\n",
    "    n_estimators=1000,\n",
    "    max_depth=5,\n",
    "    min_child_weight=5,\n",
    "    gamma=0.2,\n",
    "    subsample=0.84,\n",
    "    colsample_bytree=0.8,\n",
    "    colsample_bylevel=0.9,\n",
    "    reg_alpha=0,\n",
    "    reg_lambda=1,\n",
    "    scale_pos_weight=1,\n",
    "    max_delta_step=0,\n",
    "    objective='binary:logistic',\n",
    "    nthread=4,\n",
    "    seed=santander.RANDOM_SEED\n",
    ")\n",
    "santander.cv_fit_xgb_model(model, X_train, y_train, X_test, y_test, cv_nfold=5, early_stopping_rounds=50)"
   ]
  },
  {
   "cell_type": "raw",
   "metadata": {},
   "source": [
    "FILE_TRAIN_DEDUP\n",
    "\n",
    "Model Report\n",
    "best n_estimators: 55\n",
    "AUC Score (Train): 0.886170\n",
    "AUC Score (Test) : 0.843325\n",
    "\n",
    "\n",
    "FILE_TRAIN_DEDUP_NZ\n",
    "\n",
    "Model Report\n",
    "best n_estimators: 73\n",
    "AUC Score (Train): 0.874694\n",
    "AUC Score (Test) : 0.842927\n",
    "\n",
    "\n",
    "FILE_TRAIN_DEDUP_VAR3_DELTA1_1HOT\n",
    "\n",
    "Model Report\n",
    "best n_estimators: 75\n",
    "AUC Score (Train): 0.871799\n",
    "AUC Score (Test) : 0.845032\n",
    "\n",
    "\n",
    "FILE_TRAIN_DEDUP_VAR3_DELTANAN_1HOT\n",
    "\n",
    "Model Report\n",
    "best n_estimators: 59\n",
    "AUC Score (Train): 0.880256\n",
    "AUC Score (Test) : 0.845092"
   ]
  },
  {
   "cell_type": "markdown",
   "metadata": {},
   "source": [
    "## Step 6: Handle Imbalanced Data Set"
   ]
  },
  {
   "cell_type": "code",
   "execution_count": 31,
   "metadata": {
    "collapsed": false
   },
   "outputs": [
    {
     "name": "stdout",
     "output_type": "stream",
     "text": [
      "iteration 0\n",
      "Each iteration time(secs): 554.303\n",
      "CPU times: user 31min 54s, sys: 37.8 s, total: 32min 32s\n",
      "Wall time: 9min 14s\n"
     ]
    }
   ],
   "source": [
    "%%time\n",
    "\n",
    "model = xgb.XGBRegressor(\n",
    "    learning_rate=0.1,\n",
    "    n_estimators=73,\n",
    "    max_depth=5,\n",
    "    min_child_weight=5,\n",
    "    gamma=0.2,\n",
    "    subsample=0.84,\n",
    "    colsample_bytree=0.8,\n",
    "    colsample_bylevel=0.9,\n",
    "    reg_alpha=0,\n",
    "    reg_lambda=1,\n",
    "    scale_pos_weight=1,\n",
    "    max_delta_step=0,\n",
    "    objective='binary:logistic',\n",
    "    nthread=4,\n",
    "    seed=santander.RANDOM_SEED\n",
    ")\n",
    "\n",
    "param_grid = {'scale_pos_weight': [.1, .5, .8, 1], 'max_delta_step': [0, .5, 1, 1.5, 2]}\n",
    "\n",
    "best_score, best_model = ml.fine_tune_params(model,\n",
    "                                             X_train, y_train,\n",
    "                                             X_test, y_test,\n",
    "                                             param_grid,\n",
    "                                             n_runs=1,\n",
    "                                             n_cv=5,\n",
    "                                             scorer=roc_auc_score,\n",
    "                                             n_jobs=1,\n",
    "                                             gscv_kwargs={'iid': False})"
   ]
  },
  {
   "cell_type": "code",
   "execution_count": 33,
   "metadata": {
    "collapsed": false
   },
   "outputs": [
    {
     "name": "stdout",
     "output_type": "stream",
     "text": [
      "1 | 0 | 0.8746939752843542 | 0.8429269336458545\n"
     ]
    }
   ],
   "source": [
    "train_score = roc_auc_score(y_train, best_model.predict(X_train))\n",
    "fine_tune_results = best_model.scale_pos_weight, best_model.max_delta_step, train_score, best_score\n",
    "print(\" | \".join([\"{}\"] * len(fine_tune_results)).format(*fine_tune_results))"
   ]
  },
  {
   "cell_type": "markdown",
   "metadata": {},
   "source": [
    "FILE_TRAIN_DEDUP\n",
    "\n",
    "scale_pos_weight | max_delta_step | train score | test score | gridcv params\n",
    "----------|------------|-------------|------------|--------------\n",
    "1 | 0 | 0.8861695721331364 | 0.8433246599846411 | {'scale_pos_weight': [1, 10, 100, 1000], 'max_delta_step': [0, .5, 1, 1.5, 2]}\n",
    "1 | 0 | 0.8861695721331364 | 0.8433246599846411 | {'scale_pos_weight': [.1, .5, .8, 1], 'max_delta_step': [0, .5, 1, 1.5, 2]}\n",
    "\n",
    "\n",
    "FILE_TRAIN_DEDUP_NZ\n",
    "\n",
    "scale_pos_weight | max_delta_step | train score | test score | gridcv params\n",
    "----------|------------|-------------|------------|--------------\n",
    "1 | 0 | 0.8746939752843542 | 0.8429269336458545 | {'scale_pos_weight': [1, 10, 100, 1000], 'max_delta_step': [0, .5, 1, 1.5, 2]}\n",
    "1 | 0 | 0.8746939752843542 | 0.8429269336458545 | {'scale_pos_weight': [.1, .5, .8, 1], 'max_delta_step': [0, .5, 1, 1.5, 2]}\n",
    "\n",
    "\n",
    "FILE_TRAIN_DEDUP_VAR3_DELTANAN_1HOT\n",
    "\n",
    "scale_pos_weight | max_delta_step | train score | test score | gridcv params\n",
    "----------|------------|-------------|------------|--------------\n",
    "1 | 0 | 0.8802559656782861 | 0.8450920217976642 | {'scale_pos_weight': [1, 10, 100, 1000], 'max_delta_step': [0, .5, 1, 1.5, 2]}\n",
    "0.5 | 0 | 0.8707687197517684 | 0.8439434543420719 | {'scale_pos_weight': [.1, .5, .8, 1], 'max_delta_step': [0, .5, 1, 1.5, 2]}\n",
    "0.6 | 0 | 0.8741375175556232 | 0.844573726011193 | {'scale_pos_weight': [.4, .5, .6, .7], 'max_delta_step': [0, 0.1, 0.2, 0.3]}"
   ]
  },
  {
   "cell_type": "code",
   "execution_count": 34,
   "metadata": {
    "collapsed": false
   },
   "outputs": [
    {
     "name": "stderr",
     "output_type": "stream",
     "text": [
      "Will train until cv error hasn't decreased in 50 rounds.\n",
      "/usr/local/lib/python3.5/site-packages/xgboost/training.py:272: VisibleDeprecationWarning: using a non-integer number instead of an integer will result in an error in the future\n",
      "  idset = [randidx[(i * kstep): min(len(randidx), (i + 1) * kstep)] for i in range(nfold)]\n",
      "Stopping. Best iteration: 72\n"
     ]
    },
    {
     "name": "stdout",
     "output_type": "stream",
     "text": [
      "\n",
      "Model Report\n",
      "best n_estimators: 73\n",
      "AUC Score (Train): 0.874694\n",
      "AUC Score (Test) : 0.842927\n"
     ]
    }
   ],
   "source": [
    "model = xgb.XGBRegressor(\n",
    "    learning_rate=0.1,\n",
    "    n_estimators=1000,\n",
    "    max_depth=5,\n",
    "    min_child_weight=5,\n",
    "    gamma=0.2,\n",
    "    subsample=0.84,\n",
    "    colsample_bytree=0.8,\n",
    "    colsample_bylevel=0.9,\n",
    "    reg_alpha=0,\n",
    "    reg_lambda=1,\n",
    "    scale_pos_weight=1,\n",
    "    max_delta_step=0,\n",
    "    objective='binary:logistic',\n",
    "    nthread=4,\n",
    "    seed=santander.RANDOM_SEED\n",
    ")\n",
    "santander.cv_fit_xgb_model(model, X_train, y_train, X_test, y_test, cv_nfold=5, early_stopping_rounds=50)"
   ]
  },
  {
   "cell_type": "raw",
   "metadata": {},
   "source": [
    "FILE_TRAIN_DEDUP\n",
    "\n",
    "Model Report\n",
    "best n_estimators: 66\n",
    "AUC Score (Train): 0.890655\n",
    "AUC Score (Test) : 0.844522\n",
    "\n",
    "\n",
    "FILE_TRAIN_DEDUP_NZ\n",
    "\n",
    "Model Report\n",
    "best n_estimators: 73\n",
    "AUC Score (Train): 0.874694\n",
    "AUC Score (Test) : 0.842927\n",
    "\n",
    "\n",
    "FILE_TRAIN_DEDUP_VAR3_DELTANAN_1HOT\n",
    "\n",
    "Model Report\n",
    "best n_estimators: 41\n",
    "AUC Score (Train): 0.867239\n",
    "AUC Score (Test) : 0.843254"
   ]
  },
  {
   "cell_type": "markdown",
   "metadata": {},
   "source": [
    "## Step 7: Reducing Learning Rate"
   ]
  },
  {
   "cell_type": "code",
   "execution_count": 35,
   "metadata": {
    "collapsed": false
   },
   "outputs": [
    {
     "name": "stderr",
     "output_type": "stream",
     "text": [
      "Will train until cv error hasn't decreased in 200 rounds.\n",
      "/usr/local/lib/python3.5/site-packages/xgboost/training.py:272: VisibleDeprecationWarning: using a non-integer number instead of an integer will result in an error in the future\n",
      "  idset = [randidx[(i * kstep): min(len(randidx), (i + 1) * kstep)] for i in range(nfold)]\n",
      "Stopping. Best iteration: 743\n"
     ]
    },
    {
     "name": "stdout",
     "output_type": "stream",
     "text": [
      "\n",
      "Model Report\n",
      "best n_estimators: 744\n",
      "AUC Score (Train): 0.876384\n",
      "AUC Score (Test) : 0.844422\n"
     ]
    }
   ],
   "source": [
    "model = xgb.XGBRegressor(\n",
    "    learning_rate=0.01,\n",
    "    n_estimators=5000,\n",
    "    max_depth=5,\n",
    "    min_child_weight=5,\n",
    "    gamma=0.2,\n",
    "    subsample=0.84,\n",
    "    colsample_bytree=0.8,\n",
    "    colsample_bylevel=0.9,\n",
    "    reg_alpha=0,\n",
    "    reg_lambda=1,\n",
    "    scale_pos_weight=1,\n",
    "    max_delta_step=0,\n",
    "    objective='binary:logistic',\n",
    "    nthread=4,\n",
    "    seed=santander.RANDOM_SEED\n",
    ")\n",
    "santander.cv_fit_xgb_model(model, X_train, y_train, X_test, y_test, cv_nfold=5, early_stopping_rounds=200)"
   ]
  },
  {
   "cell_type": "raw",
   "metadata": {},
   "source": [
    "FILE_TRAIN_DEDUP\n",
    "\n",
    "Model Report\n",
    "best n_estimators: 534\n",
    "AUC Score (Train): 0.887001\n",
    "AUC Score (Test) : 0.845866\n",
    "\n",
    "\n",
    "FILE_TRAIN_DEDUP_NZ\n",
    "\n",
    "Model Report\n",
    "best n_estimators: 744\n",
    "AUC Score (Train): 0.876384\n",
    "AUC Score (Test) : 0.844422\n",
    "\n",
    "FILE_TRAIN_DEDUP_VAR3_DELTA1_1HOT\n",
    "\n",
    "Model Report\n",
    "best n_estimators: 734\n",
    "AUC Score (Train): 0.871176\n",
    "AUC Score (Test) : 0.845529\n",
    "\n",
    "\n",
    "FILE_TRAIN_DEDUP_VAR3_DELTANAN_1HOT\n",
    "\n",
    "Model Report\n",
    "best n_estimators: 539\n",
    "AUC Score (Train): 0.873527\n",
    "AUC Score (Test) : 0.845384"
   ]
  },
  {
   "cell_type": "markdown",
   "metadata": {},
   "source": [
    "## Predict Test and Save"
   ]
  },
  {
   "cell_type": "code",
   "execution_count": 36,
   "metadata": {
    "collapsed": false
   },
   "outputs": [
    {
     "name": "stderr",
     "output_type": "stream",
     "text": [
      "Will train until cv error hasn't decreased in 200 rounds.\n",
      "/usr/local/lib/python3.5/site-packages/xgboost/training.py:272: VisibleDeprecationWarning: using a non-integer number instead of an integer will result in an error in the future\n",
      "  idset = [randidx[(i * kstep): min(len(randidx), (i + 1) * kstep)] for i in range(nfold)]\n",
      "Stopping. Best iteration: 809\n"
     ]
    },
    {
     "name": "stdout",
     "output_type": "stream",
     "text": [
      "\n",
      "Model Report\n",
      "best n_estimators: 810\n",
      "AUC Score (Train): 0.873587\n",
      "AUC Score (Test) : 0.877753\n"
     ]
    }
   ],
   "source": [
    "out_prefix = 'xgb.nz.fine_tuned.dedup'\n",
    "\n",
    "# Fine-tuned\n",
    "kg.save_submission(model.predict(df_test), 'submissions/{}.csv'.format(out_prefix))  # Score\n",
    "\n",
    "# Retrained on all data\n",
    "kg.save_submission(\n",
    "    model.fit(\n",
    "        df_train[feature_cols],\n",
    "        df_train[santander.TARGET_COL]\n",
    "    ).predict(df_test),\n",
    "    'submissions/{}.fit_all.csv'.format(out_prefix))  # Score\n",
    "\n",
    "# Retrained on all data w cv\n",
    "model.n_estimators = 5000\n",
    "santander.cv_fit_xgb_model(model,\n",
    "                           df_train[feature_cols],\n",
    "                           df_train[santander.TARGET_COL],\n",
    "                           X_test, y_test,\n",
    "                           cv_nfold=5, early_stopping_rounds=200)\n",
    "\n",
    "kg.save_submission(model.predict(df_test), 'submissions/{}.fit_all_cv.csv'.format(out_prefix))  # Score"
   ]
  },
  {
   "cell_type": "raw",
   "metadata": {},
   "source": [
    "FILE_TRAIN_DEDUP\n",
    "\n",
    "Fine-tuned: xgb.fine_tuned.dedup.csv\n",
    "Score 0.836317\n",
    "\n",
    "Retrained on all data: xgb.fine_tuned.dedup.fit_all.csv\n",
    "Score 0.838238\n",
    "\n",
    "Retrained on all data w cv: xgb.fine_tuned.dedup.fit_all_cv.csv\n",
    "Score 0.838885\n",
    "\n",
    "Model Report\n",
    "best n_estimators: 663\n",
    "AUC Score (Train): 0.887567\n",
    "AUC Score (Test) : 0.891715\n",
    "\n",
    "\n",
    "\n",
    "FILE_TRAIN_DEDUP_NZ\n",
    "\n",
    "Fine-tuned: xgb.nz.fine_tuned.dedup.csv\n",
    "Score 0.836522\n",
    "\n",
    "Retrained on all data: xgb.nz.fine_tuned.dedup.fit_all.csv\n",
    "Score 0.838721\n",
    "\n",
    "Retrained on all data w cv: xgb.nz.fine_tuned.dedup.fit_all_cv.csv\n",
    "Score 0.838773\n",
    "\n",
    "Model Report\n",
    "best n_estimators: 810\n",
    "AUC Score (Train): 0.873587\n",
    "AUC Score (Test) : 0.877753\n",
    "\n",
    "\n",
    "\n",
    "FILE_TRAIN_DEDUP_VAR3_DELTA1_1HOT\n",
    "\n",
    "Fine-tuned: submissions/xgb.fine_tuned.1hot.csv\n",
    "Score 0.837155\n",
    "\n",
    "Retrained on all data: submissions/xgb.fine_tuned.1hot.fit_all.csv\n",
    "Score 0.838335\n",
    "\n",
    "Retrained on all data w cv: submissions/xgb.fine_tuned.1hot.fit_all_cv.csv\n",
    "Score 0.838332\n",
    "\n",
    "Model Report\n",
    "best n_estimators: 757\n",
    "AUC Score (Train): 0.869186\n",
    "AUC Score (Test) : 0.873916\n",
    "\n",
    "\n",
    "\n",
    "FILE_TRAIN_DEDUP_VAR3_DELTANAN_1HOT\n",
    "\n",
    "Fine-tuned: submissions/xgb.fine_tuned.deltanan.csv\n",
    "Score 0.836804\n",
    "\n",
    "Retrained on all data: submissions/xgb.fine_tuned.deltanan.fit_all.csv\n",
    "Score 0.837970\n",
    "\n",
    "Retrained on all data w cv: submissions/xgb.fine_tuned.deltanan.fit_all_cv.csv\n",
    "Score 0.838761\n",
    "\n",
    "Model Report\n",
    "best n_estimators: 662\n",
    "AUC Score (Train): 0.874204\n",
    "AUC Score (Test) : 0.878822"
   ]
  },
  {
   "cell_type": "code",
   "execution_count": null,
   "metadata": {
    "collapsed": true
   },
   "outputs": [],
   "source": []
  },
  {
   "cell_type": "code",
   "execution_count": 72,
   "metadata": {
    "collapsed": true
   },
   "outputs": [],
   "source": [
    "xgb.XGBClassifier?"
   ]
  },
  {
   "cell_type": "code",
   "execution_count": 5,
   "metadata": {
    "collapsed": true
   },
   "outputs": [],
   "source": [
    "xgb.cv?"
   ]
  },
  {
   "cell_type": "code",
   "execution_count": 6,
   "metadata": {
    "collapsed": true
   },
   "outputs": [],
   "source": [
    "xgb.DMatrix?"
   ]
  },
  {
   "cell_type": "code",
   "execution_count": null,
   "metadata": {
    "collapsed": true
   },
   "outputs": [],
   "source": []
  }
 ],
 "metadata": {
  "kernelspec": {
   "display_name": "Python 3",
   "language": "python",
   "name": "python3"
  },
  "language_info": {
   "codemirror_mode": {
    "name": "ipython",
    "version": 3
   },
   "file_extension": ".py",
   "mimetype": "text/x-python",
   "name": "python",
   "nbconvert_exporter": "python",
   "pygments_lexer": "ipython3",
   "version": "3.5.1"
  }
 },
 "nbformat": 4,
 "nbformat_minor": 0
}
